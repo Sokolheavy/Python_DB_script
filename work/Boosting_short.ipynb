{
 "cells": [
  {
   "cell_type": "code",
   "execution_count": 305,
   "metadata": {},
   "outputs": [],
   "source": [
    "import numpy as np\n",
    "import pandas as pd\n",
    "\n",
    "import datetime\n",
    "from sklearn.model_selection import train_test_split\n",
    "from sklearn.model_selection import cross_val_score\n",
    "\n",
    "\n",
    "from scipy import stats\n",
    "from sklearn import preprocessing \n",
    "from sklearn.preprocessing import MinMaxScaler\n",
    "from sklearn.metrics.scorer import make_scorer\n",
    "from sklearn.model_selection import GridSearchCV\n",
    "import statsmodels\n",
    "from sklearn.compose import ColumnTransformer\n",
    "import statsmodels.api as sm\n",
    "from statsmodels.formula.api import ols\n",
    "\n",
    "import matplotlib.pyplot as plt \n",
    "import seaborn as sns\n",
    "from pandas import Timestamp\n",
    "\n",
    "from sklearn.linear_model import Ridge\n",
    "from sklearn.linear_model import Lasso\n",
    "from sklearn.svm import SVR\n",
    "\n",
    "import xgboost as xgb\n",
    "from xgboost import XGBRegressor \n",
    "from xgboost.sklearn import XGBClassifier # sklearn’s Grid Search with parallel processing\n",
    "from xgboost import plot_importance\n",
    "from sklearn.model_selection import GridSearchCV\n",
    "import lightgbm as lgb\n",
    "from catboost import CatBoostRegressor\n",
    "\n",
    "# import warnings\n",
    "# warnings.filterwarnings('ignore')"
   ]
  },
  {
   "cell_type": "code",
   "execution_count": 306,
   "metadata": {},
   "outputs": [],
   "source": [
    "data = pd.read_csv('DF_File_sample.csv')\n",
    "data['SKU_Customer'] = data['DemandCustomer'] + data['SKU10']\n",
    "data.drop(['DemandCustomer', 'SKU10'], axis =1, inplace = True)"
   ]
  },
  {
   "cell_type": "code",
   "execution_count": 25,
   "metadata": {},
   "outputs": [
    {
     "data": {
      "text/plain": [
       "Brand           category\n",
       "Year               int64\n",
       "Quarter            int64\n",
       "Month_No           int64\n",
       "Week_No            int64\n",
       "Sales            float64\n",
       "W_Nielsen        float64\n",
       "SKU_Customer    category\n",
       "dtype: object"
      ]
     },
     "execution_count": 25,
     "metadata": {},
     "output_type": "execute_result"
    }
   ],
   "source": [
    "data.dtypes"
   ]
  },
  {
   "cell_type": "code",
   "execution_count": 268,
   "metadata": {},
   "outputs": [],
   "source": [
    "cat_var = [data.columns.get_loc(c) for c in data.columns if data.loc[:, c].dtypes=='object']"
   ]
  },
  {
   "cell_type": "code",
   "execution_count": 307,
   "metadata": {},
   "outputs": [],
   "source": [
    "le = preprocessing.LabelEncoder()\n",
    "\n",
    "for i in cat_var:\n",
    "    data.iloc[:, i] = le.fit_transform(data.iloc[:, i])"
   ]
  },
  {
   "cell_type": "code",
   "execution_count": 283,
   "metadata": {},
   "outputs": [],
   "source": [
    "for c in cat_var:\n",
    "    data.iloc[:, c] = pd.Categorical(data.iloc[:,c])"
   ]
  },
  {
   "cell_type": "code",
   "execution_count": 308,
   "metadata": {},
   "outputs": [],
   "source": [
    "data['year_week'] = data['Year'].astype(str) + '-' + data['Week_No'].astype(str)\n",
    "data['pre_date'] = data['year_week'].apply(lambda x: datetime.datetime.strptime(x + '-4',  \"%G-%V-%w\"))"
   ]
  },
  {
   "cell_type": "code",
   "execution_count": 309,
   "metadata": {},
   "outputs": [],
   "source": [
    "first_null = data.groupby('pre_date').Sales.sum().loc[lambda x: x == 0].sort_values().index[0]\n",
    "data = data[data.pre_date < first_null]"
   ]
  },
  {
   "cell_type": "code",
   "execution_count": 279,
   "metadata": {},
   "outputs": [],
   "source": [
    "first_26_week = pd.Series(sorted(data['pre_date'].unique())).iloc[-26]"
   ]
  },
  {
   "cell_type": "code",
   "execution_count": 290,
   "metadata": {},
   "outputs": [],
   "source": [
    "first_34_week = pd.Series(sorted(data['pre_date'].unique())).iloc[-34]"
   ]
  },
  {
   "cell_type": "code",
   "execution_count": 310,
   "metadata": {},
   "outputs": [
    {
     "name": "stderr",
     "output_type": "stream",
     "text": [
      "C:\\Users\\user\\Anaconda3\\lib\\site-packages\\pandas\\core\\frame.py:4102: SettingWithCopyWarning: \n",
      "A value is trying to be set on a copy of a slice from a DataFrame\n",
      "\n",
      "See the caveats in the documentation: http://pandas.pydata.org/pandas-docs/stable/user_guide/indexing.html#returning-a-view-versus-a-copy\n",
      "  errors=errors,\n"
     ]
    }
   ],
   "source": [
    "train = data[data['pre_date'] < first_34_week]\n",
    "test = data[data['pre_date'] >= first_26_week]\n",
    "data.drop(['pre_date', 'year_week'], axis =1, inplace = True)\n",
    "train.drop(['pre_date', 'year_week'], axis =1, inplace = True)\n",
    "test.drop(['pre_date', 'year_week'], axis =1, inplace = True)"
   ]
  },
  {
   "cell_type": "code",
   "execution_count": 311,
   "metadata": {},
   "outputs": [],
   "source": [
    "X_train, X_test, y_train, y_test = train_test_split(train.loc[:, train.columns!='Sales'], train['Sales'], test_size=0.33, random_state=42)"
   ]
  },
  {
   "cell_type": "code",
   "execution_count": 293,
   "metadata": {},
   "outputs": [],
   "source": [
    "X_train_c, X_test_c, y_train_c, y_test_c = train_test_split(train.loc[:, train.columns!='Sales'], train['Sales'], test_size=0.33, random_state=42)"
   ]
  },
  {
   "cell_type": "code",
   "execution_count": 312,
   "metadata": {},
   "outputs": [],
   "source": [
    "norm_scaler = preprocessing.StandardScaler()\n",
    "min_max_scaler = preprocessing.MinMaxScaler() # [0, 1]\n",
    "max_abs_scaler = preprocessing.MaxAbsScaler() # [-1, 1]\n",
    "\n",
    "X_train_scaled = norm_scaler.fit_transform(X_train)\n",
    "X_test_scaled = norm_scaler.transform(X_test)"
   ]
  },
  {
   "cell_type": "code",
   "execution_count": 255,
   "metadata": {},
   "outputs": [],
   "source": [
    "def scale_by_col(df, scaler):\n",
    "    for var in df.select_dtypes(['number']).columns:\n",
    "        df[var] = scaler.fit_transform(df[var].values.reshape(-1,1))\n",
    "    return df"
   ]
  },
  {
   "cell_type": "code",
   "execution_count": 294,
   "metadata": {},
   "outputs": [],
   "source": [
    "X_train_с_scaled = scale_by_col(X_train_c, norm_scaler)\n",
    "X_test_c_scaled = scale_by_col(X_test_c, norm_scaler)"
   ]
  },
  {
   "cell_type": "code",
   "execution_count": 257,
   "metadata": {},
   "outputs": [
    {
     "data": {
      "text/plain": [
       "Brand           category\n",
       "Year             float64\n",
       "Quarter          float64\n",
       "Month_No         float64\n",
       "Week_No          float64\n",
       "W_Nielsen        float64\n",
       "SKU_Customer    category\n",
       "dtype: object"
      ]
     },
     "execution_count": 257,
     "metadata": {},
     "output_type": "execute_result"
    }
   ],
   "source": [
    "X_train_c_scaled.dtypes"
   ]
  },
  {
   "cell_type": "code",
   "execution_count": 258,
   "metadata": {},
   "outputs": [],
   "source": [
    "def mean_absolute_percentage_error(y_true, y_pred): \n",
    "    y_true, y_pred = np.array(y_true), np.array(y_pred)\n",
    "    return (np.mean(np.abs((y_true - y_pred))) * 100 / np.mean(np.abs((y_true)))) "
   ]
  },
  {
   "cell_type": "markdown",
   "metadata": {},
   "source": [
    "# Modeling:"
   ]
  },
  {
   "cell_type": "markdown",
   "metadata": {},
   "source": [
    "## Lightgbm(mape):"
   ]
  },
  {
   "cell_type": "code",
   "execution_count": 318,
   "metadata": {},
   "outputs": [
    {
     "name": "stderr",
     "output_type": "stream",
     "text": [
      "C:\\Users\\user\\Anaconda3\\lib\\site-packages\\sklearn\\model_selection\\_split.py:1978: FutureWarning: The default value of cv will change from 3 to 5 in version 0.22. Specify it explicitly to silence this warning.\n",
      "  warnings.warn(CV_WARNING, FutureWarning)\n"
     ]
    },
    {
     "name": "stdout",
     "output_type": "stream",
     "text": [
      "lightgbm mape: 49.66984845372074 {'learning_rate': 0.15, 'max_depth': 7, 'n_estimators': 155, 'num_leaves': 9}\n"
     ]
    }
   ],
   "source": [
    "param_grid = {\n",
    "    'n_estimators' : list(range(140, 160,5)),\n",
    "    'num_leaves': list(range(7,10, 1)),\n",
    "    # 'min_data_in_leaf': [10, 20, 40, 60, 100],\n",
    "    'max_depth': [2, 4, 6, 7, 8],\n",
    "    'learning_rate': [0.14, .15,0.16]}\n",
    "    # 'bagging_freq': [3, 4, 5, 6, 7],\n",
    "    # 'bagging_fraction': np.linspace(0.6, 0.95, 10),\n",
    "    # 'reg_alpha': np.linspace(0.1, 0.95, 10),\n",
    "    # 'reg_lambda': np.linspace(0.1, 0.95, 10)\n",
    "                                                  \n",
    "scorer = make_scorer(mean_absolute_percentage_error, greater_is_better = False)   \n",
    "gbm = GridSearchCV(lgb.LGBMRegressor(cat_features= cat_var), \n",
    "                   param_grid, \n",
    "                   scoring = scorer, n_jobs = -2)\n",
    "\n",
    "\n",
    "gbm.fit(X_train_scaled, y_train)\n",
    "\n",
    "print(\"lightgbm mape:\", mean_absolute_percentage_error(y_test, gbm.predict(X_test_scaled)), gbm.best_params_)"
   ]
  },
  {
   "cell_type": "markdown",
   "metadata": {},
   "source": [
    "### Tunning other parameters:"
   ]
  },
  {
   "cell_type": "code",
   "execution_count": 321,
   "metadata": {},
   "outputs": [
    {
     "name": "stderr",
     "output_type": "stream",
     "text": [
      "C:\\Users\\user\\Anaconda3\\lib\\site-packages\\sklearn\\model_selection\\_split.py:1978: FutureWarning: The default value of cv will change from 3 to 5 in version 0.22. Specify it explicitly to silence this warning.\n",
      "  warnings.warn(CV_WARNING, FutureWarning)\n"
     ]
    },
    {
     "name": "stdout",
     "output_type": "stream",
     "text": [
      "lightgbm mape: 49.59330549097811 {'learning_rate': 0.15, 'max_depth': 7, 'min_data_in_leaf': 10, 'n_estimators': 155, 'num_leaves': 9, 'reg_alpha': 1.0, 'reg_lambda': 0.6666666666666666}\n"
     ]
    }
   ],
   "source": [
    "param_grid = {\n",
    "    'n_estimators' : [155],\n",
    "    'num_leaves': [9],\n",
    "    'min_data_in_leaf': [9, 10, 11, 12, 13],\n",
    "    'max_depth': [7],\n",
    "    'learning_rate': [.15],\n",
    "    # 'bagging_freq': [3, 4, 5, 6, 7],\n",
    "    # 'bagging_fraction': np.linspace(0.6, 0.95, 10),\n",
    "    'reg_alpha': np.linspace(0.1, 1, 10),\n",
    "    'reg_lambda': np.linspace(0.1, 0.95, 10)}\n",
    "                                                  \n",
    "scorer = make_scorer(mean_absolute_percentage_error, greater_is_better = False)   \n",
    "gbm = GridSearchCV(lgb.LGBMRegressor(cat_features= cat_var), \n",
    "                   param_grid, \n",
    "                   scoring = scorer, n_jobs = -2)\n",
    "\n",
    "\n",
    "gbm.fit(X_train_scaled, y_train)\n",
    "\n",
    "print(\"lightgbm mape:\", mean_absolute_percentage_error(y_test, gbm.predict(X_test_scaled)), gbm.best_params_)"
   ]
  },
  {
   "cell_type": "code",
   "execution_count": null,
   "metadata": {},
   "outputs": [],
   "source": []
  },
  {
   "cell_type": "code",
   "execution_count": null,
   "metadata": {},
   "outputs": [],
   "source": []
  },
  {
   "cell_type": "code",
   "execution_count": null,
   "metadata": {},
   "outputs": [],
   "source": []
  },
  {
   "cell_type": "code",
   "execution_count": null,
   "metadata": {},
   "outputs": [],
   "source": []
  },
  {
   "cell_type": "code",
   "execution_count": null,
   "metadata": {},
   "outputs": [],
   "source": []
  }
 ],
 "metadata": {
  "kernelspec": {
   "display_name": "Python 3",
   "language": "python",
   "name": "python3"
  },
  "language_info": {
   "codemirror_mode": {
    "name": "ipython",
    "version": 3
   },
   "file_extension": ".py",
   "mimetype": "text/x-python",
   "name": "python",
   "nbconvert_exporter": "python",
   "pygments_lexer": "ipython3",
   "version": "3.7.3"
  }
 },
 "nbformat": 4,
 "nbformat_minor": 2
}
