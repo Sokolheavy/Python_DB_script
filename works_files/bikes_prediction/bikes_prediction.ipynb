{
 "cells": [
  {
   "cell_type": "markdown",
   "metadata": {},
   "source": [
    "## About Dataset"
   ]
  },
  {
   "cell_type": "markdown",
   "metadata": {},
   "source": [
    "\n",
    "#### **Data Fields**\n",
    "\n",
    "* datetime - hourly date + timestamp  \n",
    "* season -  1 = spring, 2 = summer, 3 = fall, 4 = winter \n",
    "* holiday - whether the day is considered a holiday\n",
    "* workingday - whether the day is neither a weekend nor holiday\n",
    "* weather - \n",
    "    * 1: Clear, Few clouds, Partly cloudy, Partly cloudy\n",
    "    * 2: Mist + Cloudy, Mist + Broken clouds, Mist + Few clouds, Mist\n",
    "    * 3: Light Snow, Light Rain + Thunderstorm + Scattered clouds, Light Rain + Scattered clouds\n",
    "    * 4: Heavy Rain + Ice Pallets + Thunderstorm + Mist, Snow + Fog \n",
    "* temp - temperature in Celsius\n",
    "* atemp - \"feels like\" temperature in Celsius\n",
    "* humidity - relative humidity\n",
    "* windspeed - wind speed\n",
    "* casual - number of non-registered user rentals initiated\n",
    "* registered - number of registered user rentals initiated\n",
    "* count - number of total rentals (Dependent Variable)"
   ]
  },
  {
   "cell_type": "code",
   "execution_count": 1,
   "metadata": {},
   "outputs": [],
   "source": [
    "import os\n",
    "import pylab\n",
    "import calendar\n",
    "import numpy as np\n",
    "import pandas as pd\n",
    "import seaborn as sn\n",
    "from scipy import stats\n",
    "import missingno as msno\n",
    "from datetime import datetime as dt\n",
    "import matplotlib.pyplot as plt\n",
    "import warnings\n",
    "pd.options.mode.chained_assignment = None\n",
    "warnings.filterwarnings(\"ignore\", category=DeprecationWarning)\n",
    "%matplotlib inline"
   ]
  },
  {
   "cell_type": "code",
   "execution_count": 2,
   "metadata": {},
   "outputs": [],
   "source": [
    "from sklearn.preprocessing import MinMaxScaler, MaxAbsScaler, RobustScaler, StandardScaler\n",
    "from sklearn.model_selection import train_test_split\n",
    "from sklearn.pipeline import make_pipeline, make_union\n",
    "from sklearn.metrics import mean_absolute_error"
   ]
  },
  {
   "cell_type": "code",
   "execution_count": 3,
   "metadata": {},
   "outputs": [],
   "source": [
    "from sklearn.model_selection import RandomizedSearchCV,GridSearchCV, GroupKFold\n",
    "from sklearn.model_selection import cross_val_score,cross_val_predict\n",
    "from sklearn.preprocessing import LabelEncoder\n",
    "from sklearn.metrics.scorer import make_scorer"
   ]
  },
  {
   "cell_type": "code",
   "execution_count": 4,
   "metadata": {},
   "outputs": [],
   "source": [
    "from datetime import datetime, timedelta, timezone"
   ]
  },
  {
   "cell_type": "code",
   "execution_count": 101,
   "metadata": {},
   "outputs": [],
   "source": [
    "from tbats import BATS, TBATS\n",
    "from statsmodels.tsa.api import ExponentialSmoothing, SimpleExpSmoothing, Holt"
   ]
  },
  {
   "cell_type": "markdown",
   "metadata": {},
   "source": [
    "#### **Load dataset**"
   ]
  },
  {
   "cell_type": "code",
   "execution_count": 6,
   "metadata": {},
   "outputs": [],
   "source": [
    "# os.getcwd()"
   ]
  },
  {
   "cell_type": "code",
   "execution_count": 7,
   "metadata": {},
   "outputs": [],
   "source": [
    "dailyData = pd.read_csv(\"https://raw.githubusercontent.com/Sokolheavy/Python_DB_script/master/works_files/bikes_prediction/dailyData.csv\", \n",
    "                        parse_dates = ['dteday'],\n",
    "                        infer_datetime_format = True)   "
   ]
  },
  {
   "cell_type": "code",
   "execution_count": 8,
   "metadata": {},
   "outputs": [
    {
     "data": {
      "text/html": [
       "<div>\n",
       "<style scoped>\n",
       "    .dataframe tbody tr th:only-of-type {\n",
       "        vertical-align: middle;\n",
       "    }\n",
       "\n",
       "    .dataframe tbody tr th {\n",
       "        vertical-align: top;\n",
       "    }\n",
       "\n",
       "    .dataframe thead th {\n",
       "        text-align: right;\n",
       "    }\n",
       "</style>\n",
       "<table border=\"1\" class=\"dataframe\">\n",
       "  <thead>\n",
       "    <tr style=\"text-align: right;\">\n",
       "      <th></th>\n",
       "      <th>Unnamed: 0</th>\n",
       "      <th>dteday</th>\n",
       "      <th>season</th>\n",
       "      <th>hr</th>\n",
       "      <th>holiday</th>\n",
       "      <th>weekday</th>\n",
       "      <th>workingday</th>\n",
       "      <th>weathersit</th>\n",
       "      <th>temp</th>\n",
       "      <th>atemp</th>\n",
       "      <th>hum</th>\n",
       "      <th>windspeed</th>\n",
       "      <th>casual</th>\n",
       "      <th>registered</th>\n",
       "      <th>cnt</th>\n",
       "    </tr>\n",
       "  </thead>\n",
       "  <tbody>\n",
       "    <tr>\n",
       "      <th>0</th>\n",
       "      <td>0</td>\n",
       "      <td>2011-01-01</td>\n",
       "      <td>1</td>\n",
       "      <td>0</td>\n",
       "      <td>0</td>\n",
       "      <td>6</td>\n",
       "      <td>0</td>\n",
       "      <td>1</td>\n",
       "      <td>0.24</td>\n",
       "      <td>0.2879</td>\n",
       "      <td>0.81</td>\n",
       "      <td>0.0</td>\n",
       "      <td>3</td>\n",
       "      <td>13</td>\n",
       "      <td>16</td>\n",
       "    </tr>\n",
       "    <tr>\n",
       "      <th>1</th>\n",
       "      <td>1</td>\n",
       "      <td>2011-01-01</td>\n",
       "      <td>1</td>\n",
       "      <td>1</td>\n",
       "      <td>0</td>\n",
       "      <td>6</td>\n",
       "      <td>0</td>\n",
       "      <td>1</td>\n",
       "      <td>0.22</td>\n",
       "      <td>0.2727</td>\n",
       "      <td>0.80</td>\n",
       "      <td>0.0</td>\n",
       "      <td>8</td>\n",
       "      <td>32</td>\n",
       "      <td>40</td>\n",
       "    </tr>\n",
       "    <tr>\n",
       "      <th>2</th>\n",
       "      <td>2</td>\n",
       "      <td>2011-01-01</td>\n",
       "      <td>1</td>\n",
       "      <td>2</td>\n",
       "      <td>0</td>\n",
       "      <td>6</td>\n",
       "      <td>0</td>\n",
       "      <td>1</td>\n",
       "      <td>0.22</td>\n",
       "      <td>0.2727</td>\n",
       "      <td>0.80</td>\n",
       "      <td>0.0</td>\n",
       "      <td>5</td>\n",
       "      <td>27</td>\n",
       "      <td>32</td>\n",
       "    </tr>\n",
       "    <tr>\n",
       "      <th>3</th>\n",
       "      <td>3</td>\n",
       "      <td>2011-01-01</td>\n",
       "      <td>1</td>\n",
       "      <td>3</td>\n",
       "      <td>0</td>\n",
       "      <td>6</td>\n",
       "      <td>0</td>\n",
       "      <td>1</td>\n",
       "      <td>0.24</td>\n",
       "      <td>0.2879</td>\n",
       "      <td>0.75</td>\n",
       "      <td>0.0</td>\n",
       "      <td>3</td>\n",
       "      <td>10</td>\n",
       "      <td>13</td>\n",
       "    </tr>\n",
       "    <tr>\n",
       "      <th>4</th>\n",
       "      <td>4</td>\n",
       "      <td>2011-01-01</td>\n",
       "      <td>1</td>\n",
       "      <td>4</td>\n",
       "      <td>0</td>\n",
       "      <td>6</td>\n",
       "      <td>0</td>\n",
       "      <td>1</td>\n",
       "      <td>0.24</td>\n",
       "      <td>0.2879</td>\n",
       "      <td>0.75</td>\n",
       "      <td>0.0</td>\n",
       "      <td>0</td>\n",
       "      <td>1</td>\n",
       "      <td>1</td>\n",
       "    </tr>\n",
       "  </tbody>\n",
       "</table>\n",
       "</div>"
      ],
      "text/plain": [
       "   Unnamed: 0     dteday  season  hr  holiday  weekday  workingday  \\\n",
       "0           0 2011-01-01       1   0        0        6           0   \n",
       "1           1 2011-01-01       1   1        0        6           0   \n",
       "2           2 2011-01-01       1   2        0        6           0   \n",
       "3           3 2011-01-01       1   3        0        6           0   \n",
       "4           4 2011-01-01       1   4        0        6           0   \n",
       "\n",
       "   weathersit  temp   atemp   hum  windspeed  casual  registered  cnt  \n",
       "0           1  0.24  0.2879  0.81        0.0       3          13   16  \n",
       "1           1  0.22  0.2727  0.80        0.0       8          32   40  \n",
       "2           1  0.22  0.2727  0.80        0.0       5          27   32  \n",
       "3           1  0.24  0.2879  0.75        0.0       3          10   13  \n",
       "4           1  0.24  0.2879  0.75        0.0       0           1    1  "
      ]
     },
     "execution_count": 8,
     "metadata": {},
     "output_type": "execute_result"
    }
   ],
   "source": [
    "dailyData.head()"
   ]
  },
  {
   "cell_type": "code",
   "execution_count": 9,
   "metadata": {},
   "outputs": [],
   "source": [
    "dailyData.drop('Unnamed: 0', axis = 1, inplace = True)"
   ]
  },
  {
   "cell_type": "markdown",
   "metadata": {},
   "source": [
    "## Data Summary"
   ]
  },
  {
   "cell_type": "markdown",
   "metadata": {},
   "source": [
    "#### **Shape Of The Dataset**"
   ]
  },
  {
   "cell_type": "code",
   "execution_count": 10,
   "metadata": {},
   "outputs": [
    {
     "data": {
      "text/plain": [
       "(17379, 14)"
      ]
     },
     "execution_count": 10,
     "metadata": {},
     "output_type": "execute_result"
    }
   ],
   "source": [
    "dailyData.shape"
   ]
  },
  {
   "cell_type": "markdown",
   "metadata": {},
   "source": [
    "#### **Sample Of First Few Rows**"
   ]
  },
  {
   "cell_type": "markdown",
   "metadata": {},
   "source": [
    "#### **Variables Data Type**"
   ]
  },
  {
   "cell_type": "code",
   "execution_count": 11,
   "metadata": {},
   "outputs": [
    {
     "data": {
      "text/plain": [
       "dteday        datetime64[ns]\n",
       "season                 int64\n",
       "hr                     int64\n",
       "holiday                int64\n",
       "weekday                int64\n",
       "workingday             int64\n",
       "weathersit             int64\n",
       "temp                 float64\n",
       "atemp                float64\n",
       "hum                  float64\n",
       "windspeed            float64\n",
       "casual                 int64\n",
       "registered             int64\n",
       "cnt                    int64\n",
       "dtype: object"
      ]
     },
     "execution_count": 11,
     "metadata": {},
     "output_type": "execute_result"
    }
   ],
   "source": [
    "dailyData.dtypes"
   ]
  },
  {
   "cell_type": "code",
   "execution_count": 12,
   "metadata": {},
   "outputs": [
    {
     "data": {
      "text/html": [
       "<div>\n",
       "<style scoped>\n",
       "    .dataframe tbody tr th:only-of-type {\n",
       "        vertical-align: middle;\n",
       "    }\n",
       "\n",
       "    .dataframe tbody tr th {\n",
       "        vertical-align: top;\n",
       "    }\n",
       "\n",
       "    .dataframe thead th {\n",
       "        text-align: right;\n",
       "    }\n",
       "</style>\n",
       "<table border=\"1\" class=\"dataframe\">\n",
       "  <thead>\n",
       "    <tr style=\"text-align: right;\">\n",
       "      <th></th>\n",
       "      <th>season</th>\n",
       "      <th>hr</th>\n",
       "      <th>holiday</th>\n",
       "      <th>weekday</th>\n",
       "      <th>workingday</th>\n",
       "      <th>weathersit</th>\n",
       "      <th>temp</th>\n",
       "      <th>atemp</th>\n",
       "      <th>hum</th>\n",
       "      <th>windspeed</th>\n",
       "      <th>casual</th>\n",
       "      <th>registered</th>\n",
       "      <th>cnt</th>\n",
       "    </tr>\n",
       "  </thead>\n",
       "  <tbody>\n",
       "    <tr>\n",
       "      <th>count</th>\n",
       "      <td>17379.000000</td>\n",
       "      <td>17379.000000</td>\n",
       "      <td>17379.000000</td>\n",
       "      <td>17379.000000</td>\n",
       "      <td>17379.000000</td>\n",
       "      <td>17379.000000</td>\n",
       "      <td>17379.000000</td>\n",
       "      <td>17379.000000</td>\n",
       "      <td>17379.000000</td>\n",
       "      <td>17379.000000</td>\n",
       "      <td>17379.000000</td>\n",
       "      <td>17379.000000</td>\n",
       "      <td>17379.000000</td>\n",
       "    </tr>\n",
       "    <tr>\n",
       "      <th>mean</th>\n",
       "      <td>2.501640</td>\n",
       "      <td>11.546752</td>\n",
       "      <td>0.028770</td>\n",
       "      <td>3.003683</td>\n",
       "      <td>0.682721</td>\n",
       "      <td>1.425283</td>\n",
       "      <td>0.496987</td>\n",
       "      <td>0.475775</td>\n",
       "      <td>0.627229</td>\n",
       "      <td>0.190098</td>\n",
       "      <td>35.676218</td>\n",
       "      <td>153.786869</td>\n",
       "      <td>189.463088</td>\n",
       "    </tr>\n",
       "    <tr>\n",
       "      <th>std</th>\n",
       "      <td>1.106918</td>\n",
       "      <td>6.914405</td>\n",
       "      <td>0.167165</td>\n",
       "      <td>2.005771</td>\n",
       "      <td>0.465431</td>\n",
       "      <td>0.639357</td>\n",
       "      <td>0.192556</td>\n",
       "      <td>0.171850</td>\n",
       "      <td>0.192930</td>\n",
       "      <td>0.122340</td>\n",
       "      <td>49.305030</td>\n",
       "      <td>151.357286</td>\n",
       "      <td>181.387599</td>\n",
       "    </tr>\n",
       "    <tr>\n",
       "      <th>min</th>\n",
       "      <td>1.000000</td>\n",
       "      <td>0.000000</td>\n",
       "      <td>0.000000</td>\n",
       "      <td>0.000000</td>\n",
       "      <td>0.000000</td>\n",
       "      <td>1.000000</td>\n",
       "      <td>0.020000</td>\n",
       "      <td>0.000000</td>\n",
       "      <td>0.000000</td>\n",
       "      <td>0.000000</td>\n",
       "      <td>0.000000</td>\n",
       "      <td>0.000000</td>\n",
       "      <td>1.000000</td>\n",
       "    </tr>\n",
       "    <tr>\n",
       "      <th>25%</th>\n",
       "      <td>2.000000</td>\n",
       "      <td>6.000000</td>\n",
       "      <td>0.000000</td>\n",
       "      <td>1.000000</td>\n",
       "      <td>0.000000</td>\n",
       "      <td>1.000000</td>\n",
       "      <td>0.340000</td>\n",
       "      <td>0.333300</td>\n",
       "      <td>0.480000</td>\n",
       "      <td>0.104500</td>\n",
       "      <td>4.000000</td>\n",
       "      <td>34.000000</td>\n",
       "      <td>40.000000</td>\n",
       "    </tr>\n",
       "    <tr>\n",
       "      <th>50%</th>\n",
       "      <td>3.000000</td>\n",
       "      <td>12.000000</td>\n",
       "      <td>0.000000</td>\n",
       "      <td>3.000000</td>\n",
       "      <td>1.000000</td>\n",
       "      <td>1.000000</td>\n",
       "      <td>0.500000</td>\n",
       "      <td>0.484800</td>\n",
       "      <td>0.630000</td>\n",
       "      <td>0.194000</td>\n",
       "      <td>17.000000</td>\n",
       "      <td>115.000000</td>\n",
       "      <td>142.000000</td>\n",
       "    </tr>\n",
       "    <tr>\n",
       "      <th>75%</th>\n",
       "      <td>3.000000</td>\n",
       "      <td>18.000000</td>\n",
       "      <td>0.000000</td>\n",
       "      <td>5.000000</td>\n",
       "      <td>1.000000</td>\n",
       "      <td>2.000000</td>\n",
       "      <td>0.660000</td>\n",
       "      <td>0.621200</td>\n",
       "      <td>0.780000</td>\n",
       "      <td>0.253700</td>\n",
       "      <td>48.000000</td>\n",
       "      <td>220.000000</td>\n",
       "      <td>281.000000</td>\n",
       "    </tr>\n",
       "    <tr>\n",
       "      <th>max</th>\n",
       "      <td>4.000000</td>\n",
       "      <td>23.000000</td>\n",
       "      <td>1.000000</td>\n",
       "      <td>6.000000</td>\n",
       "      <td>1.000000</td>\n",
       "      <td>4.000000</td>\n",
       "      <td>1.000000</td>\n",
       "      <td>1.000000</td>\n",
       "      <td>1.000000</td>\n",
       "      <td>0.850700</td>\n",
       "      <td>367.000000</td>\n",
       "      <td>886.000000</td>\n",
       "      <td>977.000000</td>\n",
       "    </tr>\n",
       "  </tbody>\n",
       "</table>\n",
       "</div>"
      ],
      "text/plain": [
       "             season            hr       holiday       weekday    workingday  \\\n",
       "count  17379.000000  17379.000000  17379.000000  17379.000000  17379.000000   \n",
       "mean       2.501640     11.546752      0.028770      3.003683      0.682721   \n",
       "std        1.106918      6.914405      0.167165      2.005771      0.465431   \n",
       "min        1.000000      0.000000      0.000000      0.000000      0.000000   \n",
       "25%        2.000000      6.000000      0.000000      1.000000      0.000000   \n",
       "50%        3.000000     12.000000      0.000000      3.000000      1.000000   \n",
       "75%        3.000000     18.000000      0.000000      5.000000      1.000000   \n",
       "max        4.000000     23.000000      1.000000      6.000000      1.000000   \n",
       "\n",
       "         weathersit          temp         atemp           hum     windspeed  \\\n",
       "count  17379.000000  17379.000000  17379.000000  17379.000000  17379.000000   \n",
       "mean       1.425283      0.496987      0.475775      0.627229      0.190098   \n",
       "std        0.639357      0.192556      0.171850      0.192930      0.122340   \n",
       "min        1.000000      0.020000      0.000000      0.000000      0.000000   \n",
       "25%        1.000000      0.340000      0.333300      0.480000      0.104500   \n",
       "50%        1.000000      0.500000      0.484800      0.630000      0.194000   \n",
       "75%        2.000000      0.660000      0.621200      0.780000      0.253700   \n",
       "max        4.000000      1.000000      1.000000      1.000000      0.850700   \n",
       "\n",
       "             casual    registered           cnt  \n",
       "count  17379.000000  17379.000000  17379.000000  \n",
       "mean      35.676218    153.786869    189.463088  \n",
       "std       49.305030    151.357286    181.387599  \n",
       "min        0.000000      0.000000      1.000000  \n",
       "25%        4.000000     34.000000     40.000000  \n",
       "50%       17.000000    115.000000    142.000000  \n",
       "75%       48.000000    220.000000    281.000000  \n",
       "max      367.000000    886.000000    977.000000  "
      ]
     },
     "execution_count": 12,
     "metadata": {},
     "output_type": "execute_result"
    }
   ],
   "source": [
    "dailyData.describe()"
   ]
  },
  {
   "cell_type": "markdown",
   "metadata": {},
   "source": [
    "## Feature Engineering"
   ]
  },
  {
   "cell_type": "markdown",
   "metadata": {},
   "source": [
    "#### **Creating New Columns From \"Datetime\" Column**"
   ]
  },
  {
   "cell_type": "code",
   "execution_count": 13,
   "metadata": {},
   "outputs": [],
   "source": [
    "dailyData.rename(columns = {'dteday': 'date'}, inplace = True)"
   ]
  },
  {
   "cell_type": "code",
   "execution_count": 14,
   "metadata": {},
   "outputs": [],
   "source": [
    "dailyData['week'] = pd.to_datetime(dailyData.date, '%G%V').dt.week\n",
    "# dailyData['week2'] = dailyData.date.dt.week"
   ]
  },
  {
   "cell_type": "code",
   "execution_count": 15,
   "metadata": {},
   "outputs": [],
   "source": [
    "dailyData['weekday'] = dailyData['date'].apply(lambda x: x.weekday())\n",
    "dailyData['month'] = dailyData.date.dt.month\n",
    "dailyData['workingday'] = np.where((dailyData.month > 5) | (dailyData.holiday == 1), 0, 1)\n",
    "dailyData['year'] = dailyData.date.dt.year\n",
    "dailyData['quarter'] = dailyData.date.dt.quarter\n",
    "dailyData['season'] = dailyData.date.dt.month.apply(lambda x: (x%12 +3)//3)"
   ]
  },
  {
   "cell_type": "raw",
   "metadata": {},
   "source": [
    "dailyData[\"season\"] = dailyData.season.map({1: \"Spring\", 2 : \"Summer\", 3 : \"Fall\", 4 :\"Winter\" })\n",
    "dailyData[\"weather\"] = dailyData.weather.map({1: \" Clear + Few clouds + Partly cloudy + Partly cloudy\",\\\n",
    "                                        2r: \" Mist + Cloudy, Mist + Broken clouds, Mist + Few clouds, Mist \", \\\n",
    "                                        3 : \" Light Snow, Light Rain + Thunderstorm + Scattered clouds, Light Rain + Scattered clouds\", \\\n",
    "                                        4 :\" Heavy Rain + Ice Pallets + Thunderstorm + Mist, Snow + Fog \" })"
   ]
  },
  {
   "cell_type": "code",
   "execution_count": 16,
   "metadata": {},
   "outputs": [],
   "source": [
    "dailyData['week_cat'] = dailyData['week'].astype(str)\n",
    "dailyData['weekday_cat'] = dailyData['weekday'].astype(str)\n",
    "dailyData['month_cat'] = dailyData['month'].astype(str)\n",
    "dailyData['year_cat'] = dailyData['year'].astype(str)\n",
    "dailyData['quarter_cat'] = dailyData['quarter'].astype(str)\n",
    "dailyData['season_cat'] = dailyData['season'].astype(str) "
   ]
  },
  {
   "cell_type": "code",
   "execution_count": 17,
   "metadata": {},
   "outputs": [
    {
     "data": {
      "text/plain": [
       "date           datetime64[ns]\n",
       "season                  int64\n",
       "hr                      int64\n",
       "holiday                 int64\n",
       "weekday                 int64\n",
       "workingday              int32\n",
       "weathersit              int64\n",
       "temp                  float64\n",
       "atemp                 float64\n",
       "hum                   float64\n",
       "windspeed             float64\n",
       "casual                  int64\n",
       "registered              int64\n",
       "cnt                     int64\n",
       "week                    int64\n",
       "month                   int64\n",
       "year                    int64\n",
       "quarter                 int64\n",
       "week_cat               object\n",
       "weekday_cat            object\n",
       "month_cat              object\n",
       "year_cat               object\n",
       "quarter_cat            object\n",
       "season_cat             object\n",
       "dtype: object"
      ]
     },
     "execution_count": 17,
     "metadata": {},
     "output_type": "execute_result"
    }
   ],
   "source": [
    "dailyData.dtypes"
   ]
  },
  {
   "cell_type": "code",
   "execution_count": 18,
   "metadata": {},
   "outputs": [],
   "source": [
    "cat_var = list(dailyData.select_dtypes(include=['object']))"
   ]
  },
  {
   "cell_type": "code",
   "execution_count": 19,
   "metadata": {},
   "outputs": [
    {
     "data": {
      "text/plain": [
       "['week_cat',\n",
       " 'weekday_cat',\n",
       " 'month_cat',\n",
       " 'year_cat',\n",
       " 'quarter_cat',\n",
       " 'season_cat']"
      ]
     },
     "execution_count": 19,
     "metadata": {},
     "output_type": "execute_result"
    }
   ],
   "source": [
    "cat_var"
   ]
  },
  {
   "cell_type": "code",
   "execution_count": 20,
   "metadata": {},
   "outputs": [
    {
     "name": "stdout",
     "output_type": "stream",
     "text": [
      "min_date: 01-Jan-2011, max_date: 31-Dec-2012\n"
     ]
    }
   ],
   "source": [
    "print('min_date: {:%d-%b-%Y}, max_date: {:%d-%b-%Y}'.format(dailyData['date'].min(), dailyData['date'].max()))"
   ]
  },
  {
   "cell_type": "code",
   "execution_count": 21,
   "metadata": {},
   "outputs": [],
   "source": [
    "train_data = dailyData[dailyData['date'] <= '2012-05-31']\n",
    "test_data = dailyData[dailyData['date'] > '2012-05-31']"
   ]
  },
  {
   "cell_type": "markdown",
   "metadata": {},
   "source": [
    "### Additional Feature Engineering"
   ]
  },
  {
   "cell_type": "code",
   "execution_count": 22,
   "metadata": {},
   "outputs": [],
   "source": [
    "def positive_min(x):\n",
    "    return x[x > 0].min()\n",
    "\n",
    "positive_min.__name__ = 'positive_min'\n",
    "\n",
    "def positive_mean(x):\n",
    "    return x[x > 0].mean()\n",
    "\n",
    "positive_mean.__name__ = 'positive_mean'\n",
    "\n",
    "def positive_median(x):\n",
    "    return x[x > 0].median()\n",
    "\n",
    "positive_median.__name__ = 'positive_median'\n",
    "\n",
    "def positive_count(x):\n",
    "    return x[x > 0].max()\n",
    "\n",
    "positive_count.__name__ = 'positive_max'"
   ]
  },
  {
   "cell_type": "code",
   "execution_count": 23,
   "metadata": {},
   "outputs": [],
   "source": [
    "for cat in cat_var:\n",
    "    temp = dailyData.groupby([cat]).agg({'cnt':['mean', 'median', 'max']})\n",
    "    temp.columns = temp.columns.map('.'.join)\n",
    "    temp = temp.add_prefix(cat+'_').reset_index()\n",
    "    historical_data = pd.merge(train_data, temp, how='left', on=[cat])\n",
    "    test_data = pd.merge(test_data, temp, how='left', on=[cat])"
   ]
  },
  {
   "cell_type": "code",
   "execution_count": 24,
   "metadata": {},
   "outputs": [],
   "source": [
    "comb = ['workingday']"
   ]
  },
  {
   "cell_type": "code",
   "execution_count": 25,
   "metadata": {},
   "outputs": [],
   "source": [
    "temp = historical_data.groupby(comb + ['week_cat']).agg({\"cnt\": ['mean', 'median', 'max']}) # 'describe'\n",
    "temp.columns = temp.columns.map('.'.join)\n",
    "temp = temp.add_prefix('.'.join(comb) +'week_cat').reset_index()\n",
    "historical_data = pd.merge(historical_data, temp, how='left', on=comb + ['week_cat'])\n",
    "test_data = pd.merge(test_data, temp, how='left', on=comb + ['week_cat'])"
   ]
  },
  {
   "cell_type": "code",
   "execution_count": 26,
   "metadata": {},
   "outputs": [],
   "source": [
    "temp = historical_data.groupby(comb + ['month_cat']).agg({\"cnt\": ['mean', 'median', 'max']}) # 'describe'\n",
    "temp.columns = temp.columns.map('.'.join)\n",
    "temp = temp.add_prefix('.'.join(comb) +'_month_cat').reset_index()\n",
    "historical_data = pd.merge(historical_data, temp, how='left', on=comb + ['month_cat'])\n",
    "test_data = pd.merge(test_data, temp, how='left', on=comb + ['month_cat'])"
   ]
  },
  {
   "cell_type": "code",
   "execution_count": 27,
   "metadata": {},
   "outputs": [],
   "source": [
    "temp = historical_data.groupby(comb + ['quarter_cat']).agg({\"cnt\": ['mean', 'median', 'max']}) # 'describe'\n",
    "temp.columns = temp.columns.map('.'.join)\n",
    "temp = temp.add_prefix('.'.join(comb) +'_quarter_cat').reset_index()\n",
    "historical_data = pd.merge(historical_data, temp, how='left', on=comb + ['quarter_cat'])\n",
    "test_data = pd.merge(test_data, temp, how='left', on=comb + ['quarter_cat'])"
   ]
  },
  {
   "cell_type": "code",
   "execution_count": 28,
   "metadata": {},
   "outputs": [],
   "source": [
    "temp = historical_data.groupby(comb + ['season_cat']).agg({\"cnt\": ['mean', 'median', 'max']}) # 'describe'\n",
    "temp.columns = temp.columns.map('.'.join)\n",
    "temp = temp.add_prefix('.'.join(comb) +'_season_cat').reset_index()\n",
    "historical_data = pd.merge(historical_data, temp, how='left', on=comb + ['season_cat'])\n",
    "test_data = pd.merge(test_data, temp, how='left', on=comb + ['season_cat'])"
   ]
  },
  {
   "cell_type": "markdown",
   "metadata": {},
   "source": [
    "### Split train data:"
   ]
  },
  {
   "cell_type": "code",
   "execution_count": 29,
   "metadata": {},
   "outputs": [
    {
     "data": {
      "text/plain": [
       "'f'"
      ]
     },
     "execution_count": 29,
     "metadata": {},
     "output_type": "execute_result"
    }
   ],
   "source": [
    "test_size=0.25\n",
    "np.asarray(test_size).dtype.kind"
   ]
  },
  {
   "cell_type": "code",
   "execution_count": 30,
   "metadata": {},
   "outputs": [
    {
     "data": {
      "text/plain": [
       "'i'"
      ]
     },
     "execution_count": 30,
     "metadata": {},
     "output_type": "execute_result"
    }
   ],
   "source": [
    "test_size=12\n",
    "np.asarray(test_size).dtype.kind"
   ]
  },
  {
   "cell_type": "code",
   "execution_count": 31,
   "metadata": {},
   "outputs": [],
   "source": [
    "train_groups = dailyData.date.sort_values(ascending=True).unique()"
   ]
  },
  {
   "cell_type": "code",
   "execution_count": 32,
   "metadata": {},
   "outputs": [
    {
     "data": {
      "text/plain": [
       "array(['2011-01-01T00:00:00.000000000', '2011-01-02T00:00:00.000000000',\n",
       "       '2011-01-03T00:00:00.000000000', '2011-01-04T00:00:00.000000000',\n",
       "       '2011-01-05T00:00:00.000000000', '2011-01-06T00:00:00.000000000',\n",
       "       '2011-01-07T00:00:00.000000000', '2011-01-08T00:00:00.000000000',\n",
       "       '2011-01-09T00:00:00.000000000', '2011-01-10T00:00:00.000000000',\n",
       "       '2011-01-11T00:00:00.000000000', '2011-01-12T00:00:00.000000000',\n",
       "       '2011-01-13T00:00:00.000000000', '2011-01-14T00:00:00.000000000',\n",
       "       '2011-01-15T00:00:00.000000000', '2011-01-16T00:00:00.000000000',\n",
       "       '2011-01-17T00:00:00.000000000', '2011-01-18T00:00:00.000000000',\n",
       "       '2011-01-19T00:00:00.000000000', '2011-01-20T00:00:00.000000000',\n",
       "       '2011-01-21T00:00:00.000000000', '2011-01-22T00:00:00.000000000',\n",
       "       '2011-01-23T00:00:00.000000000', '2011-01-24T00:00:00.000000000',\n",
       "       '2011-01-25T00:00:00.000000000', '2011-01-26T00:00:00.000000000',\n",
       "       '2011-01-27T00:00:00.000000000', '2011-01-28T00:00:00.000000000',\n",
       "       '2011-01-29T00:00:00.000000000', '2011-01-30T00:00:00.000000000',\n",
       "       '2011-01-31T00:00:00.000000000', '2011-02-01T00:00:00.000000000',\n",
       "       '2011-02-02T00:00:00.000000000', '2011-02-03T00:00:00.000000000',\n",
       "       '2011-02-04T00:00:00.000000000', '2011-02-05T00:00:00.000000000',\n",
       "       '2011-02-06T00:00:00.000000000', '2011-02-07T00:00:00.000000000',\n",
       "       '2011-02-08T00:00:00.000000000', '2011-02-09T00:00:00.000000000',\n",
       "       '2011-02-10T00:00:00.000000000', '2011-02-11T00:00:00.000000000',\n",
       "       '2011-02-12T00:00:00.000000000', '2011-02-13T00:00:00.000000000',\n",
       "       '2011-02-14T00:00:00.000000000', '2011-02-15T00:00:00.000000000',\n",
       "       '2011-02-16T00:00:00.000000000', '2011-02-17T00:00:00.000000000',\n",
       "       '2011-02-18T00:00:00.000000000', '2011-02-19T00:00:00.000000000',\n",
       "       '2011-02-20T00:00:00.000000000', '2011-02-21T00:00:00.000000000',\n",
       "       '2011-02-22T00:00:00.000000000', '2011-02-23T00:00:00.000000000',\n",
       "       '2011-02-24T00:00:00.000000000', '2011-02-25T00:00:00.000000000',\n",
       "       '2011-02-26T00:00:00.000000000', '2011-02-27T00:00:00.000000000',\n",
       "       '2011-02-28T00:00:00.000000000', '2011-03-01T00:00:00.000000000',\n",
       "       '2011-03-02T00:00:00.000000000', '2011-03-03T00:00:00.000000000',\n",
       "       '2011-03-04T00:00:00.000000000', '2011-03-05T00:00:00.000000000',\n",
       "       '2011-03-06T00:00:00.000000000', '2011-03-07T00:00:00.000000000',\n",
       "       '2011-03-08T00:00:00.000000000', '2011-03-09T00:00:00.000000000',\n",
       "       '2011-03-10T00:00:00.000000000', '2011-03-11T00:00:00.000000000',\n",
       "       '2011-03-12T00:00:00.000000000', '2011-03-13T00:00:00.000000000',\n",
       "       '2011-03-14T00:00:00.000000000', '2011-03-15T00:00:00.000000000',\n",
       "       '2011-03-16T00:00:00.000000000', '2011-03-17T00:00:00.000000000',\n",
       "       '2011-03-18T00:00:00.000000000', '2011-03-19T00:00:00.000000000',\n",
       "       '2011-03-20T00:00:00.000000000', '2011-03-21T00:00:00.000000000',\n",
       "       '2011-03-22T00:00:00.000000000', '2011-03-23T00:00:00.000000000',\n",
       "       '2011-03-24T00:00:00.000000000', '2011-03-25T00:00:00.000000000',\n",
       "       '2011-03-26T00:00:00.000000000', '2011-03-27T00:00:00.000000000',\n",
       "       '2011-03-28T00:00:00.000000000', '2011-03-29T00:00:00.000000000',\n",
       "       '2011-03-30T00:00:00.000000000', '2011-03-31T00:00:00.000000000',\n",
       "       '2011-04-01T00:00:00.000000000', '2011-04-02T00:00:00.000000000',\n",
       "       '2011-04-03T00:00:00.000000000', '2011-04-04T00:00:00.000000000',\n",
       "       '2011-04-05T00:00:00.000000000', '2011-04-06T00:00:00.000000000',\n",
       "       '2011-04-07T00:00:00.000000000', '2011-04-08T00:00:00.000000000',\n",
       "       '2011-04-09T00:00:00.000000000', '2011-04-10T00:00:00.000000000',\n",
       "       '2011-04-11T00:00:00.000000000', '2011-04-12T00:00:00.000000000',\n",
       "       '2011-04-13T00:00:00.000000000', '2011-04-14T00:00:00.000000000',\n",
       "       '2011-04-15T00:00:00.000000000', '2011-04-16T00:00:00.000000000',\n",
       "       '2011-04-17T00:00:00.000000000', '2011-04-18T00:00:00.000000000',\n",
       "       '2011-04-19T00:00:00.000000000', '2011-04-20T00:00:00.000000000',\n",
       "       '2011-04-21T00:00:00.000000000', '2011-04-22T00:00:00.000000000',\n",
       "       '2011-04-23T00:00:00.000000000', '2011-04-24T00:00:00.000000000',\n",
       "       '2011-04-25T00:00:00.000000000', '2011-04-26T00:00:00.000000000',\n",
       "       '2011-04-27T00:00:00.000000000', '2011-04-28T00:00:00.000000000',\n",
       "       '2011-04-29T00:00:00.000000000', '2011-04-30T00:00:00.000000000',\n",
       "       '2011-05-01T00:00:00.000000000', '2011-05-02T00:00:00.000000000',\n",
       "       '2011-05-03T00:00:00.000000000', '2011-05-04T00:00:00.000000000',\n",
       "       '2011-05-05T00:00:00.000000000', '2011-05-06T00:00:00.000000000',\n",
       "       '2011-05-07T00:00:00.000000000', '2011-05-08T00:00:00.000000000',\n",
       "       '2011-05-09T00:00:00.000000000', '2011-05-10T00:00:00.000000000',\n",
       "       '2011-05-11T00:00:00.000000000', '2011-05-12T00:00:00.000000000',\n",
       "       '2011-05-13T00:00:00.000000000', '2011-05-14T00:00:00.000000000',\n",
       "       '2011-05-15T00:00:00.000000000', '2011-05-16T00:00:00.000000000',\n",
       "       '2011-05-17T00:00:00.000000000', '2011-05-18T00:00:00.000000000',\n",
       "       '2011-05-19T00:00:00.000000000', '2011-05-20T00:00:00.000000000',\n",
       "       '2011-05-21T00:00:00.000000000', '2011-05-22T00:00:00.000000000',\n",
       "       '2011-05-23T00:00:00.000000000', '2011-05-24T00:00:00.000000000',\n",
       "       '2011-05-25T00:00:00.000000000', '2011-05-26T00:00:00.000000000',\n",
       "       '2011-05-27T00:00:00.000000000', '2011-05-28T00:00:00.000000000',\n",
       "       '2011-05-29T00:00:00.000000000', '2011-05-30T00:00:00.000000000',\n",
       "       '2011-05-31T00:00:00.000000000', '2011-06-01T00:00:00.000000000',\n",
       "       '2011-06-02T00:00:00.000000000', '2011-06-03T00:00:00.000000000',\n",
       "       '2011-06-04T00:00:00.000000000', '2011-06-05T00:00:00.000000000',\n",
       "       '2011-06-06T00:00:00.000000000', '2011-06-07T00:00:00.000000000',\n",
       "       '2011-06-08T00:00:00.000000000', '2011-06-09T00:00:00.000000000',\n",
       "       '2011-06-10T00:00:00.000000000', '2011-06-11T00:00:00.000000000',\n",
       "       '2011-06-12T00:00:00.000000000', '2011-06-13T00:00:00.000000000',\n",
       "       '2011-06-14T00:00:00.000000000', '2011-06-15T00:00:00.000000000',\n",
       "       '2011-06-16T00:00:00.000000000', '2011-06-17T00:00:00.000000000',\n",
       "       '2011-06-18T00:00:00.000000000', '2011-06-19T00:00:00.000000000',\n",
       "       '2011-06-20T00:00:00.000000000', '2011-06-21T00:00:00.000000000',\n",
       "       '2011-06-22T00:00:00.000000000', '2011-06-23T00:00:00.000000000',\n",
       "       '2011-06-24T00:00:00.000000000', '2011-06-25T00:00:00.000000000',\n",
       "       '2011-06-26T00:00:00.000000000', '2011-06-27T00:00:00.000000000',\n",
       "       '2011-06-28T00:00:00.000000000', '2011-06-29T00:00:00.000000000',\n",
       "       '2011-06-30T00:00:00.000000000', '2011-07-01T00:00:00.000000000',\n",
       "       '2011-07-02T00:00:00.000000000', '2011-07-03T00:00:00.000000000',\n",
       "       '2011-07-04T00:00:00.000000000', '2011-07-05T00:00:00.000000000',\n",
       "       '2011-07-06T00:00:00.000000000', '2011-07-07T00:00:00.000000000',\n",
       "       '2011-07-08T00:00:00.000000000', '2011-07-09T00:00:00.000000000',\n",
       "       '2011-07-10T00:00:00.000000000', '2011-07-11T00:00:00.000000000',\n",
       "       '2011-07-12T00:00:00.000000000', '2011-07-13T00:00:00.000000000',\n",
       "       '2011-07-14T00:00:00.000000000', '2011-07-15T00:00:00.000000000',\n",
       "       '2011-07-16T00:00:00.000000000', '2011-07-17T00:00:00.000000000',\n",
       "       '2011-07-18T00:00:00.000000000', '2011-07-19T00:00:00.000000000',\n",
       "       '2011-07-20T00:00:00.000000000', '2011-07-21T00:00:00.000000000',\n",
       "       '2011-07-22T00:00:00.000000000', '2011-07-23T00:00:00.000000000',\n",
       "       '2011-07-24T00:00:00.000000000', '2011-07-25T00:00:00.000000000',\n",
       "       '2011-07-26T00:00:00.000000000', '2011-07-27T00:00:00.000000000',\n",
       "       '2011-07-28T00:00:00.000000000', '2011-07-29T00:00:00.000000000',\n",
       "       '2011-07-30T00:00:00.000000000', '2011-07-31T00:00:00.000000000',\n",
       "       '2011-08-01T00:00:00.000000000', '2011-08-02T00:00:00.000000000',\n",
       "       '2011-08-03T00:00:00.000000000', '2011-08-04T00:00:00.000000000',\n",
       "       '2011-08-05T00:00:00.000000000', '2011-08-06T00:00:00.000000000',\n",
       "       '2011-08-07T00:00:00.000000000', '2011-08-08T00:00:00.000000000',\n",
       "       '2011-08-09T00:00:00.000000000', '2011-08-10T00:00:00.000000000',\n",
       "       '2011-08-11T00:00:00.000000000', '2011-08-12T00:00:00.000000000',\n",
       "       '2011-08-13T00:00:00.000000000', '2011-08-14T00:00:00.000000000',\n",
       "       '2011-08-15T00:00:00.000000000', '2011-08-16T00:00:00.000000000',\n",
       "       '2011-08-17T00:00:00.000000000', '2011-08-18T00:00:00.000000000',\n",
       "       '2011-08-19T00:00:00.000000000', '2011-08-20T00:00:00.000000000',\n",
       "       '2011-08-21T00:00:00.000000000', '2011-08-22T00:00:00.000000000',\n",
       "       '2011-08-23T00:00:00.000000000', '2011-08-24T00:00:00.000000000',\n",
       "       '2011-08-25T00:00:00.000000000', '2011-08-26T00:00:00.000000000',\n",
       "       '2011-08-27T00:00:00.000000000', '2011-08-28T00:00:00.000000000',\n",
       "       '2011-08-29T00:00:00.000000000', '2011-08-30T00:00:00.000000000',\n",
       "       '2011-08-31T00:00:00.000000000', '2011-09-01T00:00:00.000000000',\n",
       "       '2011-09-02T00:00:00.000000000', '2011-09-03T00:00:00.000000000',\n",
       "       '2011-09-04T00:00:00.000000000', '2011-09-05T00:00:00.000000000',\n",
       "       '2011-09-06T00:00:00.000000000', '2011-09-07T00:00:00.000000000',\n",
       "       '2011-09-08T00:00:00.000000000', '2011-09-09T00:00:00.000000000',\n",
       "       '2011-09-10T00:00:00.000000000', '2011-09-11T00:00:00.000000000',\n",
       "       '2011-09-12T00:00:00.000000000', '2011-09-13T00:00:00.000000000',\n",
       "       '2011-09-14T00:00:00.000000000', '2011-09-15T00:00:00.000000000',\n",
       "       '2011-09-16T00:00:00.000000000', '2011-09-17T00:00:00.000000000',\n",
       "       '2011-09-18T00:00:00.000000000', '2011-09-19T00:00:00.000000000',\n",
       "       '2011-09-20T00:00:00.000000000', '2011-09-21T00:00:00.000000000',\n",
       "       '2011-09-22T00:00:00.000000000', '2011-09-23T00:00:00.000000000',\n",
       "       '2011-09-24T00:00:00.000000000', '2011-09-25T00:00:00.000000000',\n",
       "       '2011-09-26T00:00:00.000000000', '2011-09-27T00:00:00.000000000',\n",
       "       '2011-09-28T00:00:00.000000000', '2011-09-29T00:00:00.000000000',\n",
       "       '2011-09-30T00:00:00.000000000', '2011-10-01T00:00:00.000000000',\n",
       "       '2011-10-02T00:00:00.000000000', '2011-10-03T00:00:00.000000000',\n",
       "       '2011-10-04T00:00:00.000000000', '2011-10-05T00:00:00.000000000',\n",
       "       '2011-10-06T00:00:00.000000000', '2011-10-07T00:00:00.000000000',\n",
       "       '2011-10-08T00:00:00.000000000', '2011-10-09T00:00:00.000000000',\n",
       "       '2011-10-10T00:00:00.000000000', '2011-10-11T00:00:00.000000000',\n",
       "       '2011-10-12T00:00:00.000000000', '2011-10-13T00:00:00.000000000',\n",
       "       '2011-10-14T00:00:00.000000000', '2011-10-15T00:00:00.000000000',\n",
       "       '2011-10-16T00:00:00.000000000', '2011-10-17T00:00:00.000000000',\n",
       "       '2011-10-18T00:00:00.000000000', '2011-10-19T00:00:00.000000000',\n",
       "       '2011-10-20T00:00:00.000000000', '2011-10-21T00:00:00.000000000',\n",
       "       '2011-10-22T00:00:00.000000000', '2011-10-23T00:00:00.000000000',\n",
       "       '2011-10-24T00:00:00.000000000', '2011-10-25T00:00:00.000000000',\n",
       "       '2011-10-26T00:00:00.000000000', '2011-10-27T00:00:00.000000000',\n",
       "       '2011-10-28T00:00:00.000000000', '2011-10-29T00:00:00.000000000',\n",
       "       '2011-10-30T00:00:00.000000000', '2011-10-31T00:00:00.000000000',\n",
       "       '2011-11-01T00:00:00.000000000', '2011-11-02T00:00:00.000000000',\n",
       "       '2011-11-03T00:00:00.000000000', '2011-11-04T00:00:00.000000000',\n",
       "       '2011-11-05T00:00:00.000000000', '2011-11-06T00:00:00.000000000',\n",
       "       '2011-11-07T00:00:00.000000000', '2011-11-08T00:00:00.000000000',\n",
       "       '2011-11-09T00:00:00.000000000', '2011-11-10T00:00:00.000000000',\n",
       "       '2011-11-11T00:00:00.000000000', '2011-11-12T00:00:00.000000000',\n",
       "       '2011-11-13T00:00:00.000000000', '2011-11-14T00:00:00.000000000',\n",
       "       '2011-11-15T00:00:00.000000000', '2011-11-16T00:00:00.000000000',\n",
       "       '2011-11-17T00:00:00.000000000', '2011-11-18T00:00:00.000000000',\n",
       "       '2011-11-19T00:00:00.000000000', '2011-11-20T00:00:00.000000000',\n",
       "       '2011-11-21T00:00:00.000000000', '2011-11-22T00:00:00.000000000',\n",
       "       '2011-11-23T00:00:00.000000000', '2011-11-24T00:00:00.000000000',\n",
       "       '2011-11-25T00:00:00.000000000', '2011-11-26T00:00:00.000000000',\n",
       "       '2011-11-27T00:00:00.000000000', '2011-11-28T00:00:00.000000000',\n",
       "       '2011-11-29T00:00:00.000000000', '2011-11-30T00:00:00.000000000',\n",
       "       '2011-12-01T00:00:00.000000000', '2011-12-02T00:00:00.000000000',\n",
       "       '2011-12-03T00:00:00.000000000', '2011-12-04T00:00:00.000000000',\n",
       "       '2011-12-05T00:00:00.000000000', '2011-12-06T00:00:00.000000000',\n",
       "       '2011-12-07T00:00:00.000000000', '2011-12-08T00:00:00.000000000',\n",
       "       '2011-12-09T00:00:00.000000000', '2011-12-10T00:00:00.000000000',\n",
       "       '2011-12-11T00:00:00.000000000', '2011-12-12T00:00:00.000000000',\n",
       "       '2011-12-13T00:00:00.000000000', '2011-12-14T00:00:00.000000000',\n",
       "       '2011-12-15T00:00:00.000000000', '2011-12-16T00:00:00.000000000',\n",
       "       '2011-12-17T00:00:00.000000000', '2011-12-18T00:00:00.000000000',\n",
       "       '2011-12-19T00:00:00.000000000', '2011-12-20T00:00:00.000000000',\n",
       "       '2011-12-21T00:00:00.000000000', '2011-12-22T00:00:00.000000000',\n",
       "       '2011-12-23T00:00:00.000000000', '2011-12-24T00:00:00.000000000',\n",
       "       '2011-12-25T00:00:00.000000000', '2011-12-26T00:00:00.000000000',\n",
       "       '2011-12-27T00:00:00.000000000', '2011-12-28T00:00:00.000000000',\n",
       "       '2011-12-29T00:00:00.000000000', '2011-12-30T00:00:00.000000000',\n",
       "       '2011-12-31T00:00:00.000000000', '2012-01-01T00:00:00.000000000',\n",
       "       '2012-01-02T00:00:00.000000000', '2012-01-03T00:00:00.000000000',\n",
       "       '2012-01-04T00:00:00.000000000', '2012-01-05T00:00:00.000000000',\n",
       "       '2012-01-06T00:00:00.000000000', '2012-01-07T00:00:00.000000000',\n",
       "       '2012-01-08T00:00:00.000000000', '2012-01-09T00:00:00.000000000',\n",
       "       '2012-01-10T00:00:00.000000000', '2012-01-11T00:00:00.000000000',\n",
       "       '2012-01-12T00:00:00.000000000', '2012-01-13T00:00:00.000000000',\n",
       "       '2012-01-14T00:00:00.000000000', '2012-01-15T00:00:00.000000000',\n",
       "       '2012-01-16T00:00:00.000000000', '2012-01-17T00:00:00.000000000',\n",
       "       '2012-01-18T00:00:00.000000000', '2012-01-19T00:00:00.000000000',\n",
       "       '2012-01-20T00:00:00.000000000', '2012-01-21T00:00:00.000000000',\n",
       "       '2012-01-22T00:00:00.000000000', '2012-01-23T00:00:00.000000000',\n",
       "       '2012-01-24T00:00:00.000000000', '2012-01-25T00:00:00.000000000',\n",
       "       '2012-01-26T00:00:00.000000000', '2012-01-27T00:00:00.000000000',\n",
       "       '2012-01-28T00:00:00.000000000', '2012-01-29T00:00:00.000000000',\n",
       "       '2012-01-30T00:00:00.000000000', '2012-01-31T00:00:00.000000000',\n",
       "       '2012-02-01T00:00:00.000000000', '2012-02-02T00:00:00.000000000',\n",
       "       '2012-02-03T00:00:00.000000000', '2012-02-04T00:00:00.000000000',\n",
       "       '2012-02-05T00:00:00.000000000', '2012-02-06T00:00:00.000000000',\n",
       "       '2012-02-07T00:00:00.000000000', '2012-02-08T00:00:00.000000000',\n",
       "       '2012-02-09T00:00:00.000000000', '2012-02-10T00:00:00.000000000',\n",
       "       '2012-02-11T00:00:00.000000000', '2012-02-12T00:00:00.000000000',\n",
       "       '2012-02-13T00:00:00.000000000', '2012-02-14T00:00:00.000000000',\n",
       "       '2012-02-15T00:00:00.000000000', '2012-02-16T00:00:00.000000000',\n",
       "       '2012-02-17T00:00:00.000000000', '2012-02-18T00:00:00.000000000',\n",
       "       '2012-02-19T00:00:00.000000000', '2012-02-20T00:00:00.000000000',\n",
       "       '2012-02-21T00:00:00.000000000', '2012-02-22T00:00:00.000000000',\n",
       "       '2012-02-23T00:00:00.000000000', '2012-02-24T00:00:00.000000000',\n",
       "       '2012-02-25T00:00:00.000000000', '2012-02-26T00:00:00.000000000',\n",
       "       '2012-02-27T00:00:00.000000000', '2012-02-28T00:00:00.000000000',\n",
       "       '2012-02-29T00:00:00.000000000', '2012-03-01T00:00:00.000000000',\n",
       "       '2012-03-02T00:00:00.000000000', '2012-03-03T00:00:00.000000000',\n",
       "       '2012-03-04T00:00:00.000000000', '2012-03-05T00:00:00.000000000',\n",
       "       '2012-03-06T00:00:00.000000000', '2012-03-07T00:00:00.000000000',\n",
       "       '2012-03-08T00:00:00.000000000', '2012-03-09T00:00:00.000000000',\n",
       "       '2012-03-10T00:00:00.000000000', '2012-03-11T00:00:00.000000000',\n",
       "       '2012-03-12T00:00:00.000000000', '2012-03-13T00:00:00.000000000',\n",
       "       '2012-03-14T00:00:00.000000000', '2012-03-15T00:00:00.000000000',\n",
       "       '2012-03-16T00:00:00.000000000', '2012-03-17T00:00:00.000000000',\n",
       "       '2012-03-18T00:00:00.000000000', '2012-03-19T00:00:00.000000000',\n",
       "       '2012-03-20T00:00:00.000000000', '2012-03-21T00:00:00.000000000',\n",
       "       '2012-03-22T00:00:00.000000000', '2012-03-23T00:00:00.000000000',\n",
       "       '2012-03-24T00:00:00.000000000', '2012-03-25T00:00:00.000000000',\n",
       "       '2012-03-26T00:00:00.000000000', '2012-03-27T00:00:00.000000000',\n",
       "       '2012-03-28T00:00:00.000000000', '2012-03-29T00:00:00.000000000',\n",
       "       '2012-03-30T00:00:00.000000000', '2012-03-31T00:00:00.000000000',\n",
       "       '2012-04-01T00:00:00.000000000', '2012-04-02T00:00:00.000000000',\n",
       "       '2012-04-03T00:00:00.000000000', '2012-04-04T00:00:00.000000000',\n",
       "       '2012-04-05T00:00:00.000000000', '2012-04-06T00:00:00.000000000',\n",
       "       '2012-04-07T00:00:00.000000000', '2012-04-08T00:00:00.000000000',\n",
       "       '2012-04-09T00:00:00.000000000', '2012-04-10T00:00:00.000000000',\n",
       "       '2012-04-11T00:00:00.000000000', '2012-04-12T00:00:00.000000000',\n",
       "       '2012-04-13T00:00:00.000000000', '2012-04-14T00:00:00.000000000',\n",
       "       '2012-04-15T00:00:00.000000000', '2012-04-16T00:00:00.000000000',\n",
       "       '2012-04-17T00:00:00.000000000', '2012-04-18T00:00:00.000000000',\n",
       "       '2012-04-19T00:00:00.000000000', '2012-04-20T00:00:00.000000000',\n",
       "       '2012-04-21T00:00:00.000000000', '2012-04-22T00:00:00.000000000',\n",
       "       '2012-04-23T00:00:00.000000000', '2012-04-24T00:00:00.000000000',\n",
       "       '2012-04-25T00:00:00.000000000', '2012-04-26T00:00:00.000000000',\n",
       "       '2012-04-27T00:00:00.000000000', '2012-04-28T00:00:00.000000000',\n",
       "       '2012-04-29T00:00:00.000000000', '2012-04-30T00:00:00.000000000',\n",
       "       '2012-05-01T00:00:00.000000000', '2012-05-02T00:00:00.000000000',\n",
       "       '2012-05-03T00:00:00.000000000', '2012-05-04T00:00:00.000000000',\n",
       "       '2012-05-05T00:00:00.000000000', '2012-05-06T00:00:00.000000000',\n",
       "       '2012-05-07T00:00:00.000000000', '2012-05-08T00:00:00.000000000',\n",
       "       '2012-05-09T00:00:00.000000000', '2012-05-10T00:00:00.000000000',\n",
       "       '2012-05-11T00:00:00.000000000', '2012-05-12T00:00:00.000000000',\n",
       "       '2012-05-13T00:00:00.000000000', '2012-05-14T00:00:00.000000000',\n",
       "       '2012-05-15T00:00:00.000000000', '2012-05-16T00:00:00.000000000',\n",
       "       '2012-05-17T00:00:00.000000000', '2012-05-18T00:00:00.000000000',\n",
       "       '2012-05-19T00:00:00.000000000', '2012-05-20T00:00:00.000000000',\n",
       "       '2012-05-21T00:00:00.000000000', '2012-05-22T00:00:00.000000000',\n",
       "       '2012-05-23T00:00:00.000000000', '2012-05-24T00:00:00.000000000',\n",
       "       '2012-05-25T00:00:00.000000000', '2012-05-26T00:00:00.000000000',\n",
       "       '2012-05-27T00:00:00.000000000', '2012-05-28T00:00:00.000000000',\n",
       "       '2012-05-29T00:00:00.000000000', '2012-05-30T00:00:00.000000000',\n",
       "       '2012-05-31T00:00:00.000000000', '2012-06-01T00:00:00.000000000',\n",
       "       '2012-06-02T00:00:00.000000000', '2012-06-03T00:00:00.000000000',\n",
       "       '2012-06-04T00:00:00.000000000', '2012-06-05T00:00:00.000000000',\n",
       "       '2012-06-06T00:00:00.000000000', '2012-06-07T00:00:00.000000000',\n",
       "       '2012-06-08T00:00:00.000000000', '2012-06-09T00:00:00.000000000',\n",
       "       '2012-06-10T00:00:00.000000000', '2012-06-11T00:00:00.000000000',\n",
       "       '2012-06-12T00:00:00.000000000', '2012-06-13T00:00:00.000000000',\n",
       "       '2012-06-14T00:00:00.000000000', '2012-06-15T00:00:00.000000000',\n",
       "       '2012-06-16T00:00:00.000000000', '2012-06-17T00:00:00.000000000',\n",
       "       '2012-06-18T00:00:00.000000000', '2012-06-19T00:00:00.000000000',\n",
       "       '2012-06-20T00:00:00.000000000', '2012-06-21T00:00:00.000000000',\n",
       "       '2012-06-22T00:00:00.000000000', '2012-06-23T00:00:00.000000000',\n",
       "       '2012-06-24T00:00:00.000000000', '2012-06-25T00:00:00.000000000',\n",
       "       '2012-06-26T00:00:00.000000000', '2012-06-27T00:00:00.000000000',\n",
       "       '2012-06-28T00:00:00.000000000', '2012-06-29T00:00:00.000000000',\n",
       "       '2012-06-30T00:00:00.000000000', '2012-07-01T00:00:00.000000000',\n",
       "       '2012-07-02T00:00:00.000000000', '2012-07-03T00:00:00.000000000',\n",
       "       '2012-07-04T00:00:00.000000000', '2012-07-05T00:00:00.000000000',\n",
       "       '2012-07-06T00:00:00.000000000', '2012-07-07T00:00:00.000000000',\n",
       "       '2012-07-08T00:00:00.000000000', '2012-07-09T00:00:00.000000000',\n",
       "       '2012-07-10T00:00:00.000000000', '2012-07-11T00:00:00.000000000',\n",
       "       '2012-07-12T00:00:00.000000000', '2012-07-13T00:00:00.000000000',\n",
       "       '2012-07-14T00:00:00.000000000', '2012-07-15T00:00:00.000000000',\n",
       "       '2012-07-16T00:00:00.000000000', '2012-07-17T00:00:00.000000000',\n",
       "       '2012-07-18T00:00:00.000000000', '2012-07-19T00:00:00.000000000',\n",
       "       '2012-07-20T00:00:00.000000000', '2012-07-21T00:00:00.000000000',\n",
       "       '2012-07-22T00:00:00.000000000', '2012-07-23T00:00:00.000000000',\n",
       "       '2012-07-24T00:00:00.000000000', '2012-07-25T00:00:00.000000000',\n",
       "       '2012-07-26T00:00:00.000000000', '2012-07-27T00:00:00.000000000',\n",
       "       '2012-07-28T00:00:00.000000000', '2012-07-29T00:00:00.000000000',\n",
       "       '2012-07-30T00:00:00.000000000', '2012-07-31T00:00:00.000000000',\n",
       "       '2012-08-01T00:00:00.000000000', '2012-08-02T00:00:00.000000000',\n",
       "       '2012-08-03T00:00:00.000000000', '2012-08-04T00:00:00.000000000',\n",
       "       '2012-08-05T00:00:00.000000000', '2012-08-06T00:00:00.000000000',\n",
       "       '2012-08-07T00:00:00.000000000', '2012-08-08T00:00:00.000000000',\n",
       "       '2012-08-09T00:00:00.000000000', '2012-08-10T00:00:00.000000000',\n",
       "       '2012-08-11T00:00:00.000000000', '2012-08-12T00:00:00.000000000',\n",
       "       '2012-08-13T00:00:00.000000000', '2012-08-14T00:00:00.000000000',\n",
       "       '2012-08-15T00:00:00.000000000', '2012-08-16T00:00:00.000000000',\n",
       "       '2012-08-17T00:00:00.000000000', '2012-08-18T00:00:00.000000000',\n",
       "       '2012-08-19T00:00:00.000000000', '2012-08-20T00:00:00.000000000',\n",
       "       '2012-08-21T00:00:00.000000000', '2012-08-22T00:00:00.000000000',\n",
       "       '2012-08-23T00:00:00.000000000', '2012-08-24T00:00:00.000000000',\n",
       "       '2012-08-25T00:00:00.000000000', '2012-08-26T00:00:00.000000000',\n",
       "       '2012-08-27T00:00:00.000000000', '2012-08-28T00:00:00.000000000',\n",
       "       '2012-08-29T00:00:00.000000000', '2012-08-30T00:00:00.000000000',\n",
       "       '2012-08-31T00:00:00.000000000', '2012-09-01T00:00:00.000000000',\n",
       "       '2012-09-02T00:00:00.000000000', '2012-09-03T00:00:00.000000000',\n",
       "       '2012-09-04T00:00:00.000000000', '2012-09-05T00:00:00.000000000',\n",
       "       '2012-09-06T00:00:00.000000000', '2012-09-07T00:00:00.000000000',\n",
       "       '2012-09-08T00:00:00.000000000', '2012-09-09T00:00:00.000000000',\n",
       "       '2012-09-10T00:00:00.000000000', '2012-09-11T00:00:00.000000000',\n",
       "       '2012-09-12T00:00:00.000000000', '2012-09-13T00:00:00.000000000',\n",
       "       '2012-09-14T00:00:00.000000000', '2012-09-15T00:00:00.000000000',\n",
       "       '2012-09-16T00:00:00.000000000', '2012-09-17T00:00:00.000000000',\n",
       "       '2012-09-18T00:00:00.000000000', '2012-09-19T00:00:00.000000000',\n",
       "       '2012-09-20T00:00:00.000000000', '2012-09-21T00:00:00.000000000',\n",
       "       '2012-09-22T00:00:00.000000000', '2012-09-23T00:00:00.000000000',\n",
       "       '2012-09-24T00:00:00.000000000', '2012-09-25T00:00:00.000000000',\n",
       "       '2012-09-26T00:00:00.000000000', '2012-09-27T00:00:00.000000000',\n",
       "       '2012-09-28T00:00:00.000000000', '2012-09-29T00:00:00.000000000',\n",
       "       '2012-09-30T00:00:00.000000000', '2012-10-01T00:00:00.000000000',\n",
       "       '2012-10-02T00:00:00.000000000', '2012-10-03T00:00:00.000000000',\n",
       "       '2012-10-04T00:00:00.000000000', '2012-10-05T00:00:00.000000000',\n",
       "       '2012-10-06T00:00:00.000000000', '2012-10-07T00:00:00.000000000',\n",
       "       '2012-10-08T00:00:00.000000000', '2012-10-09T00:00:00.000000000',\n",
       "       '2012-10-10T00:00:00.000000000', '2012-10-11T00:00:00.000000000',\n",
       "       '2012-10-12T00:00:00.000000000', '2012-10-13T00:00:00.000000000',\n",
       "       '2012-10-14T00:00:00.000000000', '2012-10-15T00:00:00.000000000',\n",
       "       '2012-10-16T00:00:00.000000000', '2012-10-17T00:00:00.000000000',\n",
       "       '2012-10-18T00:00:00.000000000', '2012-10-19T00:00:00.000000000',\n",
       "       '2012-10-20T00:00:00.000000000', '2012-10-21T00:00:00.000000000',\n",
       "       '2012-10-22T00:00:00.000000000', '2012-10-23T00:00:00.000000000',\n",
       "       '2012-10-24T00:00:00.000000000', '2012-10-25T00:00:00.000000000',\n",
       "       '2012-10-26T00:00:00.000000000', '2012-10-27T00:00:00.000000000',\n",
       "       '2012-10-28T00:00:00.000000000', '2012-10-29T00:00:00.000000000',\n",
       "       '2012-10-30T00:00:00.000000000', '2012-10-31T00:00:00.000000000',\n",
       "       '2012-11-01T00:00:00.000000000', '2012-11-02T00:00:00.000000000',\n",
       "       '2012-11-03T00:00:00.000000000', '2012-11-04T00:00:00.000000000',\n",
       "       '2012-11-05T00:00:00.000000000', '2012-11-06T00:00:00.000000000',\n",
       "       '2012-11-07T00:00:00.000000000', '2012-11-08T00:00:00.000000000',\n",
       "       '2012-11-09T00:00:00.000000000', '2012-11-10T00:00:00.000000000',\n",
       "       '2012-11-11T00:00:00.000000000', '2012-11-12T00:00:00.000000000',\n",
       "       '2012-11-13T00:00:00.000000000', '2012-11-14T00:00:00.000000000',\n",
       "       '2012-11-15T00:00:00.000000000', '2012-11-16T00:00:00.000000000',\n",
       "       '2012-11-17T00:00:00.000000000', '2012-11-18T00:00:00.000000000',\n",
       "       '2012-11-19T00:00:00.000000000', '2012-11-20T00:00:00.000000000',\n",
       "       '2012-11-21T00:00:00.000000000', '2012-11-22T00:00:00.000000000',\n",
       "       '2012-11-23T00:00:00.000000000', '2012-11-24T00:00:00.000000000',\n",
       "       '2012-11-25T00:00:00.000000000', '2012-11-26T00:00:00.000000000',\n",
       "       '2012-11-27T00:00:00.000000000', '2012-11-28T00:00:00.000000000',\n",
       "       '2012-11-29T00:00:00.000000000', '2012-11-30T00:00:00.000000000',\n",
       "       '2012-12-01T00:00:00.000000000', '2012-12-02T00:00:00.000000000',\n",
       "       '2012-12-03T00:00:00.000000000', '2012-12-04T00:00:00.000000000',\n",
       "       '2012-12-05T00:00:00.000000000', '2012-12-06T00:00:00.000000000',\n",
       "       '2012-12-07T00:00:00.000000000', '2012-12-08T00:00:00.000000000',\n",
       "       '2012-12-09T00:00:00.000000000', '2012-12-10T00:00:00.000000000',\n",
       "       '2012-12-11T00:00:00.000000000', '2012-12-12T00:00:00.000000000',\n",
       "       '2012-12-13T00:00:00.000000000', '2012-12-14T00:00:00.000000000',\n",
       "       '2012-12-15T00:00:00.000000000', '2012-12-16T00:00:00.000000000',\n",
       "       '2012-12-17T00:00:00.000000000', '2012-12-18T00:00:00.000000000',\n",
       "       '2012-12-19T00:00:00.000000000', '2012-12-20T00:00:00.000000000',\n",
       "       '2012-12-21T00:00:00.000000000', '2012-12-22T00:00:00.000000000',\n",
       "       '2012-12-23T00:00:00.000000000', '2012-12-24T00:00:00.000000000',\n",
       "       '2012-12-25T00:00:00.000000000', '2012-12-26T00:00:00.000000000',\n",
       "       '2012-12-27T00:00:00.000000000', '2012-12-28T00:00:00.000000000',\n",
       "       '2012-12-29T00:00:00.000000000', '2012-12-30T00:00:00.000000000',\n",
       "       '2012-12-31T00:00:00.000000000'], dtype='datetime64[ns]')"
      ]
     },
     "execution_count": 32,
     "metadata": {},
     "output_type": "execute_result"
    }
   ],
   "source": [
    "train_groups"
   ]
  },
  {
   "cell_type": "code",
   "execution_count": 33,
   "metadata": {},
   "outputs": [],
   "source": [
    "def train_valid_split_byGroup(pdf, group_column, valid_size=0.25):\n",
    "    # get all periods\n",
    "    train_groups = pdf[group_column].sort_values(ascending=True).unique()\n",
    "    # detect type of valid_size: float or integer\n",
    "    valid_size_type = np.asarray(valid_size).dtype.kind\n",
    "        \n",
    "    if valid_size_type == 'f':\n",
    "        spit_point = np.percentile(np.asarray(train_groups), 100-int(valid_size*100), interpolation='nearest')\n",
    "    elif valid_size_type == 'i':\n",
    "        spit_point = train_groups[-valid_size]\n",
    "    else:\n",
    "        raise ValueError(\"Invalid value for valid_size: {}\".format(valid_size))\n",
    "    \n",
    "    return pdf[pdf[group_column] < spit_point], pdf[pdf[group_column] >= spit_point]"
   ]
  },
  {
   "cell_type": "code",
   "execution_count": 34,
   "metadata": {},
   "outputs": [],
   "source": [
    "train_data, valid_data = train_valid_split_byGroup(train_data, 'date', valid_size=180)"
   ]
  },
  {
   "cell_type": "code",
   "execution_count": 35,
   "metadata": {},
   "outputs": [
    {
     "data": {
      "text/plain": [
       "(7976, 24)"
      ]
     },
     "execution_count": 35,
     "metadata": {},
     "output_type": "execute_result"
    }
   ],
   "source": [
    "train_data.shape"
   ]
  },
  {
   "cell_type": "code",
   "execution_count": 36,
   "metadata": {},
   "outputs": [
    {
     "data": {
      "text/plain": [
       "(4307, 24)"
      ]
     },
     "execution_count": 36,
     "metadata": {},
     "output_type": "execute_result"
    }
   ],
   "source": [
    "valid_data.shape"
   ]
  },
  {
   "cell_type": "code",
   "execution_count": 37,
   "metadata": {},
   "outputs": [
    {
     "data": {
      "text/plain": [
       "(5096, 54)"
      ]
     },
     "execution_count": 37,
     "metadata": {},
     "output_type": "execute_result"
    }
   ],
   "source": [
    "test_data.shape"
   ]
  },
  {
   "cell_type": "code",
   "execution_count": 38,
   "metadata": {},
   "outputs": [],
   "source": [
    "dataDaily_origin = dailyData.copy()\n",
    "train_origin = train_data.copy()\n",
    "valid_origin = valid_data.copy()\n",
    "test_origin = test_data.copy()"
   ]
  },
  {
   "cell_type": "markdown",
   "metadata": {},
   "source": [
    "### Internal preprocessing:"
   ]
  },
  {
   "cell_type": "code",
   "execution_count": 39,
   "metadata": {},
   "outputs": [],
   "source": [
    "numerical_features = [i for i in dailyData._get_numeric_data().columns if i not in 'cnt']"
   ]
  },
  {
   "cell_type": "code",
   "execution_count": 40,
   "metadata": {},
   "outputs": [
    {
     "data": {
      "text/plain": [
       "['week_cat',\n",
       " 'weekday_cat',\n",
       " 'month_cat',\n",
       " 'year_cat',\n",
       " 'quarter_cat',\n",
       " 'season_cat']"
      ]
     },
     "execution_count": 40,
     "metadata": {},
     "output_type": "execute_result"
    }
   ],
   "source": [
    "cat_var"
   ]
  },
  {
   "cell_type": "code",
   "execution_count": 41,
   "metadata": {},
   "outputs": [],
   "source": [
    "# Create standardizer\n",
    "scaler = StandardScaler()"
   ]
  },
  {
   "cell_type": "code",
   "execution_count": 42,
   "metadata": {},
   "outputs": [],
   "source": [
    "X_dailyData_num = dailyData[numerical_features]\n",
    "X_train_num = train_data[numerical_features]\n",
    "X_valid_num = valid_data[numerical_features]\n",
    "X_test_num = test_data[numerical_features]"
   ]
  },
  {
   "cell_type": "code",
   "execution_count": 43,
   "metadata": {},
   "outputs": [],
   "source": [
    "X_dailyData_num.fillna(X_dailyData_num.mean(),inplace=True)\n",
    "X_train_num.fillna(X_dailyData_num.mean(),inplace=True)\n",
    "X_valid_num.fillna(X_dailyData_num.mean(),inplace=True)\n",
    "X_test_num.fillna(X_dailyData_num.mean(),inplace=True)"
   ]
  },
  {
   "cell_type": "code",
   "execution_count": 44,
   "metadata": {},
   "outputs": [
    {
     "data": {
      "text/plain": [
       "StandardScaler(copy=True, with_mean=True, with_std=True)"
      ]
     },
     "execution_count": 44,
     "metadata": {},
     "output_type": "execute_result"
    }
   ],
   "source": [
    "# Fit standardizer to training set\n",
    "scaler.fit(X_dailyData_num)"
   ]
  },
  {
   "cell_type": "code",
   "execution_count": 45,
   "metadata": {},
   "outputs": [],
   "source": [
    "X_dailyData_num = scaler.transform(X_dailyData_num)\n",
    "X_train_num = scaler.transform(X_train_num)\n",
    "X_valid_num = scaler.transform(X_valid_num)"
   ]
  },
  {
   "cell_type": "code",
   "execution_count": 46,
   "metadata": {},
   "outputs": [],
   "source": [
    "dailyData.loc[:, numerical_features] = X_dailyData_num\n",
    "train_data.loc[:, numerical_features] = X_train_num\n",
    "valid_data.loc[:, numerical_features] = X_valid_num"
   ]
  },
  {
   "cell_type": "code",
   "execution_count": 47,
   "metadata": {},
   "outputs": [],
   "source": [
    "target = ['cnt']\n",
    "times = ['date']"
   ]
  },
  {
   "cell_type": "code",
   "execution_count": 48,
   "metadata": {},
   "outputs": [],
   "source": [
    "X_dailyData =  dailyData.loc[:, [i for i in dailyData.columns if (i not in target) & (i not in times)]] \n",
    "X_train = train_data.loc[:, [i for i in dailyData.columns if (i not in target) & (i not in times)]]\n",
    "X_valid = valid_data.loc[:, [i for i in dailyData.columns if (i not in target) & (i not in times)]]\n",
    "X_test = test_data.loc[:, [i for i in dailyData.columns if (i not in target) & (i not in times)]]\n",
    "\n",
    "y_dailyData = dailyData[target[0]]\n",
    "y_train = train_data[target[0]]\n",
    "y_valid = valid_data[target[0]]\n",
    "y_test = test_data[target[0]]"
   ]
  },
  {
   "cell_type": "markdown",
   "metadata": {},
   "source": [
    "### prepare categorical input:"
   ]
  },
  {
   "cell_type": "code",
   "execution_count": 49,
   "metadata": {},
   "outputs": [],
   "source": [
    "def add_missing_dummy_columns( d, columns ):\n",
    "    missing_cols = set( columns ) - set( d.columns )\n",
    "    for c in missing_cols:\n",
    "        d[c] = 0"
   ]
  },
  {
   "cell_type": "code",
   "execution_count": 50,
   "metadata": {},
   "outputs": [],
   "source": [
    "def fix_columns( d, columns ):  \n",
    "\n",
    "    add_missing_dummy_columns( d, columns )\n",
    "\n",
    "    # make sure we have all the columns we need\n",
    "    assert( set( columns ) - set( d.columns ) == set())\n",
    "\n",
    "    extra_cols = set( d.columns ) - set( columns )\n",
    "    if extra_cols:\n",
    "        print(\"extra columns: \", extra_cols)\n",
    "\n",
    "    d = d[ columns ]\n",
    "    return d"
   ]
  },
  {
   "cell_type": "code",
   "execution_count": 51,
   "metadata": {},
   "outputs": [],
   "source": [
    "dailyData_df_cat = pd.get_dummies(X_dailyData[cat_var])\n",
    "X_dailyData_dv = pd.concat([X_dailyData, dailyData_df_cat], axis=1)\n",
    "X_dailyData_dv.drop(cat_var, axis=1,inplace=True)"
   ]
  },
  {
   "cell_type": "code",
   "execution_count": 52,
   "metadata": {},
   "outputs": [],
   "source": [
    "train_df_cat = pd.get_dummies(X_train[cat_var])\n",
    "X_train_dv = pd.concat([X_train, train_df_cat], axis=1)\n",
    "X_train_dv.drop(cat_var, axis=1,inplace=True)"
   ]
  },
  {
   "cell_type": "code",
   "execution_count": 53,
   "metadata": {},
   "outputs": [],
   "source": [
    "valid_df_cat = pd.get_dummies(X_valid[cat_var])\n",
    "X_valid_dv = pd.concat([X_valid, valid_df_cat], axis=1)\n",
    "X_valid_dv.drop(cat_var, axis=1, inplace=True)"
   ]
  },
  {
   "cell_type": "code",
   "execution_count": 54,
   "metadata": {},
   "outputs": [],
   "source": [
    "test_df_cat = pd.get_dummies(X_test[cat_var])\n",
    "X_test_dv = pd.concat([X_test, test_df_cat], axis=1)\n",
    "X_test_dv.drop(cat_var, axis=1, inplace=True)"
   ]
  },
  {
   "cell_type": "code",
   "execution_count": 55,
   "metadata": {},
   "outputs": [],
   "source": [
    "X_train_dv = fix_columns( X_train_dv, X_dailyData_dv.columns )\n",
    "X_valid_dv = fix_columns( X_valid_dv, X_train_dv.columns )"
   ]
  },
  {
   "cell_type": "code",
   "execution_count": 56,
   "metadata": {},
   "outputs": [],
   "source": [
    "X_test_dv = fix_columns( X_test_dv, X_dailyData_dv.columns )"
   ]
  },
  {
   "cell_type": "markdown",
   "metadata": {},
   "source": [
    "#### LabelEncoding:"
   ]
  },
  {
   "cell_type": "code",
   "execution_count": 57,
   "metadata": {},
   "outputs": [],
   "source": [
    "all_features = X_dailyData.columns\n",
    "all_features_dv = X_dailyData_dv.columns"
   ]
  },
  {
   "cell_type": "code",
   "execution_count": 58,
   "metadata": {},
   "outputs": [],
   "source": [
    "LE_mapper={}\n",
    "\n",
    "for category in cat_var:\n",
    "    LE_mapper[category]=LabelEncoder()\n",
    "    X_dailyData[category]=LE_mapper[category].fit_transform(X_dailyData[category])"
   ]
  },
  {
   "cell_type": "code",
   "execution_count": 59,
   "metadata": {},
   "outputs": [
    {
     "data": {
      "text/plain": [
       "{'week_cat': LabelEncoder(),\n",
       " 'weekday_cat': LabelEncoder(),\n",
       " 'month_cat': LabelEncoder(),\n",
       " 'year_cat': LabelEncoder(),\n",
       " 'quarter_cat': LabelEncoder(),\n",
       " 'season_cat': LabelEncoder()}"
      ]
     },
     "execution_count": 59,
     "metadata": {},
     "output_type": "execute_result"
    }
   ],
   "source": [
    "LE_mapper"
   ]
  },
  {
   "cell_type": "code",
   "execution_count": 60,
   "metadata": {},
   "outputs": [],
   "source": [
    "for item in LE_mapper.items():\n",
    "    category = item[0]\n",
    "    le = item[1]\n",
    "    \n",
    "    X_train[category]=le.transform(X_train[category])\n",
    "    X_valid[category]=le.transform(X_valid[category])"
   ]
  },
  {
   "cell_type": "code",
   "execution_count": 61,
   "metadata": {},
   "outputs": [],
   "source": [
    "for item in LE_mapper.items():\n",
    "    category = item[0]\n",
    "    le = item[1]\n",
    "    \n",
    "    X_test[category] = pd.Series(le.transform(X_test[category][X_test[category].isin(le.classes_)]), index=X_test[category][X_test[category].isin(le.classes_)].index).reindex(X_test[category].index, fill_value=-1)"
   ]
  },
  {
   "cell_type": "code",
   "execution_count": 62,
   "metadata": {},
   "outputs": [],
   "source": [
    "groups = dailyData['date'].values\n",
    "train_groups = train_data['date'].values\n",
    "group_kfold = GroupKFold(n_splits=5)"
   ]
  },
  {
   "cell_type": "markdown",
   "metadata": {},
   "source": [
    "### Metrics:"
   ]
  },
  {
   "cell_type": "code",
   "execution_count": 63,
   "metadata": {},
   "outputs": [],
   "source": [
    "def getMAD(forecast,sales):\n",
    "    return (0 if sales==0 else 1) if forecast==0 else abs(sales-forecast)/forecast"
   ]
  },
  {
   "cell_type": "code",
   "execution_count": 64,
   "metadata": {},
   "outputs": [],
   "source": [
    "def ape(y_true, y_pred): \n",
    "    return np.abs((sum(y_true) - sum(y_pred))/ sum(y_pred))*100"
   ]
  },
  {
   "cell_type": "code",
   "execution_count": 65,
   "metadata": {},
   "outputs": [],
   "source": [
    "def mape(y_true, y_pred): \n",
    "    y_true, y_pred = np.array(y_true), np.array(y_pred)\n",
    "    return np.mean(np.abs(y_true - y_pred)) * 100 / np.mean(np.abs(y_true))"
   ]
  },
  {
   "cell_type": "markdown",
   "metadata": {},
   "source": [
    "### Univariate:"
   ]
  },
  {
   "cell_type": "code",
   "execution_count": 71,
   "metadata": {},
   "outputs": [],
   "source": [
    "dataDaily_origin['datetimes'] = dataDaily_origin.apply(lambda x: x[0] + timedelta(hours=x[2]), axis = 1)\n",
    "train_origin['datetimes'] = train_origin.apply(lambda x: x[0] + timedelta(hours=x[2]), axis = 1)\n",
    "valid_origin['datetimes'] = valid_origin.apply(lambda x: x[0] + timedelta(hours=x[2]), axis = 1)\n",
    "test_origin['datetimes'] = test_origin.apply(lambda x: x[0] + timedelta(hours=x[2]), axis = 1)"
   ]
  },
  {
   "cell_type": "code",
   "execution_count": 72,
   "metadata": {},
   "outputs": [
    {
     "data": {
      "text/plain": [
       "(17379, 25)"
      ]
     },
     "execution_count": 72,
     "metadata": {},
     "output_type": "execute_result"
    }
   ],
   "source": [
    "dataDaily_origin.shape"
   ]
  },
  {
   "cell_type": "code",
   "execution_count": 73,
   "metadata": {},
   "outputs": [
    {
     "data": {
      "text/plain": [
       "(7976, 25)"
      ]
     },
     "execution_count": 73,
     "metadata": {},
     "output_type": "execute_result"
    }
   ],
   "source": [
    "train_origin.shape"
   ]
  },
  {
   "cell_type": "code",
   "execution_count": 77,
   "metadata": {},
   "outputs": [],
   "source": [
    "data_un = dataDaily_origin[[\n",
    "    'datetimes',\n",
    "    'cnt',\n",
    "]]"
   ]
  },
  {
   "cell_type": "code",
   "execution_count": 78,
   "metadata": {},
   "outputs": [],
   "source": [
    "train_un = train_origin[[\n",
    "    'datetimes',\n",
    "    'cnt',\n",
    "]]"
   ]
  },
  {
   "cell_type": "code",
   "execution_count": 79,
   "metadata": {},
   "outputs": [],
   "source": [
    "valid_un = valid_origin[[\n",
    "    'datetimes',\n",
    "    'cnt',\n",
    "]]"
   ]
  },
  {
   "cell_type": "code",
   "execution_count": 80,
   "metadata": {},
   "outputs": [],
   "source": [
    "test_un = test_origin[[\n",
    "    'datetimes',\n",
    "    'cnt',\n",
    "]]"
   ]
  },
  {
   "cell_type": "code",
   "execution_count": 81,
   "metadata": {},
   "outputs": [],
   "source": [
    "data_un['cnt'].asfreq(freq='H').fillna(0, inplace = True)\n",
    "train_un['cnt'].asfreq(freq='H').fillna(0, inplace = True)\n",
    "valid_un['cnt'].asfreq(freq='H').fillna(0, inplace = True)\n",
    "test_un['cnt'].asfreq(freq='H').fillna(0, inplace = True)"
   ]
  },
  {
   "cell_type": "code",
   "execution_count": 82,
   "metadata": {},
   "outputs": [],
   "source": [
    "data_un['ds'] = data_un['datetimes']\n",
    "train_un['ds'] = train_un['datetimes'] \n",
    "valid_un['ds'] = valid_un['datetimes']\n",
    "test_un['ds'] = test_un['datetimes']"
   ]
  },
  {
   "cell_type": "code",
   "execution_count": 83,
   "metadata": {},
   "outputs": [],
   "source": [
    "data_un.drop(['datetimes'], axis=1,inplace=True)\n",
    "train_un.drop(['datetimes'], axis=1,inplace=True)\n",
    "valid_un.drop(['datetimes'], axis=1,inplace=True)\n",
    "test_un.drop(['datetimes'], axis=1,inplace=True)"
   ]
  },
  {
   "cell_type": "code",
   "execution_count": 84,
   "metadata": {},
   "outputs": [],
   "source": [
    "data_un.set_index('ds', inplace=True)\n",
    "train_un.set_index('ds', inplace=True)\n",
    "valid_un.set_index('ds', inplace=True)\n",
    "test_un.set_index('ds', inplace=True)"
   ]
  },
  {
   "cell_type": "code",
   "execution_count": 85,
   "metadata": {},
   "outputs": [],
   "source": [
    "from tbats import BATS, TBATS"
   ]
  },
  {
   "cell_type": "code",
   "execution_count": 86,
   "metadata": {},
   "outputs": [],
   "source": [
    "period = test_un.shape[0]\n",
    "tbats_fit = TBATS(seasonal_periods = [365*24/4, 365*24]).fit(data_un['cnt'])\n",
    "tbats_pred = tbats_fit.forecast(steps=period) \n",
    "tbats_pred[tbats_pred < 0] = 0"
   ]
  },
  {
   "cell_type": "code",
   "execution_count": 89,
   "metadata": {},
   "outputs": [
    {
     "data": {
      "text/plain": [
       "array([86, 34, 16, ..., 90, 61, 49], dtype=int64)"
      ]
     },
     "execution_count": 89,
     "metadata": {},
     "output_type": "execute_result"
    }
   ],
   "source": [
    "test_un.cnt.values"
   ]
  },
  {
   "cell_type": "code",
   "execution_count": 87,
   "metadata": {},
   "outputs": [
    {
     "data": {
      "text/plain": [
       "array([51.54002744, 60.73362757, 68.04533131, ..., 93.95254515,\n",
       "       93.95254515, 93.95254515])"
      ]
     },
     "execution_count": 87,
     "metadata": {},
     "output_type": "execute_result"
    }
   ],
   "source": [
    "tbats_pred"
   ]
  },
  {
   "cell_type": "code",
   "execution_count": 90,
   "metadata": {},
   "outputs": [
    {
     "data": {
      "text/plain": [
       "174.72834472945132"
      ]
     },
     "execution_count": 90,
     "metadata": {},
     "output_type": "execute_result"
    }
   ],
   "source": [
    "ape(test_un.cnt.values, tbats_pred)"
   ]
  },
  {
   "cell_type": "code",
   "execution_count": 91,
   "metadata": {},
   "outputs": [
    {
     "data": {
      "text/plain": [
       "78.14575455396086"
      ]
     },
     "execution_count": 91,
     "metadata": {},
     "output_type": "execute_result"
    }
   ],
   "source": [
    "mape(test_un.cnt.values, tbats_pred)"
   ]
  },
  {
   "cell_type": "code",
   "execution_count": 92,
   "metadata": {},
   "outputs": [
    {
     "data": {
      "text/plain": [
       "<matplotlib.axes._subplots.AxesSubplot at 0x24b785bdfd0>"
      ]
     },
     "execution_count": 92,
     "metadata": {},
     "output_type": "execute_result"
    },
    {
     "data": {
      "image/png": "[encoded data removed]",
      "text/plain": [
       "<Figure size 432x288 with 1 Axes>"
      ]
     },
     "metadata": {
      "needs_background": "light"
     },
     "output_type": "display_data"
    }
   ],
   "source": [
    "test_un.plot()"
   ]
  },
  {
   "cell_type": "code",
   "execution_count": 93,
   "metadata": {},
   "outputs": [],
   "source": [
    "test_un['tbats_pred'] = tbats_pred"
   ]
  },
  {
   "cell_type": "code",
   "execution_count": 98,
   "metadata": {},
   "outputs": [
    {
     "data": {
      "text/plain": [
       "[<matplotlib.lines.Line2D at 0x24b7bf21be0>]"
      ]
     },
     "execution_count": 98,
     "metadata": {},
     "output_type": "execute_result"
    },
    {
     "data": {
      "image/png": "[encoded data removed]",
      "text/plain": [
       "<Figure size 432x288 with 1 Axes>"
      ]
     },
     "metadata": {
      "needs_background": "light"
     },
     "output_type": "display_data"
    }
   ],
   "source": [
    "plt.plot(test_un.index, test_un.cnt)\n",
    "plt.plot(test_un.index, test_un.tbats_pred)"
   ]
  },
  {
   "cell_type": "code",
   "execution_count": 99,
   "metadata": {},
   "outputs": [
    {
     "data": {
      "text/plain": [
       "[<matplotlib.lines.Line2D at 0x24b7c3476d8>]"
      ]
     },
     "execution_count": 99,
     "metadata": {},
     "output_type": "execute_result"
    },
    {
     "data": {
      "image/png": "[encoded data removed]",
      "text/plain": [
       "<Figure size 432x288 with 1 Axes>"
      ]
     },
     "metadata": {
      "needs_background": "light"
     },
     "output_type": "display_data"
    }
   ],
   "source": [
    "plt.plot(test_un.index, test_un.tbats_pred)"
   ]
  },
  {
   "cell_type": "markdown",
   "metadata": {},
   "source": [
    "### Holt-Winters:"
   ]
  },
  {
   "cell_type": "code",
   "execution_count": null,
   "metadata": {},
   "outputs": [],
   "source": [
    "period = test_un.shape[0]\n",
    "tbats_fit = TBATS(seasonal_periods = [365*24/4, 365*24]).fit(data_un['cnt'])\n",
    "tbats_pred = tbats_fit.forecast(steps=period) \n",
    "tbats_pred[tbats_pred < 0] = 0"
   ]
  },
  {
   "cell_type": "code",
   "execution_count": 114,
   "metadata": {},
   "outputs": [
    {
     "name": "stderr",
     "output_type": "stream",
     "text": [
      "C:\\Users\\user\\Anaconda3\\lib\\site-packages\\statsmodels\\tsa\\base\\tsa_model.py:219: ValueWarning: A date index has been provided, but it has no associated frequency information and so will be ignored when e.g. forecasting.\n",
      "  ' ignored when e.g. forecasting.', ValueWarning)\n",
      "C:\\Users\\user\\Anaconda3\\lib\\site-packages\\statsmodels\\tsa\\holtwinters.py:711: ConvergenceWarning: Optimization failed to converge. Check mle_retvals.\n",
      "  ConvergenceWarning)\n",
      "C:\\Users\\user\\Anaconda3\\lib\\site-packages\\statsmodels\\tsa\\base\\tsa_model.py:576: ValueWarning: No supported index is available. Prediction results will be given with an integer index beginning at `start`.\n",
      "  ValueWarning)\n"
     ]
    }
   ],
   "source": [
    "hw_fit = ExponentialSmoothing(data_un['cnt'].astype('double'), seasonal_periods = 182*24 ,trend='add', seasonal='add',).fit()\n",
    "# hw_pred0 = hw_fit.forecast(period)\n",
    "hw_pred2 = hw_fit.forecast(period)"
   ]
  },
  {
   "cell_type": "code",
   "execution_count": 111,
   "metadata": {
    "collapsed": true
   },
   "outputs": [
    {
     "data": {
      "text/plain": [
       "17379       74.341757\n",
       "17380      124.611183\n",
       "17381      104.554730\n",
       "17382       26.941629\n",
       "17383       14.453369\n",
       "17384       37.530539\n",
       "17385       83.342572\n",
       "17386       94.531029\n",
       "17387       44.381703\n",
       "17388      -33.095034\n",
       "17389      -10.429665\n",
       "17390        2.855474\n",
       "17391      -16.223737\n",
       "17392      -20.584102\n",
       "17393      -11.575920\n",
       "17394       17.132088\n",
       "17395        7.696368\n",
       "17396        3.672078\n",
       "17397      -12.087550\n",
       "17398      -11.747210\n",
       "17399       -3.217549\n",
       "17400        8.356313\n",
       "17401       -4.359559\n",
       "17402      -29.750109\n",
       "17403       -5.839048\n",
       "17404       -8.423719\n",
       "17405      -45.710569\n",
       "17406      -67.997357\n",
       "17407      -72.836240\n",
       "17408      -58.295701\n",
       "             ...     \n",
       "22445   -19302.139300\n",
       "22446   -19298.039615\n",
       "22447   -19292.928016\n",
       "22448   -19344.179241\n",
       "22449   -19350.714200\n",
       "22450   -19349.653728\n",
       "22451   -19351.018347\n",
       "22452   -19343.596322\n",
       "22453   -19387.419832\n",
       "22454   -19409.861802\n",
       "22455   -19407.921627\n",
       "22456   -19373.710101\n",
       "22457   -19389.028961\n",
       "22458   -19426.099569\n",
       "22459   -19429.717281\n",
       "22460   -19410.076465\n",
       "22461   -19360.694374\n",
       "22462   -19384.022605\n",
       "22463   -19408.377549\n",
       "22464   -19421.781191\n",
       "22465   -19386.853456\n",
       "22466   -19330.334613\n",
       "22467   -19332.004444\n",
       "22468   -19403.236530\n",
       "22469   -19427.672855\n",
       "22470   -19408.325436\n",
       "22471   -19391.095784\n",
       "22472   -19398.684576\n",
       "22473   -19424.130028\n",
       "22474   -19471.435791\n",
       "Length: 5096, dtype: float64"
      ]
     },
     "execution_count": 111,
     "metadata": {},
     "output_type": "execute_result"
    }
   ],
   "source": [
    "hw_pred"
   ]
  },
  {
   "cell_type": "code",
   "execution_count": 108,
   "metadata": {},
   "outputs": [
    {
     "data": {
      "text/plain": [
       "8760"
      ]
     },
     "execution_count": 108,
     "metadata": {},
     "output_type": "execute_result"
    }
   ],
   "source": []
  },
  {
   "cell_type": "code",
   "execution_count": null,
   "metadata": {},
   "outputs": [],
   "source": []
  },
  {
   "cell_type": "markdown",
   "metadata": {},
   "source": [
    "### LSTM:"
   ]
  },
  {
   "cell_type": "code",
   "execution_count": null,
   "metadata": {},
   "outputs": [],
   "source": [
    "def create_dataset(dataset, look_back=1):\n",
    "    dataX, "
   ]
  },
  {
   "cell_type": "code",
   "execution_count": null,
   "metadata": {},
   "outputs": [],
   "source": []
  },
  {
   "cell_type": "code",
   "execution_count": null,
   "metadata": {},
   "outputs": [],
   "source": []
  },
  {
   "cell_type": "code",
   "execution_count": null,
   "metadata": {},
   "outputs": [],
   "source": []
  },
  {
   "cell_type": "code",
   "execution_count": null,
   "metadata": {},
   "outputs": [],
   "source": []
  }
 ],
 "metadata": {
  "kernelspec": {
   "display_name": "Python 3",
   "language": "python",
   "name": "python3"
  },
  "language_info": {
   "codemirror_mode": {
    "name": "ipython",
    "version": 3
   },
   "file_extension": ".py",
   "mimetype": "text/x-python",
   "name": "python",
   "nbconvert_exporter": "python",
   "pygments_lexer": "ipython3",
   "version": "3.7.3"
  }
 },
 "nbformat": 4,
 "nbformat_minor": 2
}
