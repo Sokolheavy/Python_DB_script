{
  "nbformat": 4,
  "nbformat_minor": 0,
  "metadata": {
    "accelerator": "GPU",
    "colab": {
      "name": "RoBERTa for text classification.ipynb",
      "provenance": [],
      "collapsed_sections": []
    },
    "kernelspec": {
      "display_name": "Python (torch)",
      "language": "python",
      "name": "other-env"
    },
    "language_info": {
      "codemirror_mode": {
        "name": "ipython",
        "version": 3
      },
      "file_extension": ".py",
      "mimetype": "text/x-python",
      "name": "python",
      "nbconvert_exporter": "python",
      "pygments_lexer": "ipython3",
      "version": "3.8.2"
    },
    "widgets": {
      "application/vnd.jupyter.widget-state+json": {
        "0aaddf4029dc403ebb380a4058fd80e2": {
          "model_module": "@jupyter-widgets/controls",
          "model_name": "HBoxModel",
          "state": {
            "_view_name": "HBoxView",
            "_dom_classes": [],
            "_model_name": "HBoxModel",
            "_view_module": "@jupyter-widgets/controls",
            "_model_module_version": "1.5.0",
            "_view_count": null,
            "_view_module_version": "1.5.0",
            "box_style": "",
            "layout": "IPY_MODEL_e7fea8874891421d92c1fd523608f1e7",
            "_model_module": "@jupyter-widgets/controls",
            "children": [
              "IPY_MODEL_9dda6bf213bb48cd8fd63389bb87da4a",
              "IPY_MODEL_6748dde3ddad4bf49dc2c437501d64f8"
            ]
          }
        },
        "e7fea8874891421d92c1fd523608f1e7": {
          "model_module": "@jupyter-widgets/base",
          "model_name": "LayoutModel",
          "state": {
            "_view_name": "LayoutView",
            "grid_template_rows": null,
            "right": null,
            "justify_content": null,
            "_view_module": "@jupyter-widgets/base",
            "overflow": null,
            "_model_module_version": "1.2.0",
            "_view_count": null,
            "flex_flow": null,
            "width": null,
            "min_width": null,
            "border": null,
            "align_items": null,
            "bottom": null,
            "_model_module": "@jupyter-widgets/base",
            "top": null,
            "grid_column": null,
            "overflow_y": null,
            "overflow_x": null,
            "grid_auto_flow": null,
            "grid_area": null,
            "grid_template_columns": null,
            "flex": null,
            "_model_name": "LayoutModel",
            "justify_items": null,
            "grid_row": null,
            "max_height": null,
            "align_content": null,
            "visibility": null,
            "align_self": null,
            "height": null,
            "min_height": null,
            "padding": null,
            "grid_auto_rows": null,
            "grid_gap": null,
            "max_width": null,
            "order": null,
            "_view_module_version": "1.2.0",
            "grid_template_areas": null,
            "object_position": null,
            "object_fit": null,
            "grid_auto_columns": null,
            "margin": null,
            "display": null,
            "left": null
          }
        },
        "9dda6bf213bb48cd8fd63389bb87da4a": {
          "model_module": "@jupyter-widgets/controls",
          "model_name": "FloatProgressModel",
          "state": {
            "_view_name": "ProgressView",
            "style": "IPY_MODEL_7e8369d88f1a41cb810e155b15b934e5",
            "_dom_classes": [],
            "description": "Downloading: 100%",
            "_model_name": "FloatProgressModel",
            "bar_style": "success",
            "max": 481,
            "_view_module": "@jupyter-widgets/controls",
            "_model_module_version": "1.5.0",
            "value": 481,
            "_view_count": null,
            "_view_module_version": "1.5.0",
            "orientation": "horizontal",
            "min": 0,
            "description_tooltip": null,
            "_model_module": "@jupyter-widgets/controls",
            "layout": "IPY_MODEL_e1ecf429c894497f95a5eb98d894056a"
          }
        },
        "6748dde3ddad4bf49dc2c437501d64f8": {
          "model_module": "@jupyter-widgets/controls",
          "model_name": "HTMLModel",
          "state": {
            "_view_name": "HTMLView",
            "style": "IPY_MODEL_92709d62d24546c6993f79a35be97998",
            "_dom_classes": [],
            "description": "",
            "_model_name": "HTMLModel",
            "placeholder": "​",
            "_view_module": "@jupyter-widgets/controls",
            "_model_module_version": "1.5.0",
            "value": " 481/481 [00:00&lt;00:00, 2.73kB/s]",
            "_view_count": null,
            "_view_module_version": "1.5.0",
            "description_tooltip": null,
            "_model_module": "@jupyter-widgets/controls",
            "layout": "IPY_MODEL_1190994c3cc4404c90919ee4aa5d9df0"
          }
        },
        "7e8369d88f1a41cb810e155b15b934e5": {
          "model_module": "@jupyter-widgets/controls",
          "model_name": "ProgressStyleModel",
          "state": {
            "_view_name": "StyleView",
            "_model_name": "ProgressStyleModel",
            "description_width": "initial",
            "_view_module": "@jupyter-widgets/base",
            "_model_module_version": "1.5.0",
            "_view_count": null,
            "_view_module_version": "1.2.0",
            "bar_color": null,
            "_model_module": "@jupyter-widgets/controls"
          }
        },
        "e1ecf429c894497f95a5eb98d894056a": {
          "model_module": "@jupyter-widgets/base",
          "model_name": "LayoutModel",
          "state": {
            "_view_name": "LayoutView",
            "grid_template_rows": null,
            "right": null,
            "justify_content": null,
            "_view_module": "@jupyter-widgets/base",
            "overflow": null,
            "_model_module_version": "1.2.0",
            "_view_count": null,
            "flex_flow": null,
            "width": null,
            "min_width": null,
            "border": null,
            "align_items": null,
            "bottom": null,
            "_model_module": "@jupyter-widgets/base",
            "top": null,
            "grid_column": null,
            "overflow_y": null,
            "overflow_x": null,
            "grid_auto_flow": null,
            "grid_area": null,
            "grid_template_columns": null,
            "flex": null,
            "_model_name": "LayoutModel",
            "justify_items": null,
            "grid_row": null,
            "max_height": null,
            "align_content": null,
            "visibility": null,
            "align_self": null,
            "height": null,
            "min_height": null,
            "padding": null,
            "grid_auto_rows": null,
            "grid_gap": null,
            "max_width": null,
            "order": null,
            "_view_module_version": "1.2.0",
            "grid_template_areas": null,
            "object_position": null,
            "object_fit": null,
            "grid_auto_columns": null,
            "margin": null,
            "display": null,
            "left": null
          }
        },
        "92709d62d24546c6993f79a35be97998": {
          "model_module": "@jupyter-widgets/controls",
          "model_name": "DescriptionStyleModel",
          "state": {
            "_view_name": "StyleView",
            "_model_name": "DescriptionStyleModel",
            "description_width": "",
            "_view_module": "@jupyter-widgets/base",
            "_model_module_version": "1.5.0",
            "_view_count": null,
            "_view_module_version": "1.2.0",
            "_model_module": "@jupyter-widgets/controls"
          }
        },
        "1190994c3cc4404c90919ee4aa5d9df0": {
          "model_module": "@jupyter-widgets/base",
          "model_name": "LayoutModel",
          "state": {
            "_view_name": "LayoutView",
            "grid_template_rows": null,
            "right": null,
            "justify_content": null,
            "_view_module": "@jupyter-widgets/base",
            "overflow": null,
            "_model_module_version": "1.2.0",
            "_view_count": null,
            "flex_flow": null,
            "width": null,
            "min_width": null,
            "border": null,
            "align_items": null,
            "bottom": null,
            "_model_module": "@jupyter-widgets/base",
            "top": null,
            "grid_column": null,
            "overflow_y": null,
            "overflow_x": null,
            "grid_auto_flow": null,
            "grid_area": null,
            "grid_template_columns": null,
            "flex": null,
            "_model_name": "LayoutModel",
            "justify_items": null,
            "grid_row": null,
            "max_height": null,
            "align_content": null,
            "visibility": null,
            "align_self": null,
            "height": null,
            "min_height": null,
            "padding": null,
            "grid_auto_rows": null,
            "grid_gap": null,
            "max_width": null,
            "order": null,
            "_view_module_version": "1.2.0",
            "grid_template_areas": null,
            "object_position": null,
            "object_fit": null,
            "grid_auto_columns": null,
            "margin": null,
            "display": null,
            "left": null
          }
        },
        "e7867effdc904ceb97a77c949c355714": {
          "model_module": "@jupyter-widgets/controls",
          "model_name": "HBoxModel",
          "state": {
            "_view_name": "HBoxView",
            "_dom_classes": [],
            "_model_name": "HBoxModel",
            "_view_module": "@jupyter-widgets/controls",
            "_model_module_version": "1.5.0",
            "_view_count": null,
            "_view_module_version": "1.5.0",
            "box_style": "",
            "layout": "IPY_MODEL_100909397320492db9be5efbcef82315",
            "_model_module": "@jupyter-widgets/controls",
            "children": [
              "IPY_MODEL_64ab957588f542009f6bae18e7490910",
              "IPY_MODEL_e2da87410d9d4df9baf1008573562097"
            ]
          }
        },
        "100909397320492db9be5efbcef82315": {
          "model_module": "@jupyter-widgets/base",
          "model_name": "LayoutModel",
          "state": {
            "_view_name": "LayoutView",
            "grid_template_rows": null,
            "right": null,
            "justify_content": null,
            "_view_module": "@jupyter-widgets/base",
            "overflow": null,
            "_model_module_version": "1.2.0",
            "_view_count": null,
            "flex_flow": null,
            "width": null,
            "min_width": null,
            "border": null,
            "align_items": null,
            "bottom": null,
            "_model_module": "@jupyter-widgets/base",
            "top": null,
            "grid_column": null,
            "overflow_y": null,
            "overflow_x": null,
            "grid_auto_flow": null,
            "grid_area": null,
            "grid_template_columns": null,
            "flex": null,
            "_model_name": "LayoutModel",
            "justify_items": null,
            "grid_row": null,
            "max_height": null,
            "align_content": null,
            "visibility": null,
            "align_self": null,
            "height": null,
            "min_height": null,
            "padding": null,
            "grid_auto_rows": null,
            "grid_gap": null,
            "max_width": null,
            "order": null,
            "_view_module_version": "1.2.0",
            "grid_template_areas": null,
            "object_position": null,
            "object_fit": null,
            "grid_auto_columns": null,
            "margin": null,
            "display": null,
            "left": null
          }
        },
        "64ab957588f542009f6bae18e7490910": {
          "model_module": "@jupyter-widgets/controls",
          "model_name": "FloatProgressModel",
          "state": {
            "_view_name": "ProgressView",
            "style": "IPY_MODEL_eb3674e5959f4487bfde9e73833b90c5",
            "_dom_classes": [],
            "description": "Downloading: 100%",
            "_model_name": "FloatProgressModel",
            "bar_style": "success",
            "max": 501200538,
            "_view_module": "@jupyter-widgets/controls",
            "_model_module_version": "1.5.0",
            "value": 501200538,
            "_view_count": null,
            "_view_module_version": "1.5.0",
            "orientation": "horizontal",
            "min": 0,
            "description_tooltip": null,
            "_model_module": "@jupyter-widgets/controls",
            "layout": "IPY_MODEL_3612797a0f544b7fb138d108ea41f5fb"
          }
        },
        "e2da87410d9d4df9baf1008573562097": {
          "model_module": "@jupyter-widgets/controls",
          "model_name": "HTMLModel",
          "state": {
            "_view_name": "HTMLView",
            "style": "IPY_MODEL_def37e54ae544657ba5b507fd33ae7a0",
            "_dom_classes": [],
            "description": "",
            "_model_name": "HTMLModel",
            "placeholder": "​",
            "_view_module": "@jupyter-widgets/controls",
            "_model_module_version": "1.5.0",
            "value": " 501M/501M [00:35&lt;00:00, 14.0MB/s]",
            "_view_count": null,
            "_view_module_version": "1.5.0",
            "description_tooltip": null,
            "_model_module": "@jupyter-widgets/controls",
            "layout": "IPY_MODEL_7343040498b8440f8f8b705f2f7ee955"
          }
        },
        "eb3674e5959f4487bfde9e73833b90c5": {
          "model_module": "@jupyter-widgets/controls",
          "model_name": "ProgressStyleModel",
          "state": {
            "_view_name": "StyleView",
            "_model_name": "ProgressStyleModel",
            "description_width": "initial",
            "_view_module": "@jupyter-widgets/base",
            "_model_module_version": "1.5.0",
            "_view_count": null,
            "_view_module_version": "1.2.0",
            "bar_color": null,
            "_model_module": "@jupyter-widgets/controls"
          }
        },
        "3612797a0f544b7fb138d108ea41f5fb": {
          "model_module": "@jupyter-widgets/base",
          "model_name": "LayoutModel",
          "state": {
            "_view_name": "LayoutView",
            "grid_template_rows": null,
            "right": null,
            "justify_content": null,
            "_view_module": "@jupyter-widgets/base",
            "overflow": null,
            "_model_module_version": "1.2.0",
            "_view_count": null,
            "flex_flow": null,
            "width": null,
            "min_width": null,
            "border": null,
            "align_items": null,
            "bottom": null,
            "_model_module": "@jupyter-widgets/base",
            "top": null,
            "grid_column": null,
            "overflow_y": null,
            "overflow_x": null,
            "grid_auto_flow": null,
            "grid_area": null,
            "grid_template_columns": null,
            "flex": null,
            "_model_name": "LayoutModel",
            "justify_items": null,
            "grid_row": null,
            "max_height": null,
            "align_content": null,
            "visibility": null,
            "align_self": null,
            "height": null,
            "min_height": null,
            "padding": null,
            "grid_auto_rows": null,
            "grid_gap": null,
            "max_width": null,
            "order": null,
            "_view_module_version": "1.2.0",
            "grid_template_areas": null,
            "object_position": null,
            "object_fit": null,
            "grid_auto_columns": null,
            "margin": null,
            "display": null,
            "left": null
          }
        },
        "def37e54ae544657ba5b507fd33ae7a0": {
          "model_module": "@jupyter-widgets/controls",
          "model_name": "DescriptionStyleModel",
          "state": {
            "_view_name": "StyleView",
            "_model_name": "DescriptionStyleModel",
            "description_width": "",
            "_view_module": "@jupyter-widgets/base",
            "_model_module_version": "1.5.0",
            "_view_count": null,
            "_view_module_version": "1.2.0",
            "_model_module": "@jupyter-widgets/controls"
          }
        },
        "7343040498b8440f8f8b705f2f7ee955": {
          "model_module": "@jupyter-widgets/base",
          "model_name": "LayoutModel",
          "state": {
            "_view_name": "LayoutView",
            "grid_template_rows": null,
            "right": null,
            "justify_content": null,
            "_view_module": "@jupyter-widgets/base",
            "overflow": null,
            "_model_module_version": "1.2.0",
            "_view_count": null,
            "flex_flow": null,
            "width": null,
            "min_width": null,
            "border": null,
            "align_items": null,
            "bottom": null,
            "_model_module": "@jupyter-widgets/base",
            "top": null,
            "grid_column": null,
            "overflow_y": null,
            "overflow_x": null,
            "grid_auto_flow": null,
            "grid_area": null,
            "grid_template_columns": null,
            "flex": null,
            "_model_name": "LayoutModel",
            "justify_items": null,
            "grid_row": null,
            "max_height": null,
            "align_content": null,
            "visibility": null,
            "align_self": null,
            "height": null,
            "min_height": null,
            "padding": null,
            "grid_auto_rows": null,
            "grid_gap": null,
            "max_width": null,
            "order": null,
            "_view_module_version": "1.2.0",
            "grid_template_areas": null,
            "object_position": null,
            "object_fit": null,
            "grid_auto_columns": null,
            "margin": null,
            "display": null,
            "left": null
          }
        }
      }
    }
  },
  "cells": [
    {
      "cell_type": "code",
      "metadata": {
        "colab": {
          "base_uri": "https://localhost:8080/"
        },
        "id": "Hl8Sl_UMFFrX",
        "outputId": "36c3062d-ec08-46b0-9fd2-3ba6cf7accb0"
      },
      "source": [
        "from google.colab import drive\n",
        "drive.mount('/content/drive', force_remount=True)\n",
        "path_to_datasets = 'drive/My Drive/bert_for_interview/'"
      ],
      "execution_count": 1,
      "outputs": [
        {
          "output_type": "stream",
          "text": [
            "Mounted at /content/drive\n"
          ],
          "name": "stdout"
        }
      ]
    },
    {
      "cell_type": "markdown",
      "metadata": {
        "id": "bvUiUu2FEghv"
      },
      "source": [
        "Fine-tuning RoBERTa by Huggingface for Fake News classification. "
      ]
    },
    {
      "cell_type": "code",
      "metadata": {
        "id": "tJM4OVDfEghw"
      },
      "source": [
        "data_path = path_to_datasets + 'train.csv'\n",
        "output_path = path_to_datasets"
      ],
      "execution_count": 2,
      "outputs": []
    },
    {
      "cell_type": "code",
      "metadata": {
        "id": "zu0aRhSIHJZM"
      },
      "source": [
        "!pip install transformers==3\n",
        "!pip install googletrans==3.1.0a0\n",
        "!python -m pip install fsspec==0.3.3"
      ],
      "execution_count": null,
      "outputs": []
    },
    {
      "cell_type": "code",
      "metadata": {
        "id": "Ay6syrX7Eghx"
      },
      "source": [
        "import matplotlib.pyplot as plt\n",
        "import seaborn as sns\n",
        "import pandas as pd\n",
        "import numpy as np \n",
        "from googletrans import Translator\n",
        "from dask import bag, diagnostics\n",
        "\n",
        "from sklearn.metrics import accuracy_score, classification_report, confusion_matrix\n",
        "import torch\n",
        "from torchtext.data import Field, TabularDataset, BucketIterator, Iterator\n",
        "from transformers import RobertaTokenizer, RobertaModel, AdamW, get_linear_schedule_with_warmup\n",
        "\n",
        "import string\n",
        "import re\n",
        "\n",
        "import spacy\n",
        "from spacy.lang.en.stop_words import STOP_WORDS\n",
        "from spacy.lang.en import English\n",
        "from sklearn.feature_extraction.text import CountVectorizer, TfidfVectorizer, HashingVectorizer\n",
        "from sklearn.metrics.pairwise import cosine_similarity\n",
        "\n",
        "punctuations = string.punctuation\n",
        "\n",
        "#nlp = spacy.load('en')\n",
        "stop_words = spacy.lang.en.stop_words.STOP_WORDS\n",
        "parser = English()\n",
        "from sklearn.model_selection import train_test_split\n",
        "\n",
        "import warnings\n",
        "warnings.filterwarnings('ignore')\n",
        "\n",
        "import logging\n",
        "logging.getLogger(\"transformers.tokenization_utils_base\").setLevel(logging.ERROR)"
      ],
      "execution_count": 4,
      "outputs": []
    },
    {
      "cell_type": "code",
      "metadata": {
        "id": "8dK_EYq6Eghx"
      },
      "source": [
        "# Load CSV file with dataset. Perform basic transformations.\n",
        "df = pd.read_csv(data_path, encoding='ISO-8859-1')\n",
        "encode_label = {-1 : 0, 1 : 1}\n",
        "\n",
        "\n",
        "df['prediction'] = df['prediction'].map(encode_label)\n",
        "df['titletext'] = df['url'] + df['textTitle'] + \" \" + df['textBody']"
      ],
      "execution_count": 21,
      "outputs": []
    },
    {
      "cell_type": "code",
      "metadata": {
        "id": "T_7mRn4uVloC"
      },
      "source": [
        "def clear_text(text):\n",
        "    text = text.lower()\n",
        "    text = re.sub(\"\\n|\\r|\\t\", \" \", text)\n",
        "    text = re.sub(\"[^\\w\\s\\.]\", \" \", text)\n",
        "    text = re.sub(\"com\",\" \", text.strip())\n",
        "    return text \n",
        "\n",
        "def spacy_tokenizer(sentence):\n",
        "    mytokens = parser(sentence)\n",
        "    mytokens = [word.lower_ for word in mytokens]\n",
        "    mytokens = [word for word in mytokens if word not in stop_words and word not in punctuations and not word.isdigit() and len(word)>2]\n",
        "    return mytokens\n",
        "\n",
        "def make_clear_texts(texts):\n",
        "    texts=texts.split('.')\n",
        "    sentences=[spacy_tokenizer(clear_text(sen)) for sen in texts]\n",
        "    sents=[' '.join(sen) for sen in sentences if len(sen)>3]\n",
        "    return ''.join(sents)\n",
        "\n",
        "df[\"titletext\"] = df[\"titletext\"].apply(make_clear_texts)"
      ],
      "execution_count": 22,
      "outputs": []
    },
    {
      "cell_type": "code",
      "metadata": {
        "id": "KAcWwHDUuR9m"
      },
      "source": [
        ""
      ],
      "execution_count": null,
      "outputs": []
    },
    {
      "cell_type": "code",
      "metadata": {
        "id": "XWKM3KGgm3zR"
      },
      "source": [
        "# back trans\n",
        "\n",
        "def translation_aug(sequence, org_lang = 'en'):\n",
        "  \n",
        "    languages = ['en', 'fr', 'th', 'tr', 'ur', 'ru', 'bg', 'de', 'ar', 'zh-cn', 'hi',\n",
        "                             'sw', 'vi', 'es', 'el']\n",
        "    \n",
        "    translator = Translator(service_urls=['translate.googleapis.com'])\n",
        "    \n",
        "    #randomly choose language to translate sequence to  \n",
        "    random_lang = np.random.choice([lang for lang in languages if lang is not org_lang])\n",
        "    \n",
        "    if org_lang in languages:\n",
        "        #translate to new language and back to original\n",
        "        translated = translator.translate(sequence, dest = random_lang).text\n",
        "        #translate back to original language\n",
        "        translated_back = translator.translate(translated, dest = org_lang).text\n",
        "    \n",
        "    return translated_back\n",
        "\n",
        "\n",
        "#applies above define function with Dask\n",
        "def translation_aug_parallel(dataset, col = 'titletext'):\n",
        "    prem_bag = bag.from_sequence(dataset[col].tolist()).map(translation_aug)\n",
        "    \n",
        "    with diagnostics.ProgressBar():\n",
        "        prems = prem_bag.compute()\n",
        "\n",
        "    dataset[col] = list(zip(prems))\n",
        "    dataset[col] = dataset[col].apply(lambda x: x[0])\n",
        "    \n",
        "    return dataset[col]    "
      ],
      "execution_count": 24,
      "outputs": []
    },
    {
      "cell_type": "code",
      "metadata": {
        "id": "HrzFXCkhcS0l"
      },
      "source": [
        ""
      ],
      "execution_count": 26,
      "outputs": []
    },
    {
      "cell_type": "code",
      "metadata": {
        "id": "tJbTBuKvm3_H"
      },
      "source": [
        "data_for_aug = df[df.prediction==1] \n",
        "data_aug_trans = data_for_aug\n"
      ],
      "execution_count": 27,
      "outputs": []
    },
    {
      "cell_type": "code",
      "metadata": {
        "colab": {
          "base_uri": "https://localhost:8080/"
        },
        "id": "X0KNgF1SkAdF",
        "outputId": "f1e61c73-680e-45e2-c3f6-a8e25e1a389d"
      },
      "source": [
        "data_aug_trans = translation_aug_parallel(data_aug_trans)"
      ],
      "execution_count": 28,
      "outputs": [
        {
          "output_type": "stream",
          "text": [
            "[########################################] | 100% Completed |  6min  6.5s\n"
          ],
          "name": "stdout"
        }
      ]
    },
    {
      "cell_type": "code",
      "metadata": {
        "colab": {
          "base_uri": "https://localhost:8080/",
          "height": 137
        },
        "id": "go4ydZEChuZz",
        "outputId": "6cb79112-408f-485d-b6ef-8dbdcf456bb6"
      },
      "source": [
        "data_aug_trans[0]"
      ],
      "execution_count": 29,
      "outputs": [
        {
          "output_type": "execute_result",
          "data": {
            "application/vnd.google.colaboratory.intrinsic+json": {
              "type": "string"
            },
            "text/plain": [
              "'buying guides best garden furniturebest garden furniture relaxing outside style image credit george asda best garden furniture essential buy taking life outside sun shines small balcony terrace patio larger garden right buys ready grab morning cup coffee evening glass vino eat alfresco relax book fresh air buys summer spaces large small selection includes small garden friendly bistro sets stylish outdoor dining tables chairs garden sofas super chic chairs pretty garden benches chosen pieces hardwearing wood stylish metal weatherproof rattan including likes john lewis read outdoor furniture budget check list best garden furniture covers new purchase prime condition looking dining set modern sophistication jala garden dining set fit bill nicely seats set chairs table seat fortably invest carver chairs design going gather outdoor table material considerations set puts fresh twist wood garden woven seats provide pleasing textural contrast looking seat round table ease want dining set requires loads space large camley table set outdoor space smaller footprint set teams table stools chairs result use seats sit neatly table fair share small outdoor space great design like slatted teak table chairs plement modern garden design beautifully seater version perfect balconies small courtyard gardens conventional table chairs bistro set marble effect garden bar table stools space mixing sipping cocktails sunshine cocktail maker garden bar lower shelf cutting board preparing fruit metal storage drawers ice bar tools set smart stools stools set footrests backs sit fort style sun goes mind flowers blooming add burst summer colour garden ipanema rattan effect sofa set tables room set drinks sets tables making long relaxed gatherings sun balcony friendly try set outdoor space balcony terrace situations dining great seating balcony patio bosco garden dining bench fit subtle seating garden friendly green taupe woven design plement gardens palette long low shape overtake small space matching chairs team design dining table matching chairs use inside want accumulate furniture home need garden dining set family beautiful palma set task sturdy weatherproof hand woven wicker tough weather resistant making set suitable leaving outdoors year round wood effect tabletop wood effect tabletop sturdy durable creates slightly rustic look look great gardens bine set pieces palma range kingfisher swing seat traditional pleasing addition classic garden durable hardwood solid wood weatherproof fabric wooden swinging bench benefits timeless design good news tough materials ensure garden trends way reviewers loved neat design mended benchs sturdy build fort lazy days deep seat high means sit bolt upright shallower swing seats issue identified water pool canopy rainy weather need odd push stop stagnation bistro set robert dyas worth investment mitment sustainable design sacrifice style eco credentials duraocean chair recycled plastic waste ocean think fishing nets ropes debris takes rubbish sea makes super durable design wood chair legs table fsc approved eucalyptus wood means sustainably sourced set end life fully recycled local recycling centre pact style usual foldable bistro set unobtrusive slim table elegant tapered legs tucking away end day problem materials maintenance generally wood rattan metal furniture offer designs mix materials wood fit plots find contemporary designs classic pieces imagine tropical hardwoods like eucalyptus naturally oily stand weather woods need treatment periodically wood advantage staying cool temperatures rise metal furniture look classic contemporary appearance finished protection outdoors easy clean wash soapy water cushions wel extra aware metal furniture hot woven furniture synthetic materials days weather resistance easy look save real rattan seat table paved area sunny days use indoors rest time wet leave overnight storage moving furniture needs away use long time winter sure light struggle want factor frequent home mover space store look pieces stay year round designs protected weatherproof cover cushions seats fortable want turn garden living room summer sit happy hours round dining table furniture cushions boon look care instructions ensure designs suited lifestyle'"
            ]
          },
          "metadata": {
            "tags": []
          },
          "execution_count": 29
        }
      ]
    },
    {
      "cell_type": "code",
      "metadata": {
        "colab": {
          "base_uri": "https://localhost:8080/",
          "height": 137
        },
        "id": "r55_mqComJkw",
        "outputId": "6fe900a0-d611-4bde-c1c2-7a61cf8b689a"
      },
      "source": [
        "df[df.prediction==1].titletext.values[0]"
      ],
      "execution_count": 32,
      "outputs": [
        {
          "output_type": "execute_result",
          "data": {
            "application/vnd.google.colaboratory.intrinsic+json": {
              "type": "string"
            },
            "text/plain": [
              "'buying guides best garden furniturebest garden furniture relaxing outside style image credit george asda best garden furniture essential buy taking life outside sun shines small balcony terrace patio larger garden right buys ready grab morning cup coffee evening glass vino eat alfresco relax book fresh air buys summer spaces large small selection includes small garden friendly bistro sets stylish outdoor dining tables chairs garden sofas super chic chairs pretty garden benches chosen pieces hardwearing wood stylish metal weatherproof rattan including likes john lewis read outdoor furniture budget check list best garden furniture covers new purchase prime condition looking dining set modern sophistication jala garden dining set fit bill nicely seats set chairs table seat fortably invest carver chairs design going gather outdoor table material considerations set puts fresh twist wood garden woven seats provide pleasing textural contrast looking seat round table ease want dining set requires loads space large camley table set outdoor space smaller footprint set teams table stools chairs result use seats sit neatly table fair share small outdoor space great design like slatted teak table chairs plement modern garden design beautifully seater version perfect balconies small courtyard gardens conventional table chairs bistro set marble effect garden bar table stools space mixing sipping cocktails sunshine cocktail maker garden bar lower shelf cutting board preparing fruit metal storage drawers ice bar tools set smart stools stools set footrests backs sit fort style sun goes mind flowers blooming add burst summer colour garden ipanema rattan effect sofa set tables room set drinks sets tables making long relaxed gatherings sun balcony friendly try set outdoor space balcony terrace situations dining great seating balcony patio bosco garden dining bench fit subtle seating garden friendly green taupe woven design plement gardens palette long low shape overtake small space matching chairs team design dining table matching chairs use inside want accumulate furniture home need garden dining set family beautiful palma set task sturdy weatherproof hand woven wicker tough weather resistant making set suitable leaving outdoors year round wood effect tabletop wood effect tabletop sturdy durable creates slightly rustic look look great gardens bine set pieces palma range kingfisher swing seat traditional pleasing addition classic garden durable hardwood solid wood weatherproof fabric wooden swinging bench benefits timeless design good news tough materials ensure garden trends way reviewers loved neat design mended benchs sturdy build fort lazy days deep seat high means sit bolt upright shallower swing seats issue identified water pool canopy rainy weather need odd push stop stagnation bistro set robert dyas worth investment mitment sustainable design sacrifice style eco credentials duraocean chair recycled plastic waste ocean think fishing nets ropes debris takes rubbish sea makes super durable design wood chair legs table fsc approved eucalyptus wood means sustainably sourced set end life fully recycled local recycling centre pact style usual foldable bistro set unobtrusive slim table elegant tapered legs tucking away end day problem materials maintenance generally wood rattan metal furniture offer designs mix materials wood fit plots find contemporary designs classic pieces imagine tropical hardwoods like eucalyptus naturally oily stand weather woods need treatment periodically wood advantage staying cool temperatures rise metal furniture look classic contemporary appearance finished protection outdoors easy clean wash soapy water cushions wel extra aware metal furniture hot woven furniture synthetic materials days weather resistance easy look save real rattan seat table paved area sunny days use indoors rest time wet leave overnight storage moving furniture needs away use long time winter sure light struggle want factor frequent home mover space store look pieces stay year round designs protected weatherproof cover cushions seats fortable want turn garden living room summer sit happy hours round dining table furniture cushions boon look care instructions ensure designs suited lifestyle'"
            ]
          },
          "metadata": {
            "tags": []
          },
          "execution_count": 32
        }
      ]
    },
    {
      "cell_type": "code",
      "metadata": {
        "colab": {
          "base_uri": "https://localhost:8080/",
          "height": 137
        },
        "id": "oT5amG0IhFkz",
        "outputId": "8007e22c-b851-417e-e756-e47998d5884a"
      },
      "source": [
        "df[df.prediction==1].head(1).titletext.apply(lambda x: translation_aug(x))[0]"
      ],
      "execution_count": 30,
      "outputs": [
        {
          "output_type": "execute_result",
          "data": {
            "application/vnd.google.colaboratory.intrinsic+json": {
              "type": "string"
            },
            "text/plain": [
              "'buying guides best garden furniturebest garden furniture relaxing outside style image credit george asda best garden furniture essential buy taking life outside sun shines small balcony terrace patio larger garden right buys ready grab morning cup coffee evening glass vino eat alfresco relax book fresh air buys summer spaces large small selection includes small garden friendly bistro sets stylish outdoor dining tables chairs garden sofas super chic chairs pretty garden benches chosen pieces hardwearing wood stylish metal weatherproof rattan including likes john lewis read outdoor furniture budget check list best garden furniture covers new purchase prime condition looking dining set modern sophistication jala garden dining set fit bill nicely seats set chairs table seat fortably invest carver chairs design going gather outdoor table material considerations set puts fresh twist wood garden woven seats provide pleasing textural contrast looking seat round table ease want dining set requires loads space large camley table set outdoor space smaller footprint set teams table stools chairs result use seats sit neatly table fair share small outdoor space great design like slatted teak table chairs plement modern garden design beautifully seater version perfect balconies small courtyard gardens conventional table chairs bistro set marble effect garden bar table stools space mixing sipping cocktails sunshine cocktail maker garden bar lower shelf cutting board preparing fruit metal storage drawers ice bar tools set smart stools stools set footrests backs sit fort style sun goes mind flowers blooming add burst summer colour garden ipanema rattan effect sofa set tables room set drinks sets tables making long relaxed gatherings sun balcony friendly try set outdoor space balcony terrace situations dining great seating balcony patio bosco garden dining bench fit subtle seating garden friendly green taupe woven design plement gardens palette long low shape overtake small space matching chairs team design dining table matching chairs use inside want accumulate furniture home need garden dining set family beautiful palma set task sturdy weatherproof hand woven wicker tough weather resistant making set suitable leaving outdoors year round wood effect tabletop wood effect tabletop sturdy durable creates slightly rustic look look great gardens bine set pieces palma range kingfisher swing seat traditional pleasing addition classic garden durable hardwood solid wood weatherproof fabric wooden swinging bench benefits timeless design good news tough materials ensure garden trends way reviewers loved neat design mended benchs sturdy build fort lazy days deep seat high means sit bolt upright shallower swing seats issue identified water pool canopy rainy weather need odd push stop stagnation bistro set robert dyas worth investment mitment sustainable design sacrifice style eco credentials duraocean chair recycled plastic waste ocean think fishing nets ropes debris takes rubbish sea makes super durable design wood chair legs table fsc approved eucalyptus wood means sustainably sourced set end life fully recycled local recycling centre pact style usual foldable bistro set unobtrusive slim table elegant tapered legs tucking away end day problem materials maintenance generally wood rattan metal furniture offer designs mix materials wood fit plots find contemporary designs classic pieces imagine tropical hardwoods like eucalyptus naturally oily stand weather woods need treatment periodically wood advantage staying cool temperatures rise metal furniture look classic contemporary appearance finished protection outdoors easy clean wash soapy water cushions wel extra aware metal furniture hot woven furniture synthetic materials days weather resistance easy look save real rattan seat table paved area sunny days use indoors rest time wet leave overnight storage moving furniture needs away use long time winter sure light struggle want factor frequent home mover space store look pieces stay year round designs protected weatherproof cover cushions seats fortable want turn garden living room summer sit happy hours round dining table furniture cushions boon look care instructions ensure designs suited lifestyle'"
            ]
          },
          "metadata": {
            "tags": []
          },
          "execution_count": 30
        }
      ]
    },
    {
      "cell_type": "code",
      "metadata": {
        "id": "1YyiuGLqhFtR"
      },
      "source": [
        ""
      ],
      "execution_count": null,
      "outputs": []
    },
    {
      "cell_type": "code",
      "metadata": {
        "id": "wo7Tz5uFcRIc"
      },
      "source": [
        "import nlpaug.augmenter.word as naw\n",
        "\n",
        "text = 'Un rápido zorro marrón salta sobre el perro perezoso'\n",
        "aug = naw.SynonymAug(aug_src='wordnet', lang='spa')\n",
        "augmented_text = aug.augment(text)\n",
        "print(\"Original:\")\n",
        "print(text)\n",
        "print(\"Augmented Text:\")\n",
        "print(augmented_text)"
      ],
      "execution_count": null,
      "outputs": []
    },
    {
      "cell_type": "code",
      "metadata": {
        "id": "c65-QSS8sklR"
      },
      "source": [
        ""
      ],
      "execution_count": null,
      "outputs": []
    },
    {
      "cell_type": "code",
      "metadata": {
        "id": "vxVqym6dskyz"
      },
      "source": [
        ""
      ],
      "execution_count": null,
      "outputs": []
    },
    {
      "cell_type": "code",
      "metadata": {
        "id": "rUuQJYEaslAX"
      },
      "source": [
        ""
      ],
      "execution_count": null,
      "outputs": []
    },
    {
      "cell_type": "code",
      "metadata": {
        "id": "7kueGFHSslPy"
      },
      "source": [
        ""
      ],
      "execution_count": null,
      "outputs": []
    },
    {
      "cell_type": "code",
      "metadata": {
        "colab": {
          "base_uri": "https://localhost:8080/",
          "height": 518
        },
        "id": "rTR6nlpnHrTc",
        "outputId": "e6d5299c-1178-4ce7-ea5a-799dd71f7d82"
      },
      "source": [
        "# Plot histogram with the length. Truncate max length to 5000 tokens.\n",
        "plt.style.use(\"ggplot\")\n",
        "\n",
        "plt.figure(figsize=(10, 8))\n",
        "df['length'] = df['titletext'].apply(lambda x: len(x.split()))\n",
        "sns.distplot(df[df['length'] < 5000]['length'])\n",
        "plt.title('Frequence of documents of a given length', fontsize=14)\n",
        "plt.xlabel('length', fontsize=14)\n",
        "None"
      ],
      "execution_count": null,
      "outputs": [
        {
          "output_type": "display_data",
          "data": {
            "image/png": "[encoded data removed]",
            "text/plain": [
              "<Figure size 720x576 with 1 Axes>"
            ]
          },
          "metadata": {
            "tags": []
          }
        }
      ]
    },
    {
      "cell_type": "code",
      "metadata": {
        "id": "aK5ZVuqmEgh1"
      },
      "source": [
        "# Save preprocessed data, cropped to max length of the model.\n",
        "df['titletext'] = df['titletext'].apply(lambda x: \" \".join(x.split()[:512]))\n",
        "df.to_csv(path_to_datasets + \"prep_doc.csv\")"
      ],
      "execution_count": null,
      "outputs": []
    },
    {
      "cell_type": "code",
      "metadata": {
        "id": "TI1qrUtJEgh1"
      },
      "source": [
        "# Set random seed and set device to GPU.\n",
        "torch.manual_seed(42)\n",
        "\n",
        "if torch.cuda.is_available():\n",
        "    device = torch.device('cuda:0')\n",
        "    torch.backends.cudnn.deterministic = True\n",
        "    torch.backends.cudnn.benchmark = False\n",
        "else:\n",
        "    device = torch.device('cpu')\n",
        "\n",
        "print(device)"
      ],
      "execution_count": null,
      "outputs": []
    },
    {
      "cell_type": "code",
      "metadata": {
        "id": "YPQcFJFLEgh1"
      },
      "source": [
        "# Initialize tokenizer.\n",
        "tokenizer = RobertaTokenizer.from_pretrained(\"roberta-base\")"
      ],
      "execution_count": null,
      "outputs": []
    },
    {
      "cell_type": "code",
      "metadata": {
        "id": "rOD8oKC2Egh1"
      },
      "source": [
        "# Set tokenizer hyperparameters.\n",
        "MAX_SEQ_LEN = 256\n",
        "BATCH_SIZE = 24\n",
        "PAD_INDEX = tokenizer.convert_tokens_to_ids(tokenizer.pad_token)\n",
        "UNK_INDEX = tokenizer.convert_tokens_to_ids(tokenizer.unk_token)\n",
        "\n",
        "\n",
        "# Define columns to read.\n",
        "label_field = Field(sequential=False, \n",
        "                    use_vocab=False, \n",
        "                    batch_first=True)\n",
        "\n",
        "text_field = Field(use_vocab=False, \n",
        "                   tokenize=tokenizer.encode, \n",
        "                   include_lengths=False, \n",
        "                   batch_first=True,\n",
        "                   fix_length=MAX_SEQ_LEN, \n",
        "                   pad_token=PAD_INDEX, \n",
        "                   unk_token=UNK_INDEX)\n",
        "\n",
        "fields = {'titletext' : ('titletext', text_field), 'prediction' : ('prediction', label_field)}\n",
        "\n",
        "\n",
        "# Read preprocessed CSV into TabularDataset and split it into train, test and valid.\n",
        "train_data, valid_data, test_data = TabularDataset(path=path_to_datasets + \"prep_doc.csv\", \n",
        "                                                   format='CSV', \n",
        "                                                   fields=fields, \n",
        "                                                   skip_header=False).split(split_ratio=[0.70, 0.2, 0.1], \n",
        "                                                                            stratified=True, \n",
        "                                                                            strata_field='prediction')\n",
        "\n",
        "# Create train and validation iterators.\n",
        "train_iter, valid_iter = BucketIterator.splits((train_data, valid_data),\n",
        "                                               batch_size=BATCH_SIZE,\n",
        "                                               device=device,\n",
        "                                               shuffle=True,\n",
        "                                               sort_key=lambda x: len(x.titletext), \n",
        "                                               sort=True, \n",
        "                                               sort_within_batch=False)\n",
        "\n",
        "# Test iterator, no shuffling or sorting required.\n",
        "test_iter = Iterator(test_data, batch_size=BATCH_SIZE, device=device, train=False, shuffle=False, sort=False)"
      ],
      "execution_count": null,
      "outputs": []
    },
    {
      "cell_type": "code",
      "metadata": {
        "id": "WXdJrO-EEgh1"
      },
      "source": [
        "# Functions for saving and loading model parameters and metrics.\n",
        "def save_checkpoint(path, model, valid_loss):\n",
        "    torch.save({'model_state_dict': model.state_dict(),\n",
        "                  'valid_loss': valid_loss}, path)\n",
        "\n",
        "    \n",
        "def load_checkpoint(path, model):    \n",
        "    state_dict = torch.load(path, map_location=device)\n",
        "    model.load_state_dict(state_dict['model_state_dict'])\n",
        "    \n",
        "    return state_dict['valid_loss']\n",
        "\n",
        "\n",
        "def save_metrics(path, train_loss_list, valid_loss_list, global_steps_list):   \n",
        "    state_dict = {'train_loss_list': train_loss_list,\n",
        "                  'valid_loss_list': valid_loss_list,\n",
        "                  'global_steps_list': global_steps_list}\n",
        "    \n",
        "    torch.save(state_dict, path)\n",
        "\n",
        "\n",
        "def load_metrics(path):    \n",
        "    state_dict = torch.load(path, map_location=device)\n",
        "    return state_dict['train_loss_list'], state_dict['valid_loss_list'], state_dict['global_steps_list']"
      ],
      "execution_count": null,
      "outputs": []
    },
    {
      "cell_type": "code",
      "metadata": {
        "id": "5gu4azJLEgh2"
      },
      "source": [
        "# Model with extra layers on top of RoBERTa\n",
        "class ROBERTAClassifier(torch.nn.Module):\n",
        "    def __init__(self, dropout_rate=0.5):\n",
        "        super(ROBERTAClassifier, self).__init__()\n",
        "        \n",
        "        self.roberta = RobertaModel.from_pretrained('roberta-base')\n",
        "        self.d1 = torch.nn.Dropout(dropout_rate)\n",
        "        self.l1 = torch.nn.Linear(768, 64)\n",
        "        self.bn1 = torch.nn.LayerNorm(64)\n",
        "        self.d2 = torch.nn.Dropout(dropout_rate)\n",
        "        self.l2 = torch.nn.Linear(64, 2)\n",
        "        \n",
        "    def forward(self, input_ids, attention_mask):\n",
        "        _, x = self.roberta(input_ids=input_ids, \n",
        "                            attention_mask=attention_mask)\n",
        "        x = self.d1(x)\n",
        "        x = self.l1(x)\n",
        "        x = self.bn1(x)\n",
        "        x = torch.nn.Tanh()(x)\n",
        "        x = self.d2(x)\n",
        "        x = self.l2(x)\n",
        "        \n",
        "        return x  "
      ],
      "execution_count": null,
      "outputs": []
    },
    {
      "cell_type": "code",
      "metadata": {
        "id": "vV1F_SCbEgh2"
      },
      "source": [
        "def pretrain(model, \n",
        "             optimizer, \n",
        "             train_iter, \n",
        "             valid_iter, \n",
        "             scheduler = None,\n",
        "             valid_period = len(train_iter),\n",
        "             num_epochs = 5):\n",
        "    \n",
        "    # Pretrain linear layers, do not train bert\n",
        "    for param in model.roberta.parameters():\n",
        "        param.requires_grad = False\n",
        "    \n",
        "    model.train()\n",
        "    \n",
        "    # Initialize losses and loss histories\n",
        "    train_loss = 0.0\n",
        "    valid_loss = 0.0   \n",
        "    global_step = 0  \n",
        "    \n",
        "    # Train loop\n",
        "    for epoch in range(num_epochs):\n",
        "        for (source, target), _ in train_iter:\n",
        "            mask = (source != PAD_INDEX).type(torch.uint8)\n",
        "            \n",
        "            y_pred = model(input_ids=source,  \n",
        "                           attention_mask=mask)\n",
        "            \n",
        "            loss = torch.nn.CrossEntropyLoss()(y_pred, target)\n",
        "   \n",
        "            loss.backward()\n",
        "            \n",
        "            # Optimizer and scheduler step\n",
        "            optimizer.step()    \n",
        "            scheduler.step()\n",
        "                \n",
        "            optimizer.zero_grad()\n",
        "            \n",
        "            # Update train loss and global step\n",
        "            train_loss += loss.item()\n",
        "            global_step += 1\n",
        "\n",
        "            # Validation loop. Save progress and evaluate model performance.\n",
        "            if global_step % valid_period == 0:\n",
        "                model.eval()\n",
        "                \n",
        "                with torch.no_grad():                    \n",
        "                    for (source, target), _ in valid_iter:\n",
        "                        mask = (source != PAD_INDEX).type(torch.uint8)\n",
        "                        \n",
        "                        y_pred = model(input_ids=source, \n",
        "                                       attention_mask=mask)\n",
        "                        \n",
        "                        loss = torch.nn.CrossEntropyLoss()(y_pred, target)\n",
        "                        \n",
        "                        valid_loss += loss.item()\n",
        "\n",
        "                # Store train and validation loss history\n",
        "                train_loss = train_loss / valid_period\n",
        "                valid_loss = valid_loss / len(valid_iter)\n",
        "                \n",
        "                model.train()\n",
        "\n",
        "                # print summary\n",
        "                print('Epoch [{}/{}], global step [{}/{}], PT Loss: {:.4f}, Val Loss: {:.4f}'\n",
        "                      .format(epoch+1, num_epochs, global_step, num_epochs*len(train_iter),\n",
        "                              train_loss, valid_loss))\n",
        "                \n",
        "                train_loss = 0.0                \n",
        "                valid_loss = 0.0\n",
        "    \n",
        "    # Set bert parameters back to trainable\n",
        "    for param in model.roberta.parameters():\n",
        "        param.requires_grad = True\n",
        "        \n",
        "    print('Pre-training done!')"
      ],
      "execution_count": null,
      "outputs": []
    },
    {
      "cell_type": "code",
      "metadata": {
        "id": "xG-8DMFdEgh2"
      },
      "source": [
        "# Training Function\n",
        "\n",
        "def train(model,\n",
        "          optimizer,\n",
        "          train_iter,\n",
        "          valid_iter,\n",
        "          scheduler = None,\n",
        "          num_epochs = 5,\n",
        "          valid_period = len(train_iter),\n",
        "          output_path = output_path):\n",
        "    \n",
        "    # Initialize losses and loss histories\n",
        "    train_loss = 0.0\n",
        "    valid_loss = 0.0\n",
        "    train_loss_list = []\n",
        "    valid_loss_list = []\n",
        "    best_valid_loss = float('Inf')\n",
        "    \n",
        "    global_step = 0\n",
        "    global_steps_list = []\n",
        "    \n",
        "    model.train()\n",
        "    \n",
        "    # Train loop\n",
        "    for epoch in range(num_epochs):\n",
        "        for (source, target), _ in train_iter:\n",
        "            mask = (source != PAD_INDEX).type(torch.uint8)\n",
        "\n",
        "            y_pred = model(input_ids=source,  \n",
        "                           attention_mask=mask)\n",
        "            #output = model(input_ids=source,\n",
        "            #              labels=target,\n",
        "            #              attention_mask=mask)\n",
        "            \n",
        "            loss = torch.nn.CrossEntropyLoss()(y_pred, target)\n",
        "            #loss = output[0]\n",
        "            \n",
        "            loss.backward()\n",
        "            \n",
        "            #torch.nn.utils.clip_grad_norm_(model.parameters(), 0.1)\n",
        "            \n",
        "            # Optimizer and scheduler step\n",
        "            optimizer.step()    \n",
        "            scheduler.step()\n",
        "                \n",
        "            optimizer.zero_grad()\n",
        "            \n",
        "            # Update train loss and global step\n",
        "            train_loss += loss.item()\n",
        "            global_step += 1\n",
        "\n",
        "            # Validation loop. Save progress and evaluate model performance.\n",
        "            if global_step % valid_period == 0:\n",
        "                model.eval()\n",
        "                \n",
        "                with torch.no_grad():                    \n",
        "                    for (source, target), _ in valid_iter:\n",
        "                        mask = (source != PAD_INDEX).type(torch.uint8)\n",
        "\n",
        "                        y_pred = model(input_ids=source, \n",
        "                                       attention_mask=mask)\n",
        "                        #output = model(input_ids=source,\n",
        "                        #               labels=target,\n",
        "                        #               attention_mask=mask)\n",
        "                        \n",
        "                        loss = torch.nn.CrossEntropyLoss()(y_pred, target)\n",
        "                        #loss = output[0]\n",
        "                        \n",
        "                        valid_loss += loss.item()\n",
        "\n",
        "                # Store train and validation loss history\n",
        "                train_loss = train_loss / valid_period\n",
        "                valid_loss = valid_loss / len(valid_iter)\n",
        "                train_loss_list.append(train_loss)\n",
        "                valid_loss_list.append(valid_loss)\n",
        "                global_steps_list.append(global_step)\n",
        "\n",
        "                # print summary\n",
        "                print('Epoch [{}/{}], global step [{}/{}], Train Loss: {:.4f}, Valid Loss: {:.4f}'\n",
        "                      .format(epoch+1, num_epochs, global_step, num_epochs*len(train_iter),\n",
        "                              train_loss, valid_loss))\n",
        "                \n",
        "                # checkpoint\n",
        "                if best_valid_loss > valid_loss:\n",
        "                    best_valid_loss = valid_loss\n",
        "                    save_checkpoint(output_path + '/model.pkl', model, best_valid_loss)\n",
        "                    save_metrics(output_path + '/metric.pkl', train_loss_list, valid_loss_list, global_steps_list)\n",
        "                        \n",
        "                train_loss = 0.0                \n",
        "                valid_loss = 0.0\n",
        "                model.train()\n",
        "    \n",
        "    save_metrics(output_path + '/metric.pkl', train_loss_list, valid_loss_list, global_steps_list)\n",
        "    print('Training done!')"
      ],
      "execution_count": null,
      "outputs": []
    },
    {
      "cell_type": "code",
      "metadata": {
        "colab": {
          "base_uri": "https://localhost:8080/",
          "height": 489,
          "referenced_widgets": [
            "0aaddf4029dc403ebb380a4058fd80e2",
            "e7fea8874891421d92c1fd523608f1e7",
            "9dda6bf213bb48cd8fd63389bb87da4a",
            "6748dde3ddad4bf49dc2c437501d64f8",
            "7e8369d88f1a41cb810e155b15b934e5",
            "e1ecf429c894497f95a5eb98d894056a",
            "92709d62d24546c6993f79a35be97998",
            "1190994c3cc4404c90919ee4aa5d9df0",
            "e7867effdc904ceb97a77c949c355714",
            "100909397320492db9be5efbcef82315",
            "64ab957588f542009f6bae18e7490910",
            "e2da87410d9d4df9baf1008573562097",
            "eb3674e5959f4487bfde9e73833b90c5",
            "3612797a0f544b7fb138d108ea41f5fb",
            "def37e54ae544657ba5b507fd33ae7a0",
            "7343040498b8440f8f8b705f2f7ee955"
          ]
        },
        "id": "bgW8W4m54q6s",
        "outputId": "832fe75c-37a3-461b-85f9-6763591d50ec"
      },
      "source": [
        "# Main training loop\n",
        "NUM_EPOCHS = 6\n",
        "steps_per_epoch = len(train_iter)\n",
        "\n",
        "model = ROBERTAClassifier(0.5)\n",
        "model = model.to(device)\n",
        "\n",
        "\n",
        "optimizer = AdamW(model.parameters(), lr=1e-4)\n",
        "scheduler = get_linear_schedule_with_warmup(optimizer, \n",
        "                                            num_warmup_steps=steps_per_epoch*1, \n",
        "                                            num_training_steps=steps_per_epoch*NUM_EPOCHS)\n",
        "\n",
        "print(\"======================= Start pretraining ==============================\")\n",
        "\n",
        "pretrain(model=model,\n",
        "         train_iter=train_iter,\n",
        "         valid_iter=valid_iter,\n",
        "         optimizer=optimizer,\n",
        "         scheduler=scheduler,\n",
        "         num_epochs=NUM_EPOCHS)\n",
        "\n",
        "NUM_EPOCHS = 12\n",
        "print(\"======================= Start training =================================\")\n",
        "optimizer = AdamW(model.parameters(), lr=1e-6)\n",
        "scheduler = get_linear_schedule_with_warmup(optimizer, \n",
        "                                            num_warmup_steps=steps_per_epoch*2, \n",
        "                                            num_training_steps=steps_per_epoch*NUM_EPOCHS)\n",
        "\n",
        "train(model=model, \n",
        "      train_iter=train_iter, \n",
        "      valid_iter=valid_iter, \n",
        "      optimizer=optimizer, \n",
        "      scheduler=scheduler, \n",
        "      num_epochs=NUM_EPOCHS)"
      ],
      "execution_count": null,
      "outputs": [
        {
          "output_type": "display_data",
          "data": {
            "application/vnd.jupyter.widget-view+json": {
              "model_id": "0aaddf4029dc403ebb380a4058fd80e2",
              "version_minor": 0,
              "version_major": 2
            },
            "text/plain": [
              "HBox(children=(FloatProgress(value=0.0, description='Downloading', max=481.0, style=ProgressStyle(description_…"
            ]
          },
          "metadata": {
            "tags": []
          }
        },
        {
          "output_type": "stream",
          "text": [
            "\n"
          ],
          "name": "stdout"
        },
        {
          "output_type": "display_data",
          "data": {
            "application/vnd.jupyter.widget-view+json": {
              "model_id": "e7867effdc904ceb97a77c949c355714",
              "version_minor": 0,
              "version_major": 2
            },
            "text/plain": [
              "HBox(children=(FloatProgress(value=0.0, description='Downloading', max=501200538.0, style=ProgressStyle(descri…"
            ]
          },
          "metadata": {
            "tags": []
          }
        },
        {
          "output_type": "stream",
          "text": [
            "\n",
            "======================= Start pretraining ==============================\n",
            "Epoch [1/6], global step [88/528], PT Loss: 0.6807, Val Loss: 0.6707\n",
            "Epoch [2/6], global step [176/528], PT Loss: 0.6597, Val Loss: 0.6270\n",
            "Epoch [3/6], global step [264/528], PT Loss: 0.6399, Val Loss: 0.6221\n",
            "Epoch [4/6], global step [352/528], PT Loss: 0.6385, Val Loss: 0.6219\n",
            "Epoch [5/6], global step [440/528], PT Loss: 0.6297, Val Loss: 0.6215\n",
            "Epoch [6/6], global step [528/528], PT Loss: 0.6375, Val Loss: 0.6241\n",
            "Pre-training done!\n",
            "======================= Start training =================================\n",
            "Epoch [1/12], global step [88/1056], Train Loss: 0.6308, Valid Loss: 0.6215\n",
            "Epoch [2/12], global step [176/1056], Train Loss: 0.6273, Valid Loss: 0.6163\n",
            "Epoch [3/12], global step [264/1056], Train Loss: 0.6286, Valid Loss: 0.6090\n",
            "Epoch [4/12], global step [352/1056], Train Loss: 0.6149, Valid Loss: 0.5955\n",
            "Epoch [5/12], global step [440/1056], Train Loss: 0.5947, Valid Loss: 0.5783\n",
            "Epoch [6/12], global step [528/1056], Train Loss: 0.5883, Valid Loss: 0.5714\n",
            "Epoch [7/12], global step [616/1056], Train Loss: 0.5778, Valid Loss: 0.5594\n",
            "Epoch [8/12], global step [704/1056], Train Loss: 0.5690, Valid Loss: 0.5554\n",
            "Epoch [9/12], global step [792/1056], Train Loss: 0.5606, Valid Loss: 0.5474\n",
            "Epoch [10/12], global step [880/1056], Train Loss: 0.5554, Valid Loss: 0.5452\n",
            "Epoch [11/12], global step [968/1056], Train Loss: 0.5567, Valid Loss: 0.5439\n",
            "Epoch [12/12], global step [1056/1056], Train Loss: 0.5458, Valid Loss: 0.5439\n",
            "Training done!\n"
          ],
          "name": "stdout"
        }
      ]
    },
    {
      "cell_type": "code",
      "metadata": {
        "id": "ynRNr31aYat2"
      },
      "source": [
        ""
      ],
      "execution_count": null,
      "outputs": []
    },
    {
      "cell_type": "code",
      "metadata": {
        "id": "CvGqssZZYbYk"
      },
      "source": [
        "NUM_EPOCHS = 12\n",
        "print(\"======================= Start training =================================\")\n",
        "optimizer = AdamW(model.parameters(), lr=1e-6)\n",
        "scheduler = get_linear_schedule_with_warmup(optimizer, \n",
        "                                            num_warmup_steps=steps_per_epoch*2, \n",
        "                                            num_training_steps=steps_per_epoch*NUM_EPOCHS)\n",
        "\n",
        "train(model=model, \n",
        "      train_iter=train_iter, \n",
        "      valid_iter=valid_iter, \n",
        "      optimizer=optimizer, \n",
        "      scheduler=scheduler, \n",
        "      num_epochs=NUM_EPOCHS)"
      ],
      "execution_count": null,
      "outputs": []
    },
    {
      "cell_type": "code",
      "metadata": {
        "colab": {
          "base_uri": "https://localhost:8080/",
          "height": 501
        },
        "id": "GcfwRiDB4rD1",
        "outputId": "4aeb9da4-8022-4971-999b-83fe1ef6cfb6"
      },
      "source": [
        "plt.figure(figsize=(10, 8))\n",
        "train_loss_list, valid_loss_list, global_steps_list = load_metrics(output_path + '/metric.pkl')\n",
        "plt.plot(global_steps_list, train_loss_list, label='Train')\n",
        "plt.plot(global_steps_list, valid_loss_list, label='Valid')\n",
        "plt.xlabel('Global Steps', fontsize=14)\n",
        "plt.ylabel('Loss', fontsize=14)\n",
        "plt.legend(fontsize=14)\n",
        "plt.show() "
      ],
      "execution_count": null,
      "outputs": [
        {
          "output_type": "display_data",
          "data": {
            "image/png": "[encoded data removed]",
            "text/plain": [
              "<Figure size 720x576 with 1 Axes>"
            ]
          },
          "metadata": {
            "tags": []
          }
        }
      ]
    },
    {
      "cell_type": "code",
      "metadata": {
        "id": "_3eFqN0s4rO2"
      },
      "source": [
        "# Evaluation Function\n",
        "\n",
        "def evaluate(model, test_loader):\n",
        "    y_pred = []\n",
        "    y_true = []\n",
        "\n",
        "    model.eval()\n",
        "    with torch.no_grad():\n",
        "        for (source, target), _ in test_loader:\n",
        "                mask = (source != PAD_INDEX).type(torch.uint8)\n",
        "                \n",
        "                output = model(source, attention_mask=mask)\n",
        "\n",
        "                y_pred.extend(torch.argmax(output, axis=-1).tolist())\n",
        "                y_true.extend(target.tolist())\n",
        "    \n",
        "    print('Classification Report:')\n",
        "    print(classification_report(y_true, y_pred, labels=[1,0], digits=4))\n",
        "    \n",
        "    cm = confusion_matrix(y_true, y_pred, labels=[1,0])\n",
        "    ax = plt.subplot()\n",
        "\n",
        "    sns.heatmap(cm, annot=True, ax = ax, cmap='Blues', fmt=\"d\")\n",
        "\n",
        "    ax.set_title('Confusion Matrix')\n",
        "\n",
        "    ax.set_xlabel('Predicted Labels')\n",
        "    ax.set_ylabel('True Labels')\n",
        "\n",
        "    ax.xaxis.set_ticklabels(['FAKE', 'REAL'])\n",
        "    ax.yaxis.set_ticklabels(['FAKE', 'REAL'])"
      ],
      "execution_count": null,
      "outputs": []
    },
    {
      "cell_type": "code",
      "metadata": {
        "colab": {
          "base_uri": "https://localhost:8080/",
          "height": 299
        },
        "id": "TOfUxp0zArfR",
        "outputId": "c0693809-af77-4ef6-fb85-75d8c8d80331"
      },
      "source": [
        "model = ROBERTAClassifier()\n",
        "model = model.to(device)\n",
        "\n",
        "load_checkpoint(output_path + '/model.pkl', model)\n",
        "\n",
        "evaluate(model, test_iter)"
      ],
      "execution_count": null,
      "outputs": [
        {
          "output_type": "display_data",
          "data": {
            "image/png": "[encoded data removed]",
            "text/plain": [
              "<Figure size 432x288 with 2 Axes>"
            ]
          },
          "metadata": {
            "tags": []
          }
        }
      ]
    },
    {
      "cell_type": "code",
      "metadata": {
        "id": "Jowqfye7Arqc",
        "colab": {
          "base_uri": "https://localhost:8080/",
          "height": 469
        },
        "outputId": "c1f3b5c9-b112-4405-adae-17475ab71062"
      },
      "source": [
        "evaluate(model, test_iter)"
      ],
      "execution_count": null,
      "outputs": [
        {
          "output_type": "stream",
          "text": [
            "Classification Report:\n",
            "              precision    recall  f1-score   support\n",
            "\n",
            "           1     0.7179    0.3027    0.4259       185\n",
            "           0     0.7524    0.9469    0.8385       414\n",
            "\n",
            "    accuracy                         0.7479       599\n",
            "   macro avg     0.7352    0.6248    0.6322       599\n",
            "weighted avg     0.7418    0.7479    0.7111       599\n",
            "\n"
          ],
          "name": "stdout"
        },
        {
          "output_type": "display_data",
          "data": {
            "image/png": "[encoded data removed]",
            "text/plain": [
              "<Figure size 432x288 with 2 Axes>"
            ]
          },
          "metadata": {
            "tags": []
          }
        }
      ]
    },
    {
      "cell_type": "code",
      "metadata": {
        "id": "4BwmeoupAr3R"
      },
      "source": [
        ""
      ],
      "execution_count": null,
      "outputs": []
    },
    {
      "cell_type": "code",
      "metadata": {
        "id": "9p6Y7juoAsDO"
      },
      "source": [
        ""
      ],
      "execution_count": null,
      "outputs": []
    },
    {
      "cell_type": "code",
      "metadata": {
        "id": "qj6JDpZ_4rLf"
      },
      "source": [
        ""
      ],
      "execution_count": null,
      "outputs": []
    },
    {
      "cell_type": "code",
      "metadata": {
        "id": "H1aQZVkNEgh2",
        "scrolled": true,
        "outputId": "5af3ce77-03c9-4344-b1c4-c4e5571822a8"
      },
      "source": [
        "# Main training loop\n",
        "NUM_EPOCHS = 6\n",
        "steps_per_epoch = len(train_iter)\n",
        "\n",
        "model = ROBERTAClassifier(0.4)\n",
        "model = model.to(device)\n",
        "\n",
        "\n",
        "optimizer = AdamW(model.parameters(), lr=1e-4)\n",
        "scheduler = get_linear_schedule_with_warmup(optimizer, \n",
        "                                            num_warmup_steps=steps_per_epoch*1, \n",
        "                                            num_training_steps=steps_per_epoch*NUM_EPOCHS)\n",
        "\n",
        "print(\"======================= Start pretraining ==============================\")\n",
        "\n",
        "pretrain(model=model,\n",
        "         train_iter=train_iter,\n",
        "         valid_iter=valid_iter,\n",
        "         optimizer=optimizer,\n",
        "         scheduler=scheduler,\n",
        "         num_epochs=NUM_EPOCHS)\n",
        "\n",
        "NUM_EPOCHS = 12\n",
        "print(\"======================= Start training =================================\")\n",
        "optimizer = AdamW(model.parameters(), lr=2e-6)\n",
        "scheduler = get_linear_schedule_with_warmup(optimizer, \n",
        "                                            num_warmup_steps=steps_per_epoch*2, \n",
        "                                            num_training_steps=steps_per_epoch*NUM_EPOCHS)\n",
        "\n",
        "train(model=model, \n",
        "      train_iter=train_iter, \n",
        "      valid_iter=valid_iter, \n",
        "      optimizer=optimizer, \n",
        "      scheduler=scheduler, \n",
        "      num_epochs=NUM_EPOCHS)"
      ],
      "execution_count": null,
      "outputs": [
        {
          "output_type": "stream",
          "text": [
            "======================= Start pretraining ==============================\n",
            "Epoch [1/6], global step [276/1656], PT Loss: 0.6822, Val Loss: 0.7195\n",
            "Epoch [2/6], global step [552/1656], PT Loss: 0.6536, Val Loss: 0.6794\n",
            "Epoch [3/6], global step [828/1656], PT Loss: 0.6523, Val Loss: 0.6729\n",
            "Epoch [4/6], global step [1104/1656], PT Loss: 0.6552, Val Loss: 0.6682\n",
            "Epoch [5/6], global step [1380/1656], PT Loss: 0.6585, Val Loss: 0.6705\n",
            "Epoch [6/6], global step [1656/1656], PT Loss: 0.6780, Val Loss: 0.6666\n",
            "Pre-training done!\n",
            "======================= Start training =================================\n",
            "Epoch [1/12], global step [276/3312], Train Loss: 0.6572, Valid Loss: 0.6027\n",
            "Epoch [2/12], global step [552/3312], Train Loss: 0.3152, Valid Loss: 0.0835\n",
            "Epoch [3/12], global step [828/3312], Train Loss: 0.0983, Valid Loss: 0.0847\n",
            "Epoch [4/12], global step [1104/3312], Train Loss: 0.0605, Valid Loss: 0.0718\n",
            "Epoch [5/12], global step [1380/3312], Train Loss: 0.0513, Valid Loss: 0.0615\n",
            "Epoch [6/12], global step [1656/3312], Train Loss: 0.0421, Valid Loss: 0.0693\n",
            "Epoch [7/12], global step [1932/3312], Train Loss: 0.0396, Valid Loss: 0.0481\n",
            "Epoch [8/12], global step [2208/3312], Train Loss: 0.0367, Valid Loss: 0.0592\n",
            "Epoch [9/12], global step [2484/3312], Train Loss: 0.0311, Valid Loss: 0.0587\n",
            "Epoch [10/12], global step [2760/3312], Train Loss: 0.0327, Valid Loss: 0.0633\n",
            "Epoch [11/12], global step [3036/3312], Train Loss: 0.0282, Valid Loss: 0.0601\n",
            "Epoch [12/12], global step [3312/3312], Train Loss: 0.0279, Valid Loss: 0.0583\n",
            "Training done!\n"
          ],
          "name": "stdout"
        }
      ]
    },
    {
      "cell_type": "code",
      "metadata": {
        "id": "YbUqyIMU4oed"
      },
      "source": [
        ""
      ],
      "execution_count": null,
      "outputs": []
    },
    {
      "cell_type": "code",
      "metadata": {
        "id": "VKAoXa-84ov7"
      },
      "source": [
        ""
      ],
      "execution_count": null,
      "outputs": []
    },
    {
      "cell_type": "code",
      "metadata": {
        "id": "TsW2Ts-PEgh2",
        "outputId": "a3fa7184-d79e-40ff-a430-8f9092af8333"
      },
      "source": [
        "plt.figure(figsize=(10, 8))\n",
        "train_loss_list, valid_loss_list, global_steps_list = load_metrics(output_path + '/metric.pkl')\n",
        "plt.plot(global_steps_list, train_loss_list, label='Train')\n",
        "plt.plot(global_steps_list, valid_loss_list, label='Valid')\n",
        "plt.xlabel('Global Steps', fontsize=14)\n",
        "plt.ylabel('Loss', fontsize=14)\n",
        "plt.legend(fontsize=14)\n",
        "plt.show() "
      ],
      "execution_count": null,
      "outputs": [
        {
          "output_type": "display_data",
          "data": {
            "image/png": "[encoded data removed]",
            "text/plain": [
              "<Figure size 720x576 with 1 Axes>"
            ]
          },
          "metadata": {
            "tags": []
          }
        }
      ]
    },
    {
      "cell_type": "code",
      "metadata": {
        "id": "oISaLV1VEgh2"
      },
      "source": [
        "# Evaluation Function\n",
        "\n",
        "def evaluate(model, test_loader):\n",
        "    y_pred = []\n",
        "    y_true = []\n",
        "\n",
        "    model.eval()\n",
        "    with torch.no_grad():\n",
        "        for (source, target), _ in test_loader:\n",
        "                mask = (source != PAD_INDEX).type(torch.uint8)\n",
        "                \n",
        "                output = model(source, attention_mask=mask)\n",
        "\n",
        "                y_pred.extend(torch.argmax(output, axis=-1).tolist())\n",
        "                y_true.extend(target.tolist())\n",
        "    \n",
        "    print('Classification Report:')\n",
        "    print(classification_report(y_true, y_pred, labels=[1,0], digits=4))\n",
        "    \n",
        "    cm = confusion_matrix(y_true, y_pred, labels=[1,0])\n",
        "    ax = plt.subplot()\n",
        "\n",
        "    sns.heatmap(cm, annot=True, ax = ax, cmap='Blues', fmt=\"d\")\n",
        "\n",
        "    ax.set_title('Confusion Matrix')\n",
        "\n",
        "    ax.set_xlabel('Predicted Labels')\n",
        "    ax.set_ylabel('True Labels')\n",
        "\n",
        "    ax.xaxis.set_ticklabels(['FAKE', 'REAL'])\n",
        "    ax.yaxis.set_ticklabels(['FAKE', 'REAL'])"
      ],
      "execution_count": null,
      "outputs": []
    },
    {
      "cell_type": "code",
      "metadata": {
        "id": "CVVoKJ4oEgh3",
        "outputId": "1581e155-e896-4d97-8c48-82ba7761d427"
      },
      "source": [
        "model = ROBERTAClassifier()\n",
        "model = model.to(device)\n",
        "\n",
        "load_checkpoint(output_path + '/model.pkl', model)\n",
        "\n",
        "evaluate(model, test_iter)"
      ],
      "execution_count": null,
      "outputs": [
        {
          "output_type": "stream",
          "text": [
            "Classification Report:\n",
            "              precision    recall  f1-score   support\n",
            "\n",
            "           1     0.9844    0.9968    0.9906       634\n",
            "           0     0.9968    0.9840    0.9904       626\n",
            "\n",
            "    accuracy                         0.9905      1260\n",
            "   macro avg     0.9906    0.9904    0.9905      1260\n",
            "weighted avg     0.9906    0.9905    0.9905      1260\n",
            "\n"
          ],
          "name": "stdout"
        },
        {
          "output_type": "display_data",
          "data": {
            "image/png": "[encoded data removed]",
            "text/plain": [
              "<Figure size 432x288 with 2 Axes>"
            ]
          },
          "metadata": {
            "tags": []
          }
        }
      ]
    },
    {
      "cell_type": "code",
      "metadata": {
        "id": "lz_RjHp0Egh3",
        "outputId": "511fbcb9-888c-427f-f80e-fb01858550c0"
      },
      "source": [
        "print(len(train_data))\n",
        "print(len(valid_data))\n",
        "print(len(test_data))"
      ],
      "execution_count": null,
      "outputs": [
        {
          "output_type": "stream",
          "text": [
            "4410\n",
            "629\n",
            "1260\n"
          ],
          "name": "stdout"
        }
      ]
    },
    {
      "cell_type": "code",
      "metadata": {
        "id": "LW1Mmt7jEgh3"
      },
      "source": [
        ""
      ],
      "execution_count": null,
      "outputs": []
    }
  ]
}