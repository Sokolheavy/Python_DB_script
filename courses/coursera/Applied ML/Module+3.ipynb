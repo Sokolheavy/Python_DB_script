{
 "cells": [
  {
   "cell_type": "markdown",
   "metadata": {},
   "source": [
    "---\n",
    "\n",
    "_You are currently looking at **version 1.0** of this notebook. To download notebooks and datafiles, as well as get help on Jupyter notebooks in the Coursera platform, visit the [Jupyter Notebook FAQ](https://www.coursera.org/learn/python-machine-learning/resources/bANLa) course resource._\n",
    "\n",
    "---"
   ]
  },
  {
   "cell_type": "markdown",
   "metadata": {
    "collapsed": true
   },
   "source": [
    "# Applied Machine Learning: Module 3 (Evaluation)"
   ]
  },
  {
   "cell_type": "markdown",
   "metadata": {},
   "source": [
    "## Evaluation for Classification"
   ]
  },
  {
   "cell_type": "markdown",
   "metadata": {},
   "source": [
    "### Preamble"
   ]
  },
  {
   "cell_type": "code",
   "execution_count": 1,
   "metadata": {
    "collapsed": false
   },
   "outputs": [
    {
     "name": "stdout",
     "output_type": "stream",
     "text": [
      "0 178\n",
      "1 182\n",
      "2 177\n",
      "3 183\n",
      "4 181\n",
      "5 182\n",
      "6 181\n",
      "7 179\n",
      "8 174\n",
      "9 180\n"
     ]
    }
   ],
   "source": [
    "%matplotlib notebook\n",
    "import numpy as np\n",
    "import pandas as pd\n",
    "import seaborn as sns\n",
    "import matplotlib.pyplot as plt\n",
    "from sklearn.model_selection import train_test_split\n",
    "from sklearn.datasets import load_digits\n",
    "\n",
    "dataset = load_digits()\n",
    "X, y = dataset.data, dataset.target\n",
    "\n",
    "for class_name, class_count in zip(dataset.target_names, np.bincount(dataset.target)):\n",
    "    print(class_name,class_count)\n",
    "    \n",
    "y_binary_imbalanced = y.copy()\n",
    "y_binary_imbalanced[y_binary_imbalanced != 1] = 0   \n",
    "X_train, X_test, y_train, y_test = train_test_split(X, y_binary_imbalanced, random_state=0)"
   ]
  },
  {
   "cell_type": "code",
   "execution_count": 3,
   "metadata": {
    "collapsed": false
   },
   "outputs": [
    {
     "name": "stdout",
     "output_type": "stream",
     "text": [
      "Original labels:\t [1 2 3 4 5 6 7 8 9 0 1 2 3 4 5 6 7 8 9 0 1 2 3 4 5 6 7 8 9]\n",
      "New binary labels:\t [1 0 0 0 0 0 0 0 0 0 1 0 0 0 0 0 0 0 0 0 1 0 0 0 0 0 0 0 0]\n"
     ]
    }
   ],
   "source": [
    "# Creating a dataset with imbalanced binary classes:  \n",
    "# Negative class (0) is 'not digit 1' \n",
    "# Positive class (1) is 'digit 1'\n",
    "y_binary_imbalanced = y.copy()\n",
    "y_binary_imbalanced[y_binary_imbalanced != 1] = 0\n",
    "\n",
    "print('Original labels:\\t', y[1:30])\n",
    "print('New binary labels:\\t', y_binary_imbalanced[1:30])"
   ]
  },
  {
   "cell_type": "code",
   "execution_count": null,
   "metadata": {
    "collapsed": false,
    "scrolled": true
   },
   "outputs": [],
   "source": [
    "np.bincount(y_binary_imbalanced)    # Negative class (0) is the most frequent class"
   ]
  },
  {
   "cell_type": "code",
   "execution_count": 4,
   "metadata": {
    "collapsed": false
   },
   "outputs": [
    {
     "data": {
      "text/plain": [
       "0.90888888888888886"
      ]
     },
     "execution_count": 4,
     "metadata": {},
     "output_type": "execute_result"
    }
   ],
   "source": [
    "X_train, X_test, y_train, y_test = train_test_split(X, y_binary_imbalanced, random_state=0)\n",
    "\n",
    "# Accuracy of Support Vector Machine classifier\n",
    "from sklearn.svm import SVC\n",
    "\n",
    "svm = SVC(kernel='rbf', C=1).fit(X_train, y_train)\n",
    "svm.score(X_test, y_test)"
   ]
  },
  {
   "cell_type": "markdown",
   "metadata": {},
   "source": [
    "### Dummy Classifiers"
   ]
  },
  {
   "cell_type": "markdown",
   "metadata": {
    "collapsed": true
   },
   "source": [
    "DummyClassifier is a classifier that makes predictions using simple rules, which can be useful as a baseline for comparison against actual classifiers, especially with imbalanced classes."
   ]
  },
  {
   "cell_type": "code",
   "execution_count": null,
   "metadata": {
    "collapsed": false
   },
   "outputs": [],
   "source": [
    "from sklearn.dummy import DummyClassifier\n",
    "\n",
    "# Negative class (0) is most frequent\n",
    "dummy_majority = DummyClassifier(strategy = 'most_frequent').fit(X_train, y_train)\n",
    "# Therefore the dummy 'most_frequent' classifier always predicts class 0\n",
    "y_dummy_predictions = dummy_majority.predict(X_test)\n",
    "\n",
    "y_dummy_predictions"
   ]
  },
  {
   "cell_type": "code",
   "execution_count": null,
   "metadata": {
    "collapsed": false
   },
   "outputs": [],
   "source": [
    "dummy_majority.score(X_test, y_test)"
   ]
  },
  {
   "cell_type": "code",
   "execution_count": null,
   "metadata": {
    "collapsed": false
   },
   "outputs": [],
   "source": [
    "svm = SVC(kernel='linear', C=1).fit(X_train, y_train)\n",
    "svm.score(X_test, y_test)"
   ]
  },
  {
   "cell_type": "markdown",
   "metadata": {},
   "source": [
    "### Confusion matrices"
   ]
  },
  {
   "cell_type": "markdown",
   "metadata": {},
   "source": [
    "#### Binary (two-class) confusion matrix"
   ]
  },
  {
   "cell_type": "code",
   "execution_count": null,
   "metadata": {
    "collapsed": false
   },
   "outputs": [],
   "source": [
    "from sklearn.metrics import confusion_matrix\n",
    "\n",
    "# Negative class (0) is most frequent\n",
    "dummy_majority = DummyClassifier(strategy = 'most_frequent').fit(X_train, y_train)\n",
    "y_majority_predicted = dummy_majority.predict(X_test)\n",
    "confusion = confusion_matrix(y_test, y_majority_predicted)\n",
    "\n",
    "print('Most frequent class (dummy classifier)\\n', confusion)"
   ]
  },
  {
   "cell_type": "code",
   "execution_count": null,
   "metadata": {
    "collapsed": false
   },
   "outputs": [],
   "source": [
    "# produces random predictions w/ same class proportion as training set\n",
    "dummy_classprop = DummyClassifier(strategy='stratified').fit(X_train, y_train)\n",
    "y_classprop_predicted = dummy_classprop.predict(X_test)\n",
    "confusion = confusion_matrix(y_test, y_classprop_predicted)\n",
    "\n",
    "print('Random class-proportional prediction (dummy classifier)\\n', confusion)"
   ]
  },
  {
   "cell_type": "code",
   "execution_count": null,
   "metadata": {
    "collapsed": false,
    "scrolled": true
   },
   "outputs": [],
   "source": [
    "svm = SVC(kernel='linear', C=1).fit(X_train, y_train)\n",
    "svm_predicted = svm.predict(X_test)\n",
    "confusion = confusion_matrix(y_test, svm_predicted)\n",
    "\n",
    "print('Support vector machine classifier (linear kernel, C=1)\\n', confusion)"
   ]
  },
  {
   "cell_type": "code",
   "execution_count": null,
   "metadata": {
    "collapsed": false
   },
   "outputs": [],
   "source": [
    "from sklearn.linear_model import LogisticRegression\n",
    "\n",
    "lr = LogisticRegression().fit(X_train, y_train)\n",
    "lr_predicted = lr.predict(X_test)\n",
    "confusion = confusion_matrix(y_test, lr_predicted)\n",
    "\n",
    "print('Logistic regression classifier (default settings)\\n', confusion)"
   ]
  },
  {
   "cell_type": "code",
   "execution_count": null,
   "metadata": {
    "collapsed": false
   },
   "outputs": [],
   "source": [
    "from sklearn.tree import DecisionTreeClassifier\n",
    "\n",
    "dt = DecisionTreeClassifier(max_depth=2).fit(X_train, y_train)\n",
    "tree_predicted = dt.predict(X_test)\n",
    "confusion = confusion_matrix(y_test, tree_predicted)\n",
    "\n",
    "print('Decision tree classifier (max_depth = 2)\\n', confusion)"
   ]
  },
  {
   "cell_type": "markdown",
   "metadata": {},
   "source": [
    "### Evaluation metrics for binary classification"
   ]
  },
  {
   "cell_type": "code",
   "execution_count": null,
   "metadata": {
    "collapsed": false
   },
   "outputs": [],
   "source": [
    "from sklearn.metrics import accuracy_score, precision_score, recall_score, f1_score\n",
    "# Accuracy = TP + TN / (TP + TN + FP + FN)\n",
    "# Precision = TP / (TP + FP)\n",
    "# Recall = TP / (TP + FN)  Also known as sensitivity, or True Positive Rate\n",
    "# F1 = 2 * Precision * Recall / (Precision + Recall) \n",
    "print('Accuracy: {:.2f}'.format(accuracy_score(y_test, tree_predicted)))\n",
    "print('Precision: {:.2f}'.format(precision_score(y_test, tree_predicted)))\n",
    "print('Recall: {:.2f}'.format(recall_score(y_test, tree_predicted)))\n",
    "print('F1: {:.2f}'.format(f1_score(y_test, tree_predicted)))"
   ]
  },
  {
   "cell_type": "code",
   "execution_count": null,
   "metadata": {
    "collapsed": false
   },
   "outputs": [],
   "source": [
    "# Combined report with all above metrics\n",
    "from sklearn.metrics import classification_report\n",
    "\n",
    "print(classification_report(y_test, tree_predicted, target_names=['not 1', '1']))"
   ]
  },
  {
   "cell_type": "code",
   "execution_count": null,
   "metadata": {
    "collapsed": false,
    "scrolled": false
   },
   "outputs": [],
   "source": [
    "print('Random class-proportional (dummy)\\n', \n",
    "      classification_report(y_test, y_classprop_predicted, target_names=['not 1', '1']))\n",
    "print('SVM\\n', \n",
    "      classification_report(y_test, svm_predicted, target_names = ['not 1', '1']))\n",
    "print('Logistic regression\\n', \n",
    "      classification_report(y_test, lr_predicted, target_names = ['not 1', '1']))\n",
    "print('Decision tree\\n', \n",
    "      classification_report(y_test, tree_predicted, target_names = ['not 1', '1']))"
   ]
  },
  {
   "cell_type": "markdown",
   "metadata": {},
   "source": [
    "### Decision functions"
   ]
  },
  {
   "cell_type": "code",
   "execution_count": 6,
   "metadata": {
    "collapsed": false
   },
   "outputs": [],
   "source": [
    "from sklearn.linear_model import LogisticRegression\n",
    "from sklearn.tree import DecisionTreeClassifier\n",
    "from sklearn.metrics import confusion_matrix\n",
    "\n",
    "lr = LogisticRegression().fit(X_train, y_train)\n",
    "lr_predicted = lr.predict(X_test)\n",
    "confusion = confusion_matrix(y_test, lr_predicted)\n",
    "\n",
    "X_train, X_test, y_train, y_test = train_test_split(X, y_binary_imbalanced, random_state=0)\n",
    "y_scores_lr = lr.fit(X_train, y_train).decision_function(X_test)\n",
    "\n"
   ]
  },
  {
   "cell_type": "code",
   "execution_count": 7,
   "metadata": {
    "collapsed": false
   },
   "outputs": [
    {
     "data": {
      "text/plain": [
       "[(0, 8.6377579220606777e-11),\n",
       " (0, 1.3138118599563783e-06),\n",
       " (0, 3.6997386039099529e-10),\n",
       " (0, 6.1730972504865465e-09),\n",
       " (0, 2.6914925394345074e-09),\n",
       " (0, 5.8506057771143608e-05),\n",
       " (1, 0.99468934644404694),\n",
       " (0, 4.1175302368500096e-09),\n",
       " (0, 1.2574750894253029e-11),\n",
       " (0, 3.3252290754668869e-10),\n",
       " (0, 3.2695529799373086e-11),\n",
       " (0, 3.1407283576084884e-09),\n",
       " (0, 1.5800864117150149e-10),\n",
       " (0, 1.9943442430612578e-05),\n",
       " (0, 6.7368003023860014e-06),\n",
       " (0, 1.7089540581641637e-05),\n",
       " (1, 0.9999864188091131),\n",
       " (0, 9.8694940340195476e-13),\n",
       " (0, 2.6059983600823893e-06),\n",
       " (0, 5.9469113009063784e-12)]"
      ]
     },
     "execution_count": 7,
     "metadata": {},
     "output_type": "execute_result"
    }
   ],
   "source": [
    "X_train, X_test, y_train, y_test = train_test_split(X, y_binary_imbalanced, random_state=0)\n",
    "y_proba_lr = lr.fit(X_train, y_train).predict_proba(X_test)\n",
    "y_proba_list = list(zip(y_test[0:20], y_proba_lr[0:20,1]))\n",
    "\n",
    "# show the probability of positive class for first 20 instances\n",
    "y_proba_list"
   ]
  },
  {
   "cell_type": "markdown",
   "metadata": {},
   "source": [
    "### Precision-recall curves"
   ]
  },
  {
   "cell_type": "code",
   "execution_count": 8,
   "metadata": {
    "collapsed": false
   },
   "outputs": [
    {
     "data": {
      "application/javascript": [
       "/* Put everything inside the global mpl namespace */\n",
       "window.mpl = {};\n",
       "\n",
       "\n",
       "mpl.get_websocket_type = function() {\n",
       "    if (typeof(WebSocket) !== 'undefined') {\n",
       "        return WebSocket;\n",
       "    } else if (typeof(MozWebSocket) !== 'undefined') {\n",
       "        return MozWebSocket;\n",
       "    } else {\n",
       "        alert('Your browser does not have WebSocket support.' +\n",
       "              'Please try Chrome, Safari or Firefox ≥ 6. ' +\n",
       "              'Firefox 4 and 5 are also supported but you ' +\n",
       "              'have to enable WebSockets in about:config.');\n",
       "    };\n",
       "}\n",
       "\n",
       "mpl.figure = function(figure_id, websocket, ondownload, parent_element) {\n",
       "    this.id = figure_id;\n",
       "\n",
       "    this.ws = websocket;\n",
       "\n",
       "    this.supports_binary = (this.ws.binaryType != undefined);\n",
       "\n",
       "    if (!this.supports_binary) {\n",
       "        var warnings = document.getElementById(\"mpl-warnings\");\n",
       "        if (warnings) {\n",
       "            warnings.style.display = 'block';\n",
       "            warnings.textContent = (\n",
       "                \"This browser does not support binary websocket messages. \" +\n",
       "                    \"Performance may be slow.\");\n",
       "        }\n",
       "    }\n",
       "\n",
       "    this.imageObj = new Image();\n",
       "\n",
       "    this.context = undefined;\n",
       "    this.message = undefined;\n",
       "    this.canvas = undefined;\n",
       "    this.rubberband_canvas = undefined;\n",
       "    this.rubberband_context = undefined;\n",
       "    this.format_dropdown = undefined;\n",
       "\n",
       "    this.image_mode = 'full';\n",
       "\n",
       "    this.root = $('<div/>');\n",
       "    this._root_extra_style(this.root)\n",
       "    this.root.attr('style', 'display: inline-block');\n",
       "\n",
       "    $(parent_element).append(this.root);\n",
       "\n",
       "    this._init_header(this);\n",
       "    this._init_canvas(this);\n",
       "    this._init_toolbar(this);\n",
       "\n",
       "    var fig = this;\n",
       "\n",
       "    this.waiting = false;\n",
       "\n",
       "    this.ws.onopen =  function () {\n",
       "            fig.send_message(\"supports_binary\", {value: fig.supports_binary});\n",
       "            fig.send_message(\"send_image_mode\", {});\n",
       "            if (mpl.ratio != 1) {\n",
       "                fig.send_message(\"set_dpi_ratio\", {'dpi_ratio': mpl.ratio});\n",
       "            }\n",
       "            fig.send_message(\"refresh\", {});\n",
       "        }\n",
       "\n",
       "    this.imageObj.onload = function() {\n",
       "            if (fig.image_mode == 'full') {\n",
       "                // Full images could contain transparency (where diff images\n",
       "                // almost always do), so we need to clear the canvas so that\n",
       "                // there is no ghosting.\n",
       "                fig.context.clearRect(0, 0, fig.canvas.width, fig.canvas.height);\n",
       "            }\n",
       "            fig.context.drawImage(fig.imageObj, 0, 0);\n",
       "        };\n",
       "\n",
       "    this.imageObj.onunload = function() {\n",
       "        this.ws.close();\n",
       "    }\n",
       "\n",
       "    this.ws.onmessage = this._make_on_message_function(this);\n",
       "\n",
       "    this.ondownload = ondownload;\n",
       "}\n",
       "\n",
       "mpl.figure.prototype._init_header = function() {\n",
       "    var titlebar = $(\n",
       "        '<div class=\"ui-dialog-titlebar ui-widget-header ui-corner-all ' +\n",
       "        'ui-helper-clearfix\"/>');\n",
       "    var titletext = $(\n",
       "        '<div class=\"ui-dialog-title\" style=\"width: 100%; ' +\n",
       "        'text-align: center; padding: 3px;\"/>');\n",
       "    titlebar.append(titletext)\n",
       "    this.root.append(titlebar);\n",
       "    this.header = titletext[0];\n",
       "}\n",
       "\n",
       "\n",
       "\n",
       "mpl.figure.prototype._canvas_extra_style = function(canvas_div) {\n",
       "\n",
       "}\n",
       "\n",
       "\n",
       "mpl.figure.prototype._root_extra_style = function(canvas_div) {\n",
       "\n",
       "}\n",
       "\n",
       "mpl.figure.prototype._init_canvas = function() {\n",
       "    var fig = this;\n",
       "\n",
       "    var canvas_div = $('<div/>');\n",
       "\n",
       "    canvas_div.attr('style', 'position: relative; clear: both; outline: 0');\n",
       "\n",
       "    function canvas_keyboard_event(event) {\n",
       "        return fig.key_event(event, event['data']);\n",
       "    }\n",
       "\n",
       "    canvas_div.keydown('key_press', canvas_keyboard_event);\n",
       "    canvas_div.keyup('key_release', canvas_keyboard_event);\n",
       "    this.canvas_div = canvas_div\n",
       "    this._canvas_extra_style(canvas_div)\n",
       "    this.root.append(canvas_div);\n",
       "\n",
       "    var canvas = $('<canvas/>');\n",
       "    canvas.addClass('mpl-canvas');\n",
       "    canvas.attr('style', \"left: 0; top: 0; z-index: 0; outline: 0\")\n",
       "\n",
       "    this.canvas = canvas[0];\n",
       "    this.context = canvas[0].getContext(\"2d\");\n",
       "\n",
       "    var backingStore = this.context.backingStorePixelRatio ||\n",
       "\tthis.context.webkitBackingStorePixelRatio ||\n",
       "\tthis.context.mozBackingStorePixelRatio ||\n",
       "\tthis.context.msBackingStorePixelRatio ||\n",
       "\tthis.context.oBackingStorePixelRatio ||\n",
       "\tthis.context.backingStorePixelRatio || 1;\n",
       "\n",
       "    mpl.ratio = (window.devicePixelRatio || 1) / backingStore;\n",
       "\n",
       "    var rubberband = $('<canvas/>');\n",
       "    rubberband.attr('style', \"position: absolute; left: 0; top: 0; z-index: 1;\")\n",
       "\n",
       "    var pass_mouse_events = true;\n",
       "\n",
       "    canvas_div.resizable({\n",
       "        start: function(event, ui) {\n",
       "            pass_mouse_events = false;\n",
       "        },\n",
       "        resize: function(event, ui) {\n",
       "            fig.request_resize(ui.size.width, ui.size.height);\n",
       "        },\n",
       "        stop: function(event, ui) {\n",
       "            pass_mouse_events = true;\n",
       "            fig.request_resize(ui.size.width, ui.size.height);\n",
       "        },\n",
       "    });\n",
       "\n",
       "    function mouse_event_fn(event) {\n",
       "        if (pass_mouse_events)\n",
       "            return fig.mouse_event(event, event['data']);\n",
       "    }\n",
       "\n",
       "    rubberband.mousedown('button_press', mouse_event_fn);\n",
       "    rubberband.mouseup('button_release', mouse_event_fn);\n",
       "    // Throttle sequential mouse events to 1 every 20ms.\n",
       "    rubberband.mousemove('motion_notify', mouse_event_fn);\n",
       "\n",
       "    rubberband.mouseenter('figure_enter', mouse_event_fn);\n",
       "    rubberband.mouseleave('figure_leave', mouse_event_fn);\n",
       "\n",
       "    canvas_div.on(\"wheel\", function (event) {\n",
       "        event = event.originalEvent;\n",
       "        event['data'] = 'scroll'\n",
       "        if (event.deltaY < 0) {\n",
       "            event.step = 1;\n",
       "        } else {\n",
       "            event.step = -1;\n",
       "        }\n",
       "        mouse_event_fn(event);\n",
       "    });\n",
       "\n",
       "    canvas_div.append(canvas);\n",
       "    canvas_div.append(rubberband);\n",
       "\n",
       "    this.rubberband = rubberband;\n",
       "    this.rubberband_canvas = rubberband[0];\n",
       "    this.rubberband_context = rubberband[0].getContext(\"2d\");\n",
       "    this.rubberband_context.strokeStyle = \"#000000\";\n",
       "\n",
       "    this._resize_canvas = function(width, height) {\n",
       "        // Keep the size of the canvas, canvas container, and rubber band\n",
       "        // canvas in synch.\n",
       "        canvas_div.css('width', width)\n",
       "        canvas_div.css('height', height)\n",
       "\n",
       "        canvas.attr('width', width * mpl.ratio);\n",
       "        canvas.attr('height', height * mpl.ratio);\n",
       "        canvas.attr('style', 'width: ' + width + 'px; height: ' + height + 'px;');\n",
       "\n",
       "        rubberband.attr('width', width);\n",
       "        rubberband.attr('height', height);\n",
       "    }\n",
       "\n",
       "    // Set the figure to an initial 600x600px, this will subsequently be updated\n",
       "    // upon first draw.\n",
       "    this._resize_canvas(600, 600);\n",
       "\n",
       "    // Disable right mouse context menu.\n",
       "    $(this.rubberband_canvas).bind(\"contextmenu\",function(e){\n",
       "        return false;\n",
       "    });\n",
       "\n",
       "    function set_focus () {\n",
       "        canvas.focus();\n",
       "        canvas_div.focus();\n",
       "    }\n",
       "\n",
       "    window.setTimeout(set_focus, 100);\n",
       "}\n",
       "\n",
       "mpl.figure.prototype._init_toolbar = function() {\n",
       "    var fig = this;\n",
       "\n",
       "    var nav_element = $('<div/>')\n",
       "    nav_element.attr('style', 'width: 100%');\n",
       "    this.root.append(nav_element);\n",
       "\n",
       "    // Define a callback function for later on.\n",
       "    function toolbar_event(event) {\n",
       "        return fig.toolbar_button_onclick(event['data']);\n",
       "    }\n",
       "    function toolbar_mouse_event(event) {\n",
       "        return fig.toolbar_button_onmouseover(event['data']);\n",
       "    }\n",
       "\n",
       "    for(var toolbar_ind in mpl.toolbar_items) {\n",
       "        var name = mpl.toolbar_items[toolbar_ind][0];\n",
       "        var tooltip = mpl.toolbar_items[toolbar_ind][1];\n",
       "        var image = mpl.toolbar_items[toolbar_ind][2];\n",
       "        var method_name = mpl.toolbar_items[toolbar_ind][3];\n",
       "\n",
       "        if (!name) {\n",
       "            // put a spacer in here.\n",
       "            continue;\n",
       "        }\n",
       "        var button = $('<button/>');\n",
       "        button.addClass('ui-button ui-widget ui-state-default ui-corner-all ' +\n",
       "                        'ui-button-icon-only');\n",
       "        button.attr('role', 'button');\n",
       "        button.attr('aria-disabled', 'false');\n",
       "        button.click(method_name, toolbar_event);\n",
       "        button.mouseover(tooltip, toolbar_mouse_event);\n",
       "\n",
       "        var icon_img = $('<span/>');\n",
       "        icon_img.addClass('ui-button-icon-primary ui-icon');\n",
       "        icon_img.addClass(image);\n",
       "        icon_img.addClass('ui-corner-all');\n",
       "\n",
       "        var tooltip_span = $('<span/>');\n",
       "        tooltip_span.addClass('ui-button-text');\n",
       "        tooltip_span.html(tooltip);\n",
       "\n",
       "        button.append(icon_img);\n",
       "        button.append(tooltip_span);\n",
       "\n",
       "        nav_element.append(button);\n",
       "    }\n",
       "\n",
       "    var fmt_picker_span = $('<span/>');\n",
       "\n",
       "    var fmt_picker = $('<select/>');\n",
       "    fmt_picker.addClass('mpl-toolbar-option ui-widget ui-widget-content');\n",
       "    fmt_picker_span.append(fmt_picker);\n",
       "    nav_element.append(fmt_picker_span);\n",
       "    this.format_dropdown = fmt_picker[0];\n",
       "\n",
       "    for (var ind in mpl.extensions) {\n",
       "        var fmt = mpl.extensions[ind];\n",
       "        var option = $(\n",
       "            '<option/>', {selected: fmt === mpl.default_extension}).html(fmt);\n",
       "        fmt_picker.append(option)\n",
       "    }\n",
       "\n",
       "    // Add hover states to the ui-buttons\n",
       "    $( \".ui-button\" ).hover(\n",
       "        function() { $(this).addClass(\"ui-state-hover\");},\n",
       "        function() { $(this).removeClass(\"ui-state-hover\");}\n",
       "    );\n",
       "\n",
       "    var status_bar = $('<span class=\"mpl-message\"/>');\n",
       "    nav_element.append(status_bar);\n",
       "    this.message = status_bar[0];\n",
       "}\n",
       "\n",
       "mpl.figure.prototype.request_resize = function(x_pixels, y_pixels) {\n",
       "    // Request matplotlib to resize the figure. Matplotlib will then trigger a resize in the client,\n",
       "    // which will in turn request a refresh of the image.\n",
       "    this.send_message('resize', {'width': x_pixels, 'height': y_pixels});\n",
       "}\n",
       "\n",
       "mpl.figure.prototype.send_message = function(type, properties) {\n",
       "    properties['type'] = type;\n",
       "    properties['figure_id'] = this.id;\n",
       "    this.ws.send(JSON.stringify(properties));\n",
       "}\n",
       "\n",
       "mpl.figure.prototype.send_draw_message = function() {\n",
       "    if (!this.waiting) {\n",
       "        this.waiting = true;\n",
       "        this.ws.send(JSON.stringify({type: \"draw\", figure_id: this.id}));\n",
       "    }\n",
       "}\n",
       "\n",
       "\n",
       "mpl.figure.prototype.handle_save = function(fig, msg) {\n",
       "    var format_dropdown = fig.format_dropdown;\n",
       "    var format = format_dropdown.options[format_dropdown.selectedIndex].value;\n",
       "    fig.ondownload(fig, format);\n",
       "}\n",
       "\n",
       "\n",
       "mpl.figure.prototype.handle_resize = function(fig, msg) {\n",
       "    var size = msg['size'];\n",
       "    if (size[0] != fig.canvas.width || size[1] != fig.canvas.height) {\n",
       "        fig._resize_canvas(size[0], size[1]);\n",
       "        fig.send_message(\"refresh\", {});\n",
       "    };\n",
       "}\n",
       "\n",
       "mpl.figure.prototype.handle_rubberband = function(fig, msg) {\n",
       "    var x0 = msg['x0'] / mpl.ratio;\n",
       "    var y0 = (fig.canvas.height - msg['y0']) / mpl.ratio;\n",
       "    var x1 = msg['x1'] / mpl.ratio;\n",
       "    var y1 = (fig.canvas.height - msg['y1']) / mpl.ratio;\n",
       "    x0 = Math.floor(x0) + 0.5;\n",
       "    y0 = Math.floor(y0) + 0.5;\n",
       "    x1 = Math.floor(x1) + 0.5;\n",
       "    y1 = Math.floor(y1) + 0.5;\n",
       "    var min_x = Math.min(x0, x1);\n",
       "    var min_y = Math.min(y0, y1);\n",
       "    var width = Math.abs(x1 - x0);\n",
       "    var height = Math.abs(y1 - y0);\n",
       "\n",
       "    fig.rubberband_context.clearRect(\n",
       "        0, 0, fig.canvas.width, fig.canvas.height);\n",
       "\n",
       "    fig.rubberband_context.strokeRect(min_x, min_y, width, height);\n",
       "}\n",
       "\n",
       "mpl.figure.prototype.handle_figure_label = function(fig, msg) {\n",
       "    // Updates the figure title.\n",
       "    fig.header.textContent = msg['label'];\n",
       "}\n",
       "\n",
       "mpl.figure.prototype.handle_cursor = function(fig, msg) {\n",
       "    var cursor = msg['cursor'];\n",
       "    switch(cursor)\n",
       "    {\n",
       "    case 0:\n",
       "        cursor = 'pointer';\n",
       "        break;\n",
       "    case 1:\n",
       "        cursor = 'default';\n",
       "        break;\n",
       "    case 2:\n",
       "        cursor = 'crosshair';\n",
       "        break;\n",
       "    case 3:\n",
       "        cursor = 'move';\n",
       "        break;\n",
       "    }\n",
       "    fig.rubberband_canvas.style.cursor = cursor;\n",
       "}\n",
       "\n",
       "mpl.figure.prototype.handle_message = function(fig, msg) {\n",
       "    fig.message.textContent = msg['message'];\n",
       "}\n",
       "\n",
       "mpl.figure.prototype.handle_draw = function(fig, msg) {\n",
       "    // Request the server to send over a new figure.\n",
       "    fig.send_draw_message();\n",
       "}\n",
       "\n",
       "mpl.figure.prototype.handle_image_mode = function(fig, msg) {\n",
       "    fig.image_mode = msg['mode'];\n",
       "}\n",
       "\n",
       "mpl.figure.prototype.updated_canvas_event = function() {\n",
       "    // Called whenever the canvas gets updated.\n",
       "    this.send_message(\"ack\", {});\n",
       "}\n",
       "\n",
       "// A function to construct a web socket function for onmessage handling.\n",
       "// Called in the figure constructor.\n",
       "mpl.figure.prototype._make_on_message_function = function(fig) {\n",
       "    return function socket_on_message(evt) {\n",
       "        if (evt.data instanceof Blob) {\n",
       "            /* FIXME: We get \"Resource interpreted as Image but\n",
       "             * transferred with MIME type text/plain:\" errors on\n",
       "             * Chrome.  But how to set the MIME type?  It doesn't seem\n",
       "             * to be part of the websocket stream */\n",
       "            evt.data.type = \"image/png\";\n",
       "\n",
       "            /* Free the memory for the previous frames */\n",
       "            if (fig.imageObj.src) {\n",
       "                (window.URL || window.webkitURL).revokeObjectURL(\n",
       "                    fig.imageObj.src);\n",
       "            }\n",
       "\n",
       "            fig.imageObj.src = (window.URL || window.webkitURL).createObjectURL(\n",
       "                evt.data);\n",
       "            fig.updated_canvas_event();\n",
       "            fig.waiting = false;\n",
       "            return;\n",
       "        }\n",
       "        else if (typeof evt.data === 'string' && evt.data.slice(0, 21) == \"data:image/png;base64\") {\n",
       "            fig.imageObj.src = evt.data;\n",
       "            fig.updated_canvas_event();\n",
       "            fig.waiting = false;\n",
       "            return;\n",
       "        }\n",
       "\n",
       "        var msg = JSON.parse(evt.data);\n",
       "        var msg_type = msg['type'];\n",
       "\n",
       "        // Call the  \"handle_{type}\" callback, which takes\n",
       "        // the figure and JSON message as its only arguments.\n",
       "        try {\n",
       "            var callback = fig[\"handle_\" + msg_type];\n",
       "        } catch (e) {\n",
       "            console.log(\"No handler for the '\" + msg_type + \"' message type: \", msg);\n",
       "            return;\n",
       "        }\n",
       "\n",
       "        if (callback) {\n",
       "            try {\n",
       "                // console.log(\"Handling '\" + msg_type + \"' message: \", msg);\n",
       "                callback(fig, msg);\n",
       "            } catch (e) {\n",
       "                console.log(\"Exception inside the 'handler_\" + msg_type + \"' callback:\", e, e.stack, msg);\n",
       "            }\n",
       "        }\n",
       "    };\n",
       "}\n",
       "\n",
       "// from http://stackoverflow.com/questions/1114465/getting-mouse-location-in-canvas\n",
       "mpl.findpos = function(e) {\n",
       "    //this section is from http://www.quirksmode.org/js/events_properties.html\n",
       "    var targ;\n",
       "    if (!e)\n",
       "        e = window.event;\n",
       "    if (e.target)\n",
       "        targ = e.target;\n",
       "    else if (e.srcElement)\n",
       "        targ = e.srcElement;\n",
       "    if (targ.nodeType == 3) // defeat Safari bug\n",
       "        targ = targ.parentNode;\n",
       "\n",
       "    // jQuery normalizes the pageX and pageY\n",
       "    // pageX,Y are the mouse positions relative to the document\n",
       "    // offset() returns the position of the element relative to the document\n",
       "    var x = e.pageX - $(targ).offset().left;\n",
       "    var y = e.pageY - $(targ).offset().top;\n",
       "\n",
       "    return {\"x\": x, \"y\": y};\n",
       "};\n",
       "\n",
       "/*\n",
       " * return a copy of an object with only non-object keys\n",
       " * we need this to avoid circular references\n",
       " * http://stackoverflow.com/a/24161582/3208463\n",
       " */\n",
       "function simpleKeys (original) {\n",
       "  return Object.keys(original).reduce(function (obj, key) {\n",
       "    if (typeof original[key] !== 'object')\n",
       "        obj[key] = original[key]\n",
       "    return obj;\n",
       "  }, {});\n",
       "}\n",
       "\n",
       "mpl.figure.prototype.mouse_event = function(event, name) {\n",
       "    var canvas_pos = mpl.findpos(event)\n",
       "\n",
       "    if (name === 'button_press')\n",
       "    {\n",
       "        this.canvas.focus();\n",
       "        this.canvas_div.focus();\n",
       "    }\n",
       "\n",
       "    var x = canvas_pos.x * mpl.ratio;\n",
       "    var y = canvas_pos.y * mpl.ratio;\n",
       "\n",
       "    this.send_message(name, {x: x, y: y, button: event.button,\n",
       "                             step: event.step,\n",
       "                             guiEvent: simpleKeys(event)});\n",
       "\n",
       "    /* This prevents the web browser from automatically changing to\n",
       "     * the text insertion cursor when the button is pressed.  We want\n",
       "     * to control all of the cursor setting manually through the\n",
       "     * 'cursor' event from matplotlib */\n",
       "    event.preventDefault();\n",
       "    return false;\n",
       "}\n",
       "\n",
       "mpl.figure.prototype._key_event_extra = function(event, name) {\n",
       "    // Handle any extra behaviour associated with a key event\n",
       "}\n",
       "\n",
       "mpl.figure.prototype.key_event = function(event, name) {\n",
       "\n",
       "    // Prevent repeat events\n",
       "    if (name == 'key_press')\n",
       "    {\n",
       "        if (event.which === this._key)\n",
       "            return;\n",
       "        else\n",
       "            this._key = event.which;\n",
       "    }\n",
       "    if (name == 'key_release')\n",
       "        this._key = null;\n",
       "\n",
       "    var value = '';\n",
       "    if (event.ctrlKey && event.which != 17)\n",
       "        value += \"ctrl+\";\n",
       "    if (event.altKey && event.which != 18)\n",
       "        value += \"alt+\";\n",
       "    if (event.shiftKey && event.which != 16)\n",
       "        value += \"shift+\";\n",
       "\n",
       "    value += 'k';\n",
       "    value += event.which.toString();\n",
       "\n",
       "    this._key_event_extra(event, name);\n",
       "\n",
       "    this.send_message(name, {key: value,\n",
       "                             guiEvent: simpleKeys(event)});\n",
       "    return false;\n",
       "}\n",
       "\n",
       "mpl.figure.prototype.toolbar_button_onclick = function(name) {\n",
       "    if (name == 'download') {\n",
       "        this.handle_save(this, null);\n",
       "    } else {\n",
       "        this.send_message(\"toolbar_button\", {name: name});\n",
       "    }\n",
       "};\n",
       "\n",
       "mpl.figure.prototype.toolbar_button_onmouseover = function(tooltip) {\n",
       "    this.message.textContent = tooltip;\n",
       "};\n",
       "mpl.toolbar_items = [[\"Home\", \"Reset original view\", \"fa fa-home icon-home\", \"home\"], [\"Back\", \"Back to  previous view\", \"fa fa-arrow-left icon-arrow-left\", \"back\"], [\"Forward\", \"Forward to next view\", \"fa fa-arrow-right icon-arrow-right\", \"forward\"], [\"\", \"\", \"\", \"\"], [\"Pan\", \"Pan axes with left mouse, zoom with right\", \"fa fa-arrows icon-move\", \"pan\"], [\"Zoom\", \"Zoom to rectangle\", \"fa fa-square-o icon-check-empty\", \"zoom\"], [\"\", \"\", \"\", \"\"], [\"Download\", \"Download plot\", \"fa fa-floppy-o icon-save\", \"download\"]];\n",
       "\n",
       "mpl.extensions = [\"eps\", \"jpeg\", \"pdf\", \"png\", \"ps\", \"raw\", \"svg\", \"tif\"];\n",
       "\n",
       "mpl.default_extension = \"png\";var comm_websocket_adapter = function(comm) {\n",
       "    // Create a \"websocket\"-like object which calls the given IPython comm\n",
       "    // object with the appropriate methods. Currently this is a non binary\n",
       "    // socket, so there is still some room for performance tuning.\n",
       "    var ws = {};\n",
       "\n",
       "    ws.close = function() {\n",
       "        comm.close()\n",
       "    };\n",
       "    ws.send = function(m) {\n",
       "        //console.log('sending', m);\n",
       "        comm.send(m);\n",
       "    };\n",
       "    // Register the callback with on_msg.\n",
       "    comm.on_msg(function(msg) {\n",
       "        //console.log('receiving', msg['content']['data'], msg);\n",
       "        // Pass the mpl event to the overriden (by mpl) onmessage function.\n",
       "        ws.onmessage(msg['content']['data'])\n",
       "    });\n",
       "    return ws;\n",
       "}\n",
       "\n",
       "mpl.mpl_figure_comm = function(comm, msg) {\n",
       "    // This is the function which gets called when the mpl process\n",
       "    // starts-up an IPython Comm through the \"matplotlib\" channel.\n",
       "\n",
       "    var id = msg.content.data.id;\n",
       "    // Get hold of the div created by the display call when the Comm\n",
       "    // socket was opened in Python.\n",
       "    var element = $(\"#\" + id);\n",
       "    var ws_proxy = comm_websocket_adapter(comm)\n",
       "\n",
       "    function ondownload(figure, format) {\n",
       "        window.open(figure.imageObj.src);\n",
       "    }\n",
       "\n",
       "    var fig = new mpl.figure(id, ws_proxy,\n",
       "                           ondownload,\n",
       "                           element.get(0));\n",
       "\n",
       "    // Call onopen now - mpl needs it, as it is assuming we've passed it a real\n",
       "    // web socket which is closed, not our websocket->open comm proxy.\n",
       "    ws_proxy.onopen();\n",
       "\n",
       "    fig.parent_element = element.get(0);\n",
       "    fig.cell_info = mpl.find_output_cell(\"<div id='\" + id + \"'></div>\");\n",
       "    if (!fig.cell_info) {\n",
       "        console.error(\"Failed to find cell for figure\", id, fig);\n",
       "        return;\n",
       "    }\n",
       "\n",
       "    var output_index = fig.cell_info[2]\n",
       "    var cell = fig.cell_info[0];\n",
       "\n",
       "};\n",
       "\n",
       "mpl.figure.prototype.handle_close = function(fig, msg) {\n",
       "    var width = fig.canvas.width/mpl.ratio\n",
       "    fig.root.unbind('remove')\n",
       "\n",
       "    // Update the output cell to use the data from the current canvas.\n",
       "    fig.push_to_output();\n",
       "    var dataURL = fig.canvas.toDataURL();\n",
       "    // Re-enable the keyboard manager in IPython - without this line, in FF,\n",
       "    // the notebook keyboard shortcuts fail.\n",
       "    IPython.keyboard_manager.enable()\n",
       "    $(fig.parent_element).html('<img src=\"' + dataURL + '\" width=\"' + width + '\">');\n",
       "    fig.close_ws(fig, msg);\n",
       "}\n",
       "\n",
       "mpl.figure.prototype.close_ws = function(fig, msg){\n",
       "    fig.send_message('closing', msg);\n",
       "    // fig.ws.close()\n",
       "}\n",
       "\n",
       "mpl.figure.prototype.push_to_output = function(remove_interactive) {\n",
       "    // Turn the data on the canvas into data in the output cell.\n",
       "    var width = this.canvas.width/mpl.ratio\n",
       "    var dataURL = this.canvas.toDataURL();\n",
       "    this.cell_info[1]['text/html'] = '<img src=\"' + dataURL + '\" width=\"' + width + '\">';\n",
       "}\n",
       "\n",
       "mpl.figure.prototype.updated_canvas_event = function() {\n",
       "    // Tell IPython that the notebook contents must change.\n",
       "    IPython.notebook.set_dirty(true);\n",
       "    this.send_message(\"ack\", {});\n",
       "    var fig = this;\n",
       "    // Wait a second, then push the new image to the DOM so\n",
       "    // that it is saved nicely (might be nice to debounce this).\n",
       "    setTimeout(function () { fig.push_to_output() }, 1000);\n",
       "}\n",
       "\n",
       "mpl.figure.prototype._init_toolbar = function() {\n",
       "    var fig = this;\n",
       "\n",
       "    var nav_element = $('<div/>')\n",
       "    nav_element.attr('style', 'width: 100%');\n",
       "    this.root.append(nav_element);\n",
       "\n",
       "    // Define a callback function for later on.\n",
       "    function toolbar_event(event) {\n",
       "        return fig.toolbar_button_onclick(event['data']);\n",
       "    }\n",
       "    function toolbar_mouse_event(event) {\n",
       "        return fig.toolbar_button_onmouseover(event['data']);\n",
       "    }\n",
       "\n",
       "    for(var toolbar_ind in mpl.toolbar_items){\n",
       "        var name = mpl.toolbar_items[toolbar_ind][0];\n",
       "        var tooltip = mpl.toolbar_items[toolbar_ind][1];\n",
       "        var image = mpl.toolbar_items[toolbar_ind][2];\n",
       "        var method_name = mpl.toolbar_items[toolbar_ind][3];\n",
       "\n",
       "        if (!name) { continue; };\n",
       "\n",
       "        var button = $('<button class=\"btn btn-default\" href=\"#\" title=\"' + name + '\"><i class=\"fa ' + image + ' fa-lg\"></i></button>');\n",
       "        button.click(method_name, toolbar_event);\n",
       "        button.mouseover(tooltip, toolbar_mouse_event);\n",
       "        nav_element.append(button);\n",
       "    }\n",
       "\n",
       "    // Add the status bar.\n",
       "    var status_bar = $('<span class=\"mpl-message\" style=\"text-align:right; float: right;\"/>');\n",
       "    nav_element.append(status_bar);\n",
       "    this.message = status_bar[0];\n",
       "\n",
       "    // Add the close button to the window.\n",
       "    var buttongrp = $('<div class=\"btn-group inline pull-right\"></div>');\n",
       "    var button = $('<button class=\"btn btn-mini btn-primary\" href=\"#\" title=\"Stop Interaction\"><i class=\"fa fa-power-off icon-remove icon-large\"></i></button>');\n",
       "    button.click(function (evt) { fig.handle_close(fig, {}); } );\n",
       "    button.mouseover('Stop Interaction', toolbar_mouse_event);\n",
       "    buttongrp.append(button);\n",
       "    var titlebar = this.root.find($('.ui-dialog-titlebar'));\n",
       "    titlebar.prepend(buttongrp);\n",
       "}\n",
       "\n",
       "mpl.figure.prototype._root_extra_style = function(el){\n",
       "    var fig = this\n",
       "    el.on(\"remove\", function(){\n",
       "\tfig.close_ws(fig, {});\n",
       "    });\n",
       "}\n",
       "\n",
       "mpl.figure.prototype._canvas_extra_style = function(el){\n",
       "    // this is important to make the div 'focusable\n",
       "    el.attr('tabindex', 0)\n",
       "    // reach out to IPython and tell the keyboard manager to turn it's self\n",
       "    // off when our div gets focus\n",
       "\n",
       "    // location in version 3\n",
       "    if (IPython.notebook.keyboard_manager) {\n",
       "        IPython.notebook.keyboard_manager.register_events(el);\n",
       "    }\n",
       "    else {\n",
       "        // location in version 2\n",
       "        IPython.keyboard_manager.register_events(el);\n",
       "    }\n",
       "\n",
       "}\n",
       "\n",
       "mpl.figure.prototype._key_event_extra = function(event, name) {\n",
       "    var manager = IPython.notebook.keyboard_manager;\n",
       "    if (!manager)\n",
       "        manager = IPython.keyboard_manager;\n",
       "\n",
       "    // Check for shift+enter\n",
       "    if (event.shiftKey && event.which == 13) {\n",
       "        this.canvas_div.blur();\n",
       "        // select the cell after this one\n",
       "        var index = IPython.notebook.find_cell_index(this.cell_info[0]);\n",
       "        IPython.notebook.select(index + 1);\n",
       "    }\n",
       "}\n",
       "\n",
       "mpl.figure.prototype.handle_save = function(fig, msg) {\n",
       "    fig.ondownload(fig, null);\n",
       "}\n",
       "\n",
       "\n",
       "mpl.find_output_cell = function(html_output) {\n",
       "    // Return the cell and output element which can be found *uniquely* in the notebook.\n",
       "    // Note - this is a bit hacky, but it is done because the \"notebook_saving.Notebook\"\n",
       "    // IPython event is triggered only after the cells have been serialised, which for\n",
       "    // our purposes (turning an active figure into a static one), is too late.\n",
       "    var cells = IPython.notebook.get_cells();\n",
       "    var ncells = cells.length;\n",
       "    for (var i=0; i<ncells; i++) {\n",
       "        var cell = cells[i];\n",
       "        if (cell.cell_type === 'code'){\n",
       "            for (var j=0; j<cell.output_area.outputs.length; j++) {\n",
       "                var data = cell.output_area.outputs[j];\n",
       "                if (data.data) {\n",
       "                    // IPython >= 3 moved mimebundle to data attribute of output\n",
       "                    data = data.data;\n",
       "                }\n",
       "                if (data['text/html'] == html_output) {\n",
       "                    return [cell, data, j];\n",
       "                }\n",
       "            }\n",
       "        }\n",
       "    }\n",
       "}\n",
       "\n",
       "// Register the function which deals with the matplotlib target/channel.\n",
       "// The kernel may be null if the page has been refreshed.\n",
       "if (IPython.notebook.kernel != null) {\n",
       "    IPython.notebook.kernel.comm_manager.register_target('matplotlib', mpl.mpl_figure_comm);\n",
       "}\n"
      ],
      "text/plain": [
       "<IPython.core.display.Javascript object>"
      ]
     },
     "metadata": {},
     "output_type": "display_data"
    },
    {
     "data": {
      "text/html": [
       "<img src=\"data:image/png;base64,iVBORw0KGgoAAAANSUhEUgAAAs8AAAHuCAYAAABgauG5AAAgAElEQVR4XuzdCZgcZbn3/7t6sq9kIUjCFjJTM4SQEMK+BBABEVE8CIhHEAWVJUAAd0RUVDwqhB1ECe4geGQT8PAqQggQApElZOmaIQlrCGQBsk8yXe/VA4EBEvr39FRVV3V/57r+1/V/J3c9y+d+9PmdtqfbM34QQAABBBBAAAEEEEBAEvCkKooQQAABBBBAAAEEEEDACM8cAgQQQAABBBBAAAEERAHCswhFGQIIIIAAAggggAAChGfOAAIIIIAAAggggAACogDhWYSiDAEEEEAAAQQQQAABwjNnAAEEEEAAAQQQQAABUYDwLEJRhgACCCCAAAIIIIAA4ZkzgAACCCCAAAIIIICAKEB4FqEoQwABBBBAAAEEEECA8MwZQAABBBBAAAEEEEBAFCA8i1CUIYAAAggggAACCCBAeOYMIIAAAggggAACCCAgChCeRSjKEEAAAQQQQAABBBAgPHMGEEAAAQQQQAABBBAQBQjPIhRlCCCAAAIIIIAAAggQnjkDCCCAAAIIIIAAAgiIAoRnEYoyBBBAAAEEEEAAAQQIz5wBBBBAAAEEEEAAAQREAcKzCEUZAggggAACCCCAAAKEZ84AAggggAACCCCAAAKiAOFZhKIMAQQQQAABBBBAAAHCM2cAAQQQQAABBBBAAAFRgPAsQlGGAAIIIIAAAggggADhmTOAAAIIIIAAAggggIAoQHgWoShDAAEEEEAAAQQQQIDwzBlAAAEEEEAAAQQQQEAUIDyLUJQhgAACCCCAAAIIIEB45gwggAACCCCAAAIIICAKEJ5FKMoQQAABBBBAAAEEECA8cwYQQAABBBBAAAEEEBAFCM8iFGUIIIAAAggggAACCBCeOQMIIIAAAggggAACCIgChGcRijIEEEAAAQQQQAABBAjPnAEEEEAAAQQQQAABBEQBwrMIRRkCCCCAAAIIIIAAAoRnzgACCCCAAAIIIIAAAqIA4VmEogwBBBBAAAEEEEAAAcIzZwABBBBAAAEEEEAAAVGA8CxCUYYAAggggAACCCCAAOGZM4AAAggggAACCCCAgChAeBahKEMAAQQQQAABBBBAgPDMGUAAAQQQQAABBBBAQBQgPItQlCGAAAIIIIAAAgggQHjmDCCAAAIIIIAAAgggIAoQnkUoyhBAAAEEEEAAAQQQIDxzBhBAAAEEEEAAAQQQEAUIzyIUZQgggAACCCCAAAIIEJ45AwgggAACCCCAAAIIiAKEZxGKMgQQQAABBBBAAAEECM+cAQQQQAABBBBAAAEERAHCswhFGQIIIIAAAggggAAChGfOAAIIIIAAAggggAACogDhWYSiDAEEEEAAAQQQQAABwjNnAAEEEEAAAQQQQAABUYDwLEJRhgACCCCAAAIIIIAA4ZkzgAACCCCAAAIIIICAKEB4FqEoQwABBBBAAAEEEECA8MwZSEog5/v+t8zsR57nHZHP5//x/okbGxv7hmF4XRiG4zzPK3ie96d8Pn+hssBCoRAuWbLSwjBUymu6xvM8GzSot+FV+hhgVdqoYwVeuhdWulWxcmNeQ4b0I8O4MVIdkQAHLyJIhvlwAd/3/+x53hthGH7K87yTNhaefd+/0sz6BEHwpdGjR/das2bNo57nnZfP528v5RuGYbhkyQorFAjPpaxyuWJ47mN4lZIyw6q0UccKvHQvrHSrYuXGvAjPboZURydAeI7OkpE+RKCpqWnvuXPnPuz7/gLP807ZRHhe7Hnex/P5/OPFoRobG79ZfBU6CIJjS+ESnksJvfvvXNpY6QJulZwt3Qsr3Yrw7GZFdfwChOf4jZmhg8CmwnNTU9OgQqGwuHv37gNnzpy5rPhIQ0PDUZ7nfT8IgjGlEIvhedmylbzyXArq7VdwBgzobXiVxioGHKxKO22oqJRX8X9xuvb2Z9r/8z/hqNH6gitYWSmrCm65U1NvzGvw4L5kmE6p8nC5Ahy8cuV4riyBTYXnESNGbF1XV/f8qlWrer344ouri4P7vv8JM7s8CIL6UpMVw3OpGv4dAQSqU6Dlxdft7EkPmOeZ/e/PjrCuXXLVuVF29R4Br/hGaH4QqIAAB68C6LU85abC84477jhw3bp1S3K53OC5c+cuKRo1NjZ+NgzD7wVBsHMpM155LiX07r/zihdWuoBbZaXO1j8ff8H+eG9gW23e2378lT3dFl2h6kpZVWi7nZ6WV547TcgAEQoQniPEZKjSAiXe8/xqoVD4dEtLyyPFkXzf/66ZjQqC4POlRuY9z6WE3hue+YNBzYv3pWpOG6oq5fXrO2fZI7MW2fgxW9qJh+3gtugKVVfKqkLb7fS0/MFgpwkZIEIBwnOEmAxVWqBEeL7Y87xt8/n8Mb7vDzSz6Z7nnbaxPy58/0yE59L2lQ44+grTU0nAcetFpby+/atH7NVlq+1LhzXZfmOGui26QtWVsqrQdjs9LeG504QMEKEA4TlCTIbauMDbn9/82Nv/OsLMXjGzlWb2HTObYGYXBEEwdejQob169+59ned5xf/dtc3zvOvz+fzPFVfCs6L0Vg2XNla6gFtlJc7W8lWtdtblU9sXeuHJe9iwwb3dFl2h6kpYVWirkUxLeI6EkUEiEiA8RwTJMJUVIDzr/lzaWOkCbpWVOFtPtiy2y//6tPXs3sWumLif5TLyN2SVsHLrZrqqCc/p6ketr4bwXOsnoEr2T3jWG8mljZUu4FZZibP1tynP2t8ffs52HD7Qzj225N8Wu20oxupKWMW4ndiHJjzHTswEDgKEZwcsStMrQHjWe8OljZUu4FZZibP1ixufsDnPLbMDxg6zQ3fb2m3BMVcP3qyH1eU2/rF5lbCKebuxDk94jpWXwR0FCM+OYJSnU4DwrPeFSxsrXcCtshJn6/RJU2z12vVuC02oeviWfe38L+620dkqYZXQtmOZhvAcCyuDlilAeC4TjsfSJUB41vvBpY2VLuBWWYmzVXy/c/F9z2n86dGtzq46e7xt7Ls8KmGVRiN1TYRnVYq6JAQIz0koM0fsAoRnnZhLGytdwK2yEmer+OWiresKbguNufrex1+wW6fMs/ph/e27x4/jlecIvAnPESAyRGQChOfIKBmokgKEZ12/EgFHX126KrFy6wdeb3n9+s7Z9sisV9rfh33CoY2EZ7djJHsNGdKPDBOBLUO4C3Dw3M14IoUChGe9KQQcrHQBt0rO1lteF0yebi+8usKOP8S3A3fZSg6Dbtq1Vc0rz7XV77TvlvCc9g6xPkmA8CwxtRcRcLDSBdwqOVtm69sKdurFD1hbIbTvfGEXa9hqM8Kz2zGSvXjlOQJYhihLgPBcFhsPpU2A8Kx3hICDlS7gVsnZMnvx1RX2/cnT2+GunDjeevXoIodBN+3aquaV59rqd9p3S3hOe4dYnyRAeJaYeOVZZ8LK0Yr/VeMtsOJ7nYvveR7cv4f9/NS9N6nI/6HhdsAIz25eVMcrQHiO15fRExIgPOvQXNpY6QJulZwts1v+3WL3PPq8DRvc2z6+xzbvAWzYqr8NGdCL/8PM7Vht0ou3bZQBySORCBCeI2FkkEoLEJ71DhBwsNIF3Co5W2ZX3zrTHs+/tlG43j262GVn7Wc5z+NvD9yO1ka9CM+OiJRHJkB4joySgSopQHjW9Qk4WOkCbpWcLbOnn11itz04r/0PBzf8rFyz3pYtX2s9u9e1vw+6+KUpWHX+bBGe3Qypjk6A8BydJSNVUIDwrONzaWOlC7hVcrY27nXPtOfslvufteLbNr7zhbe+NAWrzp8twrObIdXRCRCeo7NkpAoKEJ51fC5trHQBt0rO1sa9fn3nLHtk1iI7cOwwO/7tL03BqvNni/DsZkh1dAKE5+gsGamCAoRnHZ9LGytdwK2Ss7Vxr+9fP91efG1Fe3AuBmheeXY7V5vyIjy7O/JENAKE52gcGaXCAoRnvQEEHKx0AbdKztYHvTb1pSlYdf5sEZ7dDKmOToDwHJ0lI1VQgPCs43NpY6ULuFVytj7oVXzFufjKc/Gn45emYNX5s0V4djOkOjoBwnN0loxUQQHCs47PpY2VLuBWydn6oNe0Wa/YdRv50hSsOn+2CM9uhlRHJ0B4js6SkSooQHjW8bm0sdIF3Co5Wx/0uuX+Frtn2vPWv083G9uw+TsFxct32BZ9bd9RW1i3LnVu0DVYzTcM1mDTU7xlwnOKm8PSdAHCs25FwMFKF3Cr5Gx90Ou398y1KU+9vEnI0z4zynZtHOIGXYPVhOcabHqKt0x4TnFzWJouQHjWrQg4WOkCbpWcrQ96LVq2yv4140Vbt/7dL00Jw9CmPLWwvfibx421pm0HuEHXYDXhuQabnuItE55T3ByWpgsQnnUrAg5WuoBbJWdL8yoG6u/8alp78eVn7Wd9enbVHqzhKsJzDTc/hVsnPKewKSzJXYDwrJsRcLDSBdwqOVua14z8a3bVrTNtsz7d7dIz97VCIdQerOEqwnMNNz+FWyc8p7ApLMldgPCsmxFwsNIF3Co5W5rXHVPn221T59uYhsF29tFjCM8CG+FZQKIkMQHCc2LUTBSnAOFZ1yXgYKULuFVytjSvq2+daY/nX7NPjd/e/mvf4YRngY3wLCBRkpgA4TkxaiaKU4DwrOsScLDSBdwqOVua13m/nmYLl6yyM4/Z2XapH0R4FtgIzwISJYkJEJ4To2aiOAUIz7ouAQcrXcCtkrNV2mvd+jY79eIpVghDu/is8Taod1fCc2k2IzwLSJQkJkB4ToyaieIUIDzrugQcrHQBt0rOVmmv515Zbj/87WPthVtv0ccsNAuFvxfs3i1nRx9Qb/7Wm5WepAorCM9V2NQMb4nwnOHmsfR3BQjP+mkg4GClC7hVcrZKe73w6gq7YPL00oUbqdh/56H2xY83lfVs1h8iPGe9g9W1fsJzdfWzZndDeNZbT8DBShdwq+RslfYqfkFKy0tv2Guvr7E+fbrbihVrrfi7D/u58+EF9uqy1faZ8dvbEXtvV3qSKqwgPFdhUzO8JcJzhpvH0nnluZwzQMDR1bDSrYqVeOleLlZnXznV3ljRaqd/ZpSNq9Gv8iY862eLyvgFCM/xGzNDAgK88qwju1za+qjVWYmVW1/x0r1Uq1Vr1tuES6e0D3zhyXvYsMG99UmqqJLwXEXNrIKtEJ6roIlsofgHN2G4ZMkK/mpdOAzqpS0MVfUlWLm1GC/dS7V69uU37Ce/n2E5z7Nrv76/danL6ZNUUSXhuYqaWQVbITxXQRPZAuHZ5Qyol7bLmNVai5VbZ/HSvVSrqU8vtMl3z7GPDOxlP/3qnvoEVVZJeK6yhmZ8O4TnjDeQ5b8lwCvP+klQL219xOqtxMqtt3jpXqrVLf9usXsefd7GNgy2M44arU9QZZWE5ypraMa3Q3jOeANZPuHZ9Qyol7bruNVYj5VbV/HSvVSry//6tD3ZstgO32tbO2r/EfoEVVZJeK6yhmZ8O4TnjDeQ5ROeXc+Aemm7jluN9Vi5dRUv3Uu1+s6vHrFFy1bbSYfvYPvstKU+QZVVEp6rrKEZ3w7hOeMNZPmEZ9czoF7aruNWYz1Wbl3FS/dSrIpf5X3KxQ+0fwPh+V/c1YZv2W/TE7S1Wbf/93/W4+YbrW7es+atXGFh7z7Wtv0IW3PMcdZ68KFmdXX6AlNWSXhOWUNqfDmE5xo/ANWyfd7zrHdSubT10aq7Eiu3/uKleylWzy9abj+44a2v8r76nPHWo1uXD07Q1mY9f3Ot9fzV1Vb34gubXEDbVlvb6q+dZqtPPiWTIZrwrJ8tKuMXIDzHb8wMCQgQnnVk5dLWR6vuSqzc+ouX7qVYTZv9il13x2wb3L+H/fzUvT84+OrV1u/Uk6373XfKE6/9xBH25jW/MevZU34mDYWE5zR0gTVsECA8cxaqQoDwrLdRubT10aq7Eiu3/uKleylWf5vyrP394eds9IhBNvHoMe8dvK3N+p10wkaDc9itmxUGDrLcksXmrVv3gUW1B+jrf5+pV6AJz/rZojJ+AcJz/MbMkIAA4VlHVi5tfbTqrsTKrb946V6K1ZV/m2n/CV6zj++xjR1zYP17Bu/5q6usz/nfec/v1o3dxVafeoYVw7F162bW2toerntec4V1feI/76ldceFFtvprp+sLrnAl4bnCDWD69wgQnjkQVSFAeNbbqFza+mjVXYmVW3/x0r0Uq+9cN80WLV1lX/7EDrbv6A6ftNHWZgN3G/2e9ziv/tLJtuKiX5rlNvINhIWC9fnO163nDb95Z4FtW29jS6c/lZlXnwnP+tmiMn4BwnP8xsyQgADhWUdWLm19tOquxMqtv3jpXqWs1q0v2CkX37/RT9ro9o+7rf8Jn3tnsuIrzq/fc9/Gg/OGqkLBNjvso+95BfqNP/zFWg89TF90BSsJzxXEZ+oPCBCeORRVIUB41ttY6tLWR6r+SqzceoyX7lXK6oVXV9gFk6e3Dzjhv3ayHt3e/Zi5kd8+1Ta/7553Jpv9kyvstYOPeM/kxa/zHtivx3t+1/3Wv1q/r335nd+t/eSn7c3Jf9AXXcFKwnMF8Zma8MwZqE4BwrPe11KXtj5S9Vdi5dZjvHSvUlYz8q/aVbc+s9EBL//9RBu+eEH7v62r62LHTLjR1td1fU9tzvPs4tP3tv59ur/7+9ZWGzx8y3f+iHD9jjvZsn8/pC+6gpWE5wriMzXhmTNQnQKEZ72vpS5tfaTqr8TKrcd46V6lrJa+ucaKX8295M01Hxj0sqtPti1ef6X990v7DLTTzvz9OzWF0Gz12vXt/++ffGUP23JQ7/c8P3An3+oWvfVs27bb2dLHntYXXcFKwnMF8Zma8MwZqE4BwrPe11KXtj5S9Vdi5dZjvHSvzlgNOGBv6zL7rVelw65dbfH8hW99uoaZzV/4pl34u8fN88x+9fUDrEtdhz8g5JVnvUFUIvAhArznmeNRFQKEZ72Nnbm09VmqoxIrtz7ipXt1xqrfl4+37n+//Z3J3rzuBlt75FHt/+9HZy+yX90xa6NfrMJ7nvX+UInAhwkQnjkfVSFAeNbb2JlLW5+lOiqxcusjXrpXZ6w+7NM27nhovt324HzbcfhAO/fYnd9dUPHTNj5+oHV98ol3fsenbej9ohKBjgKEZ85DVQgQnvU2dubS1mepjkqs3PqIl+7VKasP+Zzn39w91x5+5hU7cJdhdvwhjW8tiM951htDJQKCAOFZQKIk/QKEZ71Hnbq09WmqohIrtzbipXt11mpT3zD45x0/YbcNGmOfPWSkHTJmC+t+1x1vfcNgh1eci6vkGwb1XlGJwPsFCM+ciaoQIDzrbezspa3PlP1KrNx6iJfu1Wmrtjbrd9IJ7V+//f6fdbkuVhg40Lq9seydj6XrWLP28E/Zm7/5XWa+XbC4dj5tQz9bVMYvQHiO35gZEhAgPOvInb609akyX4mVWwvx0r0isVq92vqdevJGA/SmVrL2E0fYm9f8xqxnT32xKagkPKegCSzhHQHCM4ehKgQIz3obI7m09ekyXYmVW/vw0r0is2prs56/udZ6XneN1b3w/CYX0Lb1Nrb6q6fa6pNPydQrzhs2RHjWzxaV8QsQnuM3ZoYEBAjPOnJkl7Y+ZWYrsXJrHV66V+RWbW02f/JfbN1vf2dbL19kw7oXLOzT19qGb29rjv28tX7skEyGZsKzfqaoTE6A8JycNTPFKEB41nEjv7T1qTNXiZVby/DSveKwuu3BeXbHQwtsp+0H2dnHjNEXk4FKXnnOQJNqaImE5xpqdjVvlfCsdzeOS1ufPVuVWLn1Cy/dKw6ra29/xqbPedU+tutW9vmP+fpiMlBJeM5Ak2poiYTnGmp2NW+V8Kx3N45LW589W5VYufULL90rDqsf3vCYPbdouR1/iG8H7rKVvpgMVBKeM9CkGloi4bmGml3NWyU8692N49LWZ89WJVZu/cJL94raKgxDO23SFFvb2mZf/9zONnK7gfpiMlBJeM5Ak2poiYTnGmp2NW+V8Kx3N+pLW585e5VYufUML90raqvXV6y1c658qH0BvzxtbxvYr4e+mAxUEp4z0KQaWiLhuYaaXc1bJTzr3Y360tZnzl4lVm49w0v3itpq7nPL7Oc3PmHduubs6nP2t5xXXdc74Vk/W1TGL1Bd/+mK34sZUipAeNYbE/Wlrc+cvUqs3HqGl+4VtdX9T75kv/9H3rYe0sd++OXd9YVkpJLwnJFG1cgyCc810uhq3ybhWe9w1Je2PnP2KrFy6xleulfUVjf9q9nufewF27VpiJ125Ch9IRmpJDxnpFE1skzCc400utLb9H1/XzO7xMz6m9nrhUJhYktLyyMd11VfX79VLpe71swazKzN87wb8/n8hcraCc+K0ls1UV/a+szZq8TKrWd46V5RW116y1P29LNL7FP7bGdH7re9vpCMVBKeM9KoGlkm4blGGl3JbQ4dOrRXnz595nued1w+n7+vqanpgEKhcGNra+vwBQsWrNmwtoaGhttzuVw+n89/s76+vp/neY/ncrlv5PP520utn/BcSujdf4/60tZnzl4lVm49w0v3itrqm9c8bIvfWGNf/dRI23PkR/SFZKSS8JyRRtXIMgnPNdLoSm6zvr7+iFwud1EQBO/8b4m+7882s3ODILhnw9p835+Xy+VOnTt37v8Vf+f7/o1hGM5qbm7+can1E55LCRGedSGsyrEqPhN1ICx3HVl4Lkqr1nVtdurFD1hoZhecuJtt+5G+WSBwWiPh2YmL4pgFCM8xAzN8ewg+NwzD8c3NzZ/uEJTvNLP7giCY1OF313me12XLLbf86sKFC4eEYfhwoVD4XEtLy7RSjoTnUkIEQl0Iq3KsCM9ualGG5+cXLbcf3PBY+wKuOXd/6961zm0xGagmPGegSTW0RMJzDTW7UlttbGw8PwzDUUEQHNshKN8chuHTHV9V9n1/sJndb2bFr8bqE4bhlc3NzROVdRfD87JlK61QKL72ws+HCRQvoQEDehtepc8JVqWNOlbgpXtFafXo7EV2zW3P2KD+Pezi0/fRF5Ghyo15DR7clwyToR5W01I5eNXUzZTuxff9c8zswCAIjugQnv/ued4/8/n8pR1+94jneTfl8/nLt99++351dXW3eZ53R8dXpze1xWJ4Tun2WRYCCCAQq8CN/zfX/nxv3nZpHGI//Opesc6VpsE9r8o+zDpNuKzlQwUIzxyQ2AV83/+EmU0KgqBxw2QNDQ1BGIYTWlpa7i3+7u1XnV/r3r37wJkzZy57+3dnm9lBQRB8stQieeW5lNC7/x7lK176rNmsxMqtb3jpXlFaXX3rTJs+51U7ZLet7fMH+/oiMlTJK88ZalYNLJXwXANNrvQW6+vru+dyuXme551W/OSMhoaGozzPm9S3b98RM2bMWPf2+jzf91/2PO+8fD4/eeTIkd3Wr19/29tv7fh2qT3wnudSQu8Nz4MG9bElS1bwNpcSbFG+L1XvUHYr8dJ7F6XVBZOn2wuvrrAudTnr1iW30UX06dnVTjlyR9vuI/30Raaokvc8p6gZLMUIzxyCRAR83y9+5dVVZraZmS31PO/0fD7/uO/7/yr+gXgQBFPr6+v3qquru7hQKAwu/s9xYRhO6dq161mzZ89eUWqRhOdSQoRnXQircqyKz0QZCMtdQ1aei9Lqlzc9YbMXtP8Pdh/6c/SBI+ywPbYtVZbKfyc8p7ItNbsownPNtr66Nk541vsZ5aWtz5rNSqzc+oaX7hWl1br1bTbv5TdtU38vXXxbx8o16+3UI0fZbk1D9EWmqJLwnKJmsBReeeYMVIcA4VnvY5SXtj5rNiuxcusbXrpXUlbFz4A+5eIH2hf2gy/tZttskc3PgCY862eLyvgFeOU5fmNmSECA8KwjJ3Vp6ytKbyVWbr3BS/dKyurF11bY96+f3r6wq88Zbz26ddEXmaJKwnOKmsFSeOWZM1AdAoRnvY9JXdr6itJbiZVbb/DSvZKympF/za66daZt1qebXTJhX32BKaskPKesITW+HF55rvEDUC3bJzzrnUzq0tZXlN5KrNx6g5fulZTVPdOes1vuf9Yat97MvvXfu+gLTFkl4TllDanx5RCea/wAVMv2Cc96J5O6tPUVpbcSK7fe4KV7JWV1w91z7MGnF9r4MVvaiYftoC8wZZWE55Q1pMaXQ3iu8QNQLdsnPOudTOrS1leU3kqs3HqDl+6VlNXP/vQfC1543bL8MXVFVcKzfraojF+A8By/MTMkIEB41pGTurT1FaW3Eiu33uCleyVldfaVU+2NFa024b92sl38zfUFpqyS8JyyhtT4cgjPNX4AqmX7hGe9k0ld2vqK0luJlVtv8NK9krBavXa9nT5pSvuiLjx5Dxs2uLe+wJRVEp5T1pAaXw7hucYPQLVsn/CsdzKJS1tfTborsXLrD166VxJW8xe+aRf+7nHzPLNrzz3Aum7iq7v1VVeukvBcOXtm/qAA4ZlTURUChGe9jUlc2vpq0l2JlVt/8NK9krB6ZNYr9us7Z9uQzXraz07ZS19cCisJzylsSg0vifBcw82vpq0TnvVuJnFp66tJdyVWbv3BS/dKwurWKfPszocX2OgRg2zi0WP0xaWwkvCcwqbU8JIIzzXc/GraOuFZ72YSl7a+mnRXYuXWH7x0rySsrrntGXts7qt2yG5b2+cOatAXl8JKwnMKm1LDSyI813Dzq2nrhGe9m0lc2vpq0l2JlVt/8NK9krC6YPJ0e+HVFXbCoY12wNhh+uJSWEl4TmFTanhJhOcabn41bZ3wrHcziUtbX026K7Fy6w9eulfcVoUwtNMufsBa1xfsm8eNtaZtB+iLS2El4TmFTanhJRGea7j51bR1wrPezbgvbX0l6a/Eyq1HeOlecVstfmO1ffOaR9oXdPQBI6xPz6764jZS2atHFxtTP9i61OU6NU65DxOey5XjuTgECM9xqDJm4gKEZ5087ktbX0n6K7Fy6xFeulfcVi0vvmE//b444OgAACAASURBVOMMfUFC5XEfa7CDd91aqIy+hPAcvSkjli9AeC7fjidTJEB41psR96WtryT9lVi59Qgv3Stuq7Xr2uyGu+fYK0tX6YvaRGVxjNZ1BTtq/+3t8L226/R45QxAeC5HjWfiEiA8xyXLuIkKEJ517rgvbX0l6a/Eyq1HeOleWbL67nXT2kP4Vz450vYa9RF9kxFWEp4jxGSoTgsQnjtNyABpECA8613I0qWt7yqeSqzcXPHSvbJiFRb/8PCSKVZ8JbuSf3hIeNbPFpXxCxCe4zdmhgQECM86clYubX1H8VVi5WaLl+6VFatVa9bbhEuntG/soq/uaVsM7KVvMsJKwnOEmAzVaQHCc6cJGSANAoRnvQtZubT1HcVXiZWbLV66V1asXnpthZ1//fT2jV1z7v7WvWudvskIKwnPEWIyVKcFCM+dJmSANAgQnvUuZOXS1ncUXyVWbrZ46V5ZsXpm/hK75C9PWe8eXeyKieP1DUZcSXiOGJThOiVAeO4UHw+nRYDwrHciK5e2vqP4KrFys8VL98qK1YNPvWw33DPXttq8j/3opN31DUZcSXiOGJThOiVAeO4UHw+nRYDwrHciK5e2vqP4KrFys8VL98qK1R1T59ttU+fb6BGDbOLRY/QNRlxJeI4YlOE6JUB47hQfD6dFgPCsdyIrl7a+o/gqsXKzxUv3yorVb++Za1OeetnGjxlqJx7WpG8w4krCc8SgDNcpAcJzp/h4OC0ChGe9E1m5tPUdxVeJlZstXrpXVqwuuflJe2beUjtyv+H2qX2G6xuMuJLwHDEow3VKgPDcKT4eTosA4VnvRFYubX1H8VVi5WaLl+6VFavv/eZRe3nxSjvp8B1sn5221DcYcSXhOWJQhuuUAOG5U3w8nBYBwrPeiaxc2vqO4qvEys0WL90rC1btX5AyaYqtbW2zb3xuZ9thu4H6BiOuJDxHDMpwnRIgPHeKj4fTIkB41juRhUtb3028lVi5+eKle2XBatWadTbh0gfbN1XJL0gpzk941s8WlfELEJ7jN2aGBAQIzzpyFi5tfTfxVmLl5ouX7pUFqxdfXWHfn/zWF6Rce+7+1q1CX5BCeNbPFZXJCBCek3FmlpgFCM86cBYubX038VZi5eaLl+6VBaunWhbbZX992vr26mqXnbmfvrkYKnnlOQZUhixbgPBcNh0PpkmA8Kx3IwuXtr6beCuxcvPFS/fKgtW/n3jJ/vB/edv2I33tghN30zcXQyXhOQZUhixbgPBcNh0PpkmA8Kx3IwuXtr6beCuxcvPFS/fKgtX/PvCs3fXIcza2YbCdcdRofXMxVBKeY0BlyLIFCM9l0/FgmgQIz3o3snBp67uJtxIrN1+8dK8sWF135yybNmuRHTRuK/vvg319czFUEp5jQGXIsgUIz2XT8WCaBAjPejeycGnru4m3Eis3X7x0ryxYXfTHGdb84ht27Efr7dDdt9E3F0Ml4TkGVIYsW4DwXDYdD6ZJgPCsdyMLl7a+m3grsXLzxUv3yoLVuVc9ZMuWr7XTjhxluzYN0TcXQyXhOQZUhixbgPBcNh0PpkmA8Kx3IwuXtr6beCuxcvPFS/dKu9X6toJ97Zf3Wxianf/FXW34lv30zcVQSXiOAZUhyxYgPJdNx4NpEiA8691I+6Wt7yT+SqzcjPHSvdJu9drrq+1b1z7SvqHLztzX+vbqpm8uhkrCcwyoDFm2AOG5bDoeTJMA4VnvRtovbX0n8Vdi5WaMl+6Vdqs5zy2zX9z4hHXrmrNrztnfPK+ycYHwrJ8tKuMXqOx/GuLfHzPUiADhWW902i9tfSfxV2LlZoyX7pV2q6lPL7TJd8+xLQf1sp98ZU99YzFVEp5jgmXYsgQIz2Wx8VDaBAjPekfSfmnrO4m/Eis3Y7x0r7Rb3T51vhX/v522H2RnHzNG31hMlYTnmGAZtiwBwnNZbDyUNgHCs96RtF/a+k7ir8TKzRgv3SvtVpPvmmNTZy60A8YOsxMObdQ3FlMl4TkmWIYtS4DwXBYbD6VNgPCsdyTtl7a+k/grsXIzxkv3SrvVz//8H5v7/Ov22QNG2Cf23FbfWEyVhOeYYBm2LAHCc1lsPJQ2AcKz3pG0X9r6TuKvxMrNGC/dK+1W37j6YVvy5ho75dM72u47bKFvLKZKwnNMsAxblgDhuSw2HkqbAOFZ70jaL219J/FXYuVmjJfulWartH3Gc1GV8KyfLSrjFyA8x2/MDAkIEJ515DRf2voukqnEys0ZL90rzVavLltl3/7VtPbNXH7WftanZ1d9YzFVEp5jgmXYsgQIz2Wx8VDaBAjPekfSfGnru0imEis3Z7x0rzRbzVqw1C6+6Unr0a3Orjp7fMU/45lXnvVzRWUyAoTnZJyZJWYBwrMOnOZLW99FMpVYuTnjpXul2eqBJ1+y3/0jb1sP6WM//PLu+qZirOSV5xhxGdpZgPDsTMYDaRQgPOtdSfOlre8imUqs3Jzx0r3SbPXX+5+1u6c9Z2MbBtsZR43WNxVjJeE5RlyGdhYgPDuT8UAaBQjPelfSfGnru0imEis3Z7x0rzRbXXv7MzZ9zqt2yG5b2+cOatA3FWMl4TlGXIZ2FiA8O5PxQBoFCM96V9J8aeu7SKYSKzdnvHSvNFtd+LvHbf7CN+3zH2uwj+26tb6pGCsJzzHiMrSzAOHZmYwH0ihAeNa7kuZLW99FMpVYuTnjpXul2erMyx60FavX2cSjR9voEYP1TcVYSXiOEZehnQUIz85kPJBGAcKz3pU0X9r6LpKpxMrNGS/dK61Wq9asswmXPti+kZ9+dU/7yMBe+qZirCQ8x4jL0M4ChGdnMh5IowDhWe9KWi9tfQfJVWLlZo2X7pVWqwWvvGk/+u3j5nlmv/r6AdalLqdvKsZKwnOMuAztLEB4dibjgTQKEJ71rqT10tZ3kFwlVm7WeOleabWaPmeRXXv7LBvcv4f9/NS99Q3FXEl4jhmY4Z0ECM9OXBSnVYDwrHcmrZe2voPkKrFys8ZL90qr1d8fXmB/mzLPdth2gH3juLH6hmKuJDzHDMzwTgKEZycuitMqQHjWO5PWS1vfQXKVWLlZ46V7pdVq8l1zbOrMhXbAzkPthI836RuKuZLwHDMwwzsJEJ6duChOqwDhWe9MWi9tfQfJVWLlZo2X7pVWq5/96T8WvPC6HX3gCDtsj231DcVcSXiOGZjhnQQIz05cFKdVgPCsdyatl7a+g+QqsXKzxkv3SqvVuVc9ZMuWr7XTP7OTjWvcXN9QzJWE55iBGd5JgPDsxEVxWgUIz3pn0npp6ztIrhIrN2u8dK80Wq1d12anXvxA+yZ++OXdbeshffQNxVxJeI4ZmOGdBAjPTlwUp1WA8Kx3Jo2Xtr76ZCuxcvPGS/dKo9ULr66wCyZPb9/ENefub9271ukbirmS8BwzMMM7CRCenbgoTqsA4VnvTBovbX31yVZi5eaNl+6VRqvH575qV9/2jA3s191+edo++mYSqCQ8J4DMFLIA4VmmojDNAoRnvTtpvLT11SdbiZWbN166Vxqt0voxdUVVwrN+tqiMX4DwHL8xMyQgQHjWkdN4aeurT7YSKzdvvHSvNFpd//fZ9tAzr9iBY4fZ8Yc26ptJoJLwnAAyU8gChGeZisI0CxCe9e6k8dLWV59sJVZu3njpXmm0+skfHrdnX3rTPndQgx2y29b6ZhKoJDwngMwUsgDhWaaiMM0ChGe9O2m8tPXVJ1uJlZs3XrpXGq3OvOxBW7F6nZ312dE2pn6wvpkEKgnPCSAzhSxAeJapKOyMgO/7+5rZJWbW38xeLxQKE1taWh55/5i+73/XzE4xs7YwDO8Lw/C0lpaWtaXmJjyXEnr339N4aeurT7YSKzdvvHSvtFkVQ3MxPBd/LvrqnrbFwF76ZhKoJDwngMwUsgDhWaaisFyBoUOH9urTp898z/OOy+fz9zU1NR1QKBRubG1tHb5gwYI1G8b1ff9YMzuvtbV1/KBBg1YuX778D4VCYXJLS8u9peYmPJcSIjzrQliVY1V8Jm2BsNx9JPFc2qyefekN+8kfZlhdzmv/mLoudbkkGOQ5CM8yFYUJCBCeE0Cu9Snq6+uPyOVyFwVBMKpDUJ5tZucGQXBPh9/9MwzDPzU3N9/gakZ41sXSdmnrK0++Eis3c7x0r7RZPTRzoV1/15z2V5yLrzyn7YfwnLaO1PZ6CM+13f9Edu/7/rlhGI5vbm7+dIegfKeZ3RcEwaQOv1vsed7PwzAs1g0Ow/DWYcOGfe/+++9fX2qhxfC8bNlKKxTCUqU1/+/FS2jAgN6GV+mjgFVpo44VeOleabO65d8tdtcjz9nYhsF21tFj9I0kVLkxr8GD+5JhEvJnmvcKcPA4EbELNDY2nh+G4aggCIpvy2j/8X3/5jAMn25ubv5xh98VQ/LtK1asOL5Xr169c7ncvz3P+3U+n7+s1CKL4blUDf+OAAIIILBxgR9PftQenfWKHXVgvZ34yR0zweR5HhkmE52qvkVy8Kqvp6nbke/755jZgUEQHNEhKP/d87x/5vP5Szv8rvjK80n5fP72twN28bmPBUHwiVKb4pXnUkLv/nvaXvHSV558JVZu5njpXmmz+va1j9grS1fZyZ8cafuO3lLfSEKVvPKcEDTTSAKEZ4mJos4I+L5fDL+TgiB451P3GxoagjAMJ3T8Y0Df9x8zsyuCIPh9cb7GxsazzOygfD7/qVLz857nUkLvDc+DBvWxJUtW8DaXEmxpe1+q3uXKVOKlu6fJan1bwU755QNWCEM774RxNmJo8UOR0vXDe57T1Y9aXw3hudZPQAL7r6+v757L5eZ5nnda8VXlhoaGozzPm9S3b98RM2bMWLdhCb7vn21mn+vRo8dHi79bs2bN/Z7nTc7n89eUWibhuZQQ4VkXwqocq+IzaQqE5e4hqefSZPXS4pV2/m8ebd/6lRPHW68eXZJikOchPMtUFCYgQHhOAJkp2t/jvLuZXWVmm5nZUs/zTs/n84/7vv8vM7sgCIKpZlbX0NBwsed5R4VhuNrzvDuGDh36bfUPBnklVTtpabq0tRVXrgorN3u8dK80WT0+91W7+rZnrH+fbjZpQvEj+dP3Q3hOX09qeUWE51rufhXtnVee9Wam6dLWV12ZSqzc3PHSvdJkdefDC+zWKfNsh20H2DeOG6tvIsFKwnOC2ExVUoDwXJKIgiwIEJ71LqXp0tZXXZlKrNzc8dK90mR13Z2zbNqsRfbRXYbZFw55509T9M0kUEl4TgCZKWQBwrNMRWGaBQjPenfSdGnrq65MJVZu7njpXmmy+sEN0+35RSvsvw/27aBxW+mbSLCS8JwgNlOVFCA8lySiIAsChGe9S2m6tPVVV6YSKzd3vHSvtFgVv1jq1EsesHXrC/atz4+1xm0G6JtIsJLwnCA2U5UUIDyXJKIgCwKEZ71Labm09RVXrhIrN3u8dK+0WC1ausq+c9209oVfdua+1rdXN30TCVYSnhPEZqqSAoTnkkQUZEGA8Kx3KS2Xtr7iylVi5WaPl+6VFqsZ+dfsqltnWr/e3ezSM9L5SRtFVcKzfraojF+A8By/MTMkIEB41pHTcmnrK65cJVZu9njpXmmxuuOh+Xbbg/NT/UkbhGf9XFGZjADhORnnVM/i+/73y1mg53lhPp+/sJxno36G8KyLpuXS1ldcuUqs3Ozx0r3SYnXt7c/Y9Dmv2sfGbWWfP9jXN5BwJa88JwzOdB8qQHjmgBS/wKRQJkMYBEFdmc9G+hjhWedMy6Wtr7hylVi52eOle6XFqvjNgsVvGPzixxtt/52H6RtIuJLwnDA40xGeOQMfLlBfX79/uUYtLS0PlPtslM8RnnXNtFza+oorV4mVmz1eulcarNa3FezUix+wtkJo3z1+nNUP669vIOFKwnPC4ExHeOYMVL8A4VnvcRoubX21la3Eys0fL90rDVYvvrbCvn/99PZFX3X2eOvZvYu+gYQrCc8JgzMd4ZkzUP0ChGe9x2m4tPXVVrYSKzd/vHSvNFhNm/WKXXfnbBvUr7v94rR99MVXoJLwXAF0ptykAO955nBseM9zWAZF8T3PqXipgvCsdy8Nl7a+2spWYuXmj5fulQarW/7dYvc8+rztXD/YzvzsaH3xFagkPFcAnSkJz5yBTQs0NjbeXyh+zVQZP83NzQeW8VjkjxCeddI0XNr6aitbiZWbP166VxqsLvnLk/bM/KX2yb23s/8av72++ApUEp4rgM6UhGfOQHULEJ71/qbh0tZXW9lKrNz88dK90mB19hVT7Y2VrXbakaNs16Yh+uIrUEl4rgA6UxKeOQPRCjQ2Nn48DMOvBUHwmWhHLm80wrPuloZLW19tZSuxcvPHS/eqtNWbK1tt4hVT2xd80df2tC0G9NIXX4FKwnMF0JmS8MwZcBdobGwc6nnedm1tbe95X3NdXV3PQqFwppkdGARBKv4bl/Cs97fSl7a+0spXYuXWA7x0r0pbzZq/1C7+y5PWvVtd+ydt5Lx0/wkU4Vk/W1TGL5Du/7TEv39m2IjAdttt16N79+5/DMPww15VLp6dqUEQjE8DIuFZ70KlL219pZWvxMqtB3jpXpW2+sejz9vN/26xEcP62XnH76ovvEKVhOcKwTPtRgUIzxyMDwj4vv9dM/ux53nTwjAMzOyEMAzv9DxvpZntZWb9zOz8QqHwx5aWljfTQEh41rtQ6UtbX2nlK7Fy6wFeulelrX595yx7ZNYiO2DsMDvh0EZ94RWqJDxXCJ5pCc+cAU3A9/1nzOyJIAiO32677Tbr1q3b0jAMD2hubp5iZnW+758fhuEn29raDpo3b94b2qjxVhGedd9KX9r6SitfiZVbD/DSvSpt9f3rH7UXX1tpxx/aaAeOTe/Xcm8QJTzrZ4vK+AV45Tl+48zN4Pv+CjM7LQiC39fX1/fL5XKv53K5j86dO/f+DZtpbGz8axiGrwRBMCENGyQ8612o9KWtr7TylVi59QAv3auSVq3r2uy0S6ZYIQztvBPG2Yih6f1absKzfqaoTE6A8JycdWZmejs8nx4Ewe/MLOf7fqvnecfl8/lbNmzC9/0Tim/tCIJgmzRsjPCsd6GSl7a+ynRUYuXWB7x0r0paPfvSG/aTP8xo/yPBq88Zb9261ukLr1AlrzxXCJ5pNypAeOZgfEDA9/3pnue9ks/nP1X8R9/3nw/DcEpzc/MXOrzy/M0wDL8XBEHx/c8V/yE86y2o5KWtrzIdlVi59QEv3auSVv+a8aL96f8FttXmfexHJ+2uL7qClYTnCuIz9QcECM8cig8INDQ0fM3zvGvM7J4gCA73ff9XZnaymf3BzP5V/Pi6MAzPNbM5QRAU/4Cw4j+EZ70Flby09VWmoxIrtz7gpXtV0mry3XNs6tMLbd+dtrQvH76DvugKVhKeK4jP1IRnzoAm4Pv+RWa2ZRAEJ44YMWJIXV3dg2bWYGbFr/Eu/h9dxfdFHx4EQfH3Ff8hPOstqOSlra8yHZVYufUBL92rklYXTJ5uL7y6wv77YN8OGreVvugKVhKeK4jP1IRnzkB5Am9/9nPxbRzDC4XCokKhcPezzz77anmjRf8U4Vk3reSlra8yHZVYufUBL92rUlbr1r/1x4JthdDOO36cjRiW/j8WLKoSnvWzRWX8ArxtI37jqpph3LhxXWfMmLEubZsiPOsdqdSlra8wPZVYufUCL92rUlbzXn7Tfvz7x634hYJXn7O/dc/AHwsSnvVzRWUyAoTnZJwzN0t9ff0RuVzu557nHZvP55/esAHf979oZt8zs7OCILg7LRsjPOudqNSlra8wPZVYufUCL92rUlb//s+L9od7Axu2eW+78KQ99AVXuJJXnivcAKZ/jwDhmQPxAYHGxsYDwzD8Z/F9zWEY7t/c3PzkhqK3/+1GM9vczPYPgmBqGggJz3oXKnVp6ytMTyVWbr3AS/eqlNWGPxbcZ9RH7KRPjtQXXOFKwnOFG8D0hGfOwIcLNDY23h+GYf+uXbseNGvWrKXvrx45cmSfdevW3V/8uu4gCPZPgyfhWe9CpS5tfYXpqcTKrRd46V6Vsjr/N4/aS4tX2hcO8e2ju2TjjwWLqoRn/WxRGb8ArzzHb5y5GRobG1eGYTgxCIJfb2rxDQ0NX/U875IgCPqkYYOEZ70Llbq09RWmpxIrt17gpXtVwmr12vU2YdKU9o9M+v6Ju9p2H0nFx/RLaIRniYmihAQIzwlBZ2ka3/eXhWF4TnNz8w2bWrfv+18xs18GQZCKP9UmPOsnrBKXtr66dFVi5dYPvHSvSljNWbDUfnHTk9a1S86uOnu8danL6QuucCXhucINYPr3CBCeORAfEPB9//+ZWbehQ4cedP/9969/f0FjY2Pf4jcOmtmbvG0jeweoEpd29pTeWjFWbp3DS/eqhNVdjyyw/31gntUP62/fPX6cvtgUVBKeU9AElvCOAOGZw/ABgYaGhoM9z/uHmeXN7BYzmxeGYWsul9ssDMMdzeyzb//B4CeDILgnDYS88qx3oRKXtr66dFVi5dYPvHSvSlhd8b9P2xPNi+2Q3ba2zx1U/M6r7PwQnrPTq1pYKeG5Frpcxh4bGxuPCcPwirdDcvEtcsWfDedlqed5E/P5/B/LGDqWRwjPOmslLm19demqxMqtH3jpXklbhWFo51z5kL2xstVO+fSOtvsOW+iLTUEl4TkFTWAJvPLMGZAE6urr6w/K5XLFV5t7mtmrYRguCMPwwZaWlrXSCAkVEZ516KQvbX1l6avEyq0neOleSVsteWONfeOah9sX+PNT97LB/Yv/lZ6dH8JzdnpVCyvlleda6HIN7JHwrDc56UtbX1n6KrFy6wleulfSVo/NfdWuue0Z69e7m02asI95xa8YzNAP4TlDzaqBpWbrPz010JA0bbGxsfHThULhAM/ztsnlcj+YO3fuzOL6fN/fNwiC4ksYhbSsl/CsdyLpS1tfWfoqsXLrCV66V9JWN/2r2e597AXbuX6wnfnZ0fpCU1JJeE5JI1hGuwDhmYPwAYH6+vrunufd7nnewW+fkWI2PbC5uXnK25+08aqZPbRq1aojXnzxxdVpICQ8611I+tLWV5a+SqzceoKX7pW01YW/e8zmL1xuRx84wg7bY1t9oSmpJDynpBEsg/DMGdi4QENDw/c8z/th8UtQPM+7tVAoTA3D8IBieB43blzXFStWnB2G4U/N7CdBEFyQBkfCs96FpC9tfWXpq8TKrSd46V5JWq1tbbPTJ02xQhi2f0Rd8aPqsvZDeM5ax6p7vbzyXN39LWt3vu/PMrP/BEFw/Pbbb9+/S5cuxS9NaQ/PGwZsbGycHIbh3kEQNJU1ScQPEZ510CQvbX1V6azEyq0veOleSVrNeW6Z/eLGJ9q/FKX45SjFL0nJ2g/hOWsdq+71Ep6ru79l7c73/VVhGJ5e/IbBTYVn3/dPMLPrgiDoUdYkET9EeNZBk7y09VWlsxIrt77gpXslaXXHQ/Pttgfnm79Vf/v2F7L15SgbRAnP+tmiMn4BwnP8xpmbwff9N8Mw/Hpzc/N1mwrPDQ0NZ3ied2EQBJulYYOEZ70LSV7a+qrSWYmVW1/w0r2StLr4L0/arPlL7fC9trWj9h+hLzJFlYTnFDWDpfAHg5yBDwo0NjbeH4ZhIQiCj24sPPu+P9jMHgnD8MXm5uYD02BIeNa7kOSlra8qnZVYufUFL90rKau2QsEmXPqgFd/3PPHo0TZ6RPG/vrP3Q3jOXs+qecW88lzN3S1zb8WPqAvD8FYzuyMMw5s9z/tjGIZn5XK5hYVCYR/P875gZgM9z/tMPp+/o8xpIn2M8KxzJnVp6ytKbyVWbr3BS/dKyuq5V5bbD3/7WPsrZZdP3M969+iqLzJFlYTnFDWDpfDKM2dg4wJvvy3jf8ys+4aPq3u7svjfwWvDMPxWc3Pz5WnxIzzrnUjq0tZXlN5KrNx6g5fulZTVPx9/wf78z2Ybtnlvu/CkPfQFpqyS8JyyhtT4cnjlucYPwIdtf8SIEUPq6uo+bWY7mFlfM1vued6stra2O1paWl5LEx3hWe9GUpe2vqL0VmLl1hu8dK+krK7620ybEbxmB44dZscf2qgvMGWVhOeUNaTGl0N4rvED0Jnt19fXj21paXmiM2NE9SzhWZdM6tLWV5TeSqzceoOX7pWEVfFznc+67EFbuWa9nXrkKNutaYi+wJRVEp5T1pAaXw7hucYPQMft19fXj8jlcj82swPe/urtRwuFwoXvD8gjR47stn79+h+a2blBEHRLAyHhWe9CEpe2vpp0V2Ll1h+8dK8krJ5ftNx+cMNj7Yu69Mx9rV+vVPzXtY7UoZLwXBYbD8UkQHiOCTZrw9bX12+Vy+X+Y2bFP8VeY2br3n6rxioz+2gQBNOLe6qvr98zl8td//ZbOZ4LgmB4GvZKeNa7kMSlra8m3ZVYufUHL90rCat7H3vBbvpXs221eW/7UYbf71xUJTzrZ4vK+AUIz/EbZ2IG3/evMrOvmtlJQRD8sfjKc2Nj40fDMPyzmT2/atWq/Xv27PlTz/MmmFnoed5ly5cvv+Dll18uhuuK/xCe9RYkcWnrq0l3JVZu/cFL90rC6vK/Pm1Ptiy2j43byj5/sK8vLoWVhOcUNqWGl0R4ruHmd9y67/stZjY1CIITO/6+oaHhRM/zJpvZAjPbzsyKr0B/LQiCp9JER3jWu5HEpa2vJt2VWLn1By/dK26rQiG0My570FavXW8T/msn28XfXF9cCisJzylsSg0vifBcw81/X3guvlXjjCAIfv2+8Ly953nFYP2mmZ0XBMHVxVee08ZGeNY7Evelra8k/ZVYufUIL90rbqv5C9+0C3/3eOY/33mDKOFZP1tUxi9AeI7fOBMz+L5fCMPws83NzX/ruOAN3zBYKBQ+3tLScm9aN0N41jsT96WtryT9lVi59Qgv3Stuq3sefc5u+fezKGb7/AAAIABJREFUtu0Wfe2CL+2mLyyllYTnlDamRpdFeK7Rxr9/26XCcxiGBzQ3N09JKxfhWe9M3Je2vpL0V2Ll1iO8dK+4rS65+Ul7Zt5SO3T3re3YjzboC0tpJeE5pY2p0WURnmu08YTn2m183Jd2Ncli5dZNvHSvOK3WrW+zMy590FrXF2zi0WNs9IhB+sJSWkl4TmljanRZhOcabTzhuXYbH+elXW2qWLl1FC/dK06rWfOX2sV/edK61OXsion7WfeudfrCUlpJeE5pY2p0WYTnGm38xsKzmf3R87xnOv5bGIY9zOwCz/OKf0g47/3P5fP5n6eBkLdt6F2I89LWV5GNSqzc+oSX7hWnVfGznYuf8bzj8IF27rE764tKcSXhOcXNqcGlEZ5rsOkb23LxPc9lUIRBEKTiJQ3Cs969OC9tfRXZqMTKrU946V5xWn3vN4/ay4tX2rEfrbdDd99GX1SKKwnPKW5ODS6N8FyDTd9EeP5iORRBEPyunOeifobwrIvGeWnrq8hGJVZufcJL94rLaumba+zrVz/cvpALT97Dhg3urS8qxZWE5xQ3pwaXRniuwaZX45YJz3pX47q09RVkpxIrt17hpXvFZTXlqZftt/fMtQF9u9svT9vbPK86rnnCs362qIxfoDr+UxW/EzOkXIDwrDcorktbX0F2KrFy6xVeuldcVlffOtMez79m48dsaScetoO+oJRXEp5T3qAaWx7hucYaXq3bJTzrnY3r0tZXkJ1KrNx6hZfuFYdVW6FgZ142tf0ruU87cpTt2jREX1DKKwnPKW9QjS2P8FxjDa/W7RKe9c7GcWnrs2erEiu3fuGle8VhFbzwuv3sT/+x4js1Lj9rP+vdo6u+oJRXEp5T3qAaWx7hucYaXq3bJTzrnY3j0tZnz1YlVm79wkv3isPq5vta7B/Tnzd/683s2/+9i76YDFQSnjPQpBpaIuG5hppdzVslPOvdjePS1mfPViVWbv3CS/eKw+o7102zRUtXVdVH1G0QJTzrZ4vK+AUIz/EbM4OZ+b6/r5ldYmb9zez1QqEwsaWl5ZFN4fi+f6vneQPy+fwBCiDhWVF6qyaOS1ufPVuVWLn1Cy/dK2qrhUtW2nm/frR9AT/72p42ZEAvfTEZqCQ8Z6BJNbREwnMNNbtSWx06dGivPn36zPc877h8Pn9fU1PTAYVC4cbW1tbhCxYsWPP+dTU2Nh4ThuH/eJ73HOE5+q5FfWlHv8L0jIiVWy/w0r2itrpn2nN2y/3Ptn+uc/Hznavth/BcbR3N9n4Iz9nuXyZWX19ff0Qul7soCIJRGxbs+/5sMzs3CIJ7Om6iqalpUKFQKL588kPP804iPEff4qgv7ehXmJ4RsXLrBV66V9RWP/3DDGt56Q07fK9t7aj9R+gLyUgl4TkjjaqRZRKea6TRldym7/vnhmE4vrm5+dMdwvOdZnZfEASTOq6toaHhj57nPZzL5WaHYfgDwnP0nYv60o5+hekZESu3XuCle0Vp9cbKVjvniqkWmtl5J4yzEUOL746rrh/Cc3X1M+u7ITxnvYMZWH9jY+P5YRiOCoLg2A7h+eYwDJ9ubm7+8YbfNTQ0HO553reDIBjf1NS0v2t4XrZspRUKxeuDnw8TKF5CAwb0NrxKnxOsSht1rMBL94rSqvitgpPvmmP9e3ezSWfua7kq+VbBUmdr8OC+ZBj9yFEZoQAHL0JMhtq4gO/755jZgUEQHNEhPP/d87x/5vP5S4u/q6+v75fL5WaY2RFBEMwtvi/aNTzjjwACCNSiwI8nP2qPznrFDt1zW5tw9M41Q+BVy3eP10zHqmejhOfq6WVqd+L7/ifMbFIQBI0dXmUOwjCc0NLScm/xd2+/6vwnM9vwB4TdzKyPmb0QBEHJN/AVP22DV1K1IxDlK17ajNmtwsqtd3jpXlFZFb9N8MzLHrR16ws28ZgxtnP9YH0RGarcmBevPGeogVW2VMJzlTU0jdupr6/vnsvl5nmed1o+n7+9oaHhKM/zJvXt23fEjBkz1m1szeW88rxkyQretiEcgCjfaylMl+kSrNzah5fuFZXVtFmv2HV3zrae3bvYpWfsa1275PRFZKiS9zxnqFk1sFTCcw00OQ1b9H1/dzO7ysw2M7Olnuedns/nH/d9/19mdkEQBFM7rpPwHF/Xorq041thekbGyq0XeOleUVld/ten7cmWxbbPTh+xkw4fqS8gY5WE54w1rMqXS3iu8gbXyvb4khS901Fd2vqM2a3Eyq13eOleUVitWrPOJl4x1da3hXb2MWNsp+0H6QvIWCXhOWMNq/LlEp6rvMG1sj3Cs97pKC5tfbZsV2Ll1j+8dK8orB6audCuv2uO9enZ1S6ZsI91qavOt2wUVQnP+tmiMn4BwnP8xsyQgADhWUeO4tLWZ8t2JVZu/cNL94rCatLNT9nMeUts/JihduJhTfrkGawkPGewaVW8ZMJzFTe3lrZGeNa7HcWlrc+W7Uqs3PqHl+7VWasVq9fZ2VdMtbZCaF//3M42cruB+uQZrCQ8Z7BpVbxkwnMVN7eWtkZ41rvd2Utbnyn7lVi59RAv3auzVsUvRvntPXOtb6+33rJRl6vet2wUVQnP+tmiMn4BwnP8xsyQgADhWUfu7KWtz5T9SqzceoiX7tVZq4tvesJmLVhmB44dZscf+s5H6OsLyFgl4TljDavy5RKeq7zBtbI9wrPe6c5e2vpM2a/Eyq2HeOlenbFatnytff3qhywMzb71+bHWuM0AfeKMVhKeM9q4Kl024blKG1tr2yI86x3vzKWtz1IdlVi59REv3aszVnc9ssD+94F5tvlmPeyir+1lOa/6r3LCs362qIxfoPr/Exe/ITOkQIDwrDehM5e2Pkt1VGLl1ke8dK9yrcIwtO/++lFbtHSVHbnvcPvUvsP1STNcSXjOcPOqcOmE5ypsai1uifCsd73cS1ufoXoqsXLrJV66V7lWLS++YT/944z2iX5+6l42uH9PfdIMVxKeM9y8Klw64bkKm1qLWyI8610v99LWZ6ieSqzceomX7lWu1W/vmWNTnlpoO2w7wL5x3Fh9woxXEp4z3sAqWz7hucoaWqvbITzrnS/30tZnqJ5KrNx6iZfuVY7V2nVt7Z/tvKa1zb7yyZG216iP6BNmvJLwnPEGVtnyCc9V1tBa3Q7hWe98OZe2Pnp1VWLl1k+8dK9yrB555hX79d9nW49udTbpjH2te9c6fcKMVxKeM97AKls+4bnKGlqr2yE8650v59LWR6+uSqzc+omX7lWO1S9ufMLmPLfMdtp+kB21//b6ZAlVDujb3fr26hbLbITnWFgZtEwBwnOZcDyWLgHCs96Pci5tffTqqsTKrZ946V6uVm+uarWzL59qoT5F4pVd6nL2k6/sYZtvFv0fMRKeE28nE36IAOGZ41EVAoRnvY2ul7Y+cvVVYuXWU7x0L1erNa3r7Se/n2EvLV6pT1KByvOOH2cjhvWPfGbCc+SkDNgJAcJzJ/B4ND0ChGe9F66Xtj5y9VVi5dZTvHSvarJ6ftFy+8ENj7Vv/upzxluPbl10CLGS8CxCUZaIAOE5EWYmiVuA8KwLV9Olre+6vEqs3Nzw0r2qyerhZxbab/4+p/0bD//nlL11BIdKwrMDFqWxCxCeYydmgiQECM+6cjVd2vquy6vEys0NL92rmqxuvq/F/jH9eRvbMNjOOGq0juBQSXh2wKI0dgHCc+zETJCEAOFZV66mS1vfdXmVWLm54aV7VZPVxX950mbNX2qf2mc7O3K/eD4FhPCsny0q4xcgPMdvzAwJCBCedeRqurT1XZdXiZWbG166VzVZnX3lVHtjRaudduQo27VpiI7gUEl4dsCiNHYBwnPsxEyQhADhWVeupktb33V5lVi5ueGle1WLVfEj9CZePrV94xd9dU/bYmAvHcGhkvDsgEVp7AKE59iJmSAJAcKzrlwtl7a+4/IrsXKzw0v3qharOQuW2i9uetK6dc3Z1Wfvb8V9xfFDeI5DlTHLFYjnlJe7Gp5DoEwBwrMOVy2Xtr7j8iuxcrPDS/eqFqt7pz9vN93XYsO37Gvnf3E3HcCxkvDsCEZ5rAKE51h5GTwpAcKzLl0tl7a+4/IrsXKzw0v3qhar6+6cZdNmLbIDdh5qJ3y8SQdwrCQ8O4JRHqsA4TlWXgZPSoDwrEtXy6Wt77j8Sqzc7PDSvarF6jvXTbNFS1fZiYc12fgxQ3UAx0rCsyMY5bEKEJ5j5WXwpAQIz7p0tVza+o7Lr8TKzQ4v3asarFatWW8TLp3SvukffGk322aLvjqAYyXh2RGM8lgFCM+x8jJ4UgKEZ126Gi5tfbedq8TKzQ8v3asarDb8sWDXLrn2r+Wuy+V0AMdKwrMjGOWxChCeY+Vl8KQECM+6dDVc2vpuO1eJlZsfXrpXNVjdM+05u+X+Z23EsH523vG76psvo5LwXAYaj8QmQHiOjZaBkxQgPOva1XBp67vtXCVWbn546V7VYHX1rTPt8fxr9rFxW9nnD/b1zZdRSXguA41HYhMgPMdGy8BJChCede1quLT13XauEis3P7x0r2qw+uY1D9viN9bYyZ/cwfYetaW++TIqCc9loPFIbAKE59hoGThJAcKzrl0Nl7a+285VYuXmh5fulXWrjt8s+JOv7GFbDuqtb76MSsJzGWg8EpsA4Tk2WgZOUoDwrGtn/dLWd9r5SqzcDPHSvbJu9VTLYrvsr09bj251duXZ4y3nxRsnCM/62aIyfoF4T3v862cGBNoFCM/6Qcj6pa3vtPOVWLkZ4qV7Zd3qr/c/a3dPe852HD7Qzj12Z33jZVYSnsuE47FYBAjPsbAyaNIChGddPOuXtr7Tzldi5WaIl+6Vdauf/nGGtbz4hh2533D71D7D9Y2XWUl4LhOOx2IRIDzHwsqgSQsQnnXxrF/a+k47X4mVmyFeuleWrdatb7PTJ02x9W2hffO4sda07QB942VWEp7LhOOxWAQIz7GwMmjSAoRnXTzLl7a+y2gqsXJzxEv3yrJV8MLr9rM//cfqcl77+527d63TN15mJeG5TDgei0WA8BwLK4MmLUB41sWzfGnru4ymEis3R7x0ryxb3fXIAvvfB+bZiKH97LwT4v1ylA2ihGf9bFEZvwDhOX5jZkhAgPCsI2f50tZ3GU0lVm6OeOleWbaadPNTNnPeEvv47tvYMR+t1zfdiUrCcyfweDRyAcJz5KQMWAkBwrOunuVLW99lNJVYuTnipXtl1apQCO2Myx601WvX2xlH7WRjGzbXN92JSsJzJ/B4NHIBwnPkpAxYCQHCs66e1Utb32F0lVi5WeKle2XV6vlFy+0HNzzWvtHLz9rP+vTsqm+6E5WE507g8WjkAoTnyEkZsBIChGddPauXtr7D6CqxcrPES/fKqtW905+3m+5rsaGDe9uPT95D33AnKwnPnQTk8UgFCM+RcjJYpQQIz7p8Vi9tfYfRVWLlZomX7pVVq0tuftKembfUDt51azvuYw36hjtZSXjuJCCPRypAeI6Uk8EqJUB41uWzemnrO4yuEis3S7x0ryxaFT/f+YxLH7TW9QU7+5gxttP2g/QNd7KS8NxJQB6PVIDwHCkng1VKgPCsy2fx0tZ3F20lVm6eeOleWbSatWCpXXzTk9alLmdXTNwvkc933iBKeNbPFpXxCxCe4zdmhgQECM86chYvbX130VZi5eaJl+6VRaub72uxf0x/3kZuN8C+/rmx+mYjqCQ8R4DIEJEJEJ4jo2SgSgoQnnX9LF7a+u6ircTKzRMv3SuLVt+/frq9+NoKO/rAEXbYHtvqm42gkvAcASJDRCZAeI6MkoEqKUB41vWzeGnru4u2Eis3T7x0r6xZvb5irZ1z5UPtG/zhl3e3rYf00TcbQSXhOQJEhohMgPAcGSUDVVKA8KzrZ+3S1ncWfSVWbqZ46V5Zs3po5kK7/q451r93N7tkwj7mecnGB8KzfraojF8g2dMf/36YoUYFCM9647N2aes7i74SKzdTvHSvrFldd8csmzZ7ke096iN28idH6huNqJLwHBEkw0QiQHiOhJFBKi1AeNY7kLVLW99Z9JVYuZnipXtlyWp9W8HOunxq+1dyf+1TO9oeI7fQNxpRJeE5IkiGiUSA8BwJI4NUWoDwrHcgS5e2vqt4KrFyc8VL98qS1dPPLrFLb3mq/SPqLjtzX+vZvYu+0YgqCc8RQTJMJAKE50gYGaTSAoRnvQNZurT1XcVTiZWbK166V5asJt89x6Y+vdB2rh9sZ352tL7JCCsJzxFiMlSnBQjPnSZkgDQIEJ71LmTp0tZ3FU8lVm6ueOleWbFqKxTs7CseshWr19lJh+9g++y0pb7JCCsJzxFiMlSnBQjPnSZkgDQIEJ71LmTl0tZ3FF8lVm62eOleWbGavWCp/fKmJ60u59mlZ+5rvXt01TcZYSXhOUJMhuq0AOG504QMkAYBwrPehaxc2vqO4qvEys0WL90rK1a//7+83f/ESzZq+4F2zjE76xuMuJLwHDEow3VKgPDcKT4eTosA4VnvRFYubX1H8VVi5WaLl+6VBatCIbRzrnrI3lzZaice1mTjxwzVNxhxJeE5YlCG65QA4blTfDycFgHCs96JLFza+m7ircTKzRcv3SsLVvnnl9n//PmJ9k0Vw3PfXpV5y0Zx/rpczvYYM8zWrlprxVBf/BkypB8ZRj9yVEYowMGLEJOhKidAeNbts3Bp67uJtxIrN1+8dK8sWP1tyrP294ef0zcVc+UO2w20b31+LOE5ZmeGLy1AeC5tREUGBAjPepOycGnru4m3Eis3X7x0ryxYzVqw1P50b2Ct69v0jcVQ2bqu0P5pHwP79Wj/anBeeY4BmSGdBAjPTlwUp1WA8Kx3JguXtr6beCuxcvPFS/fCSrd6qmWxXfbXpwnPOhmVMQsQnmMGZvhkBAjPujOXNla6gFslZ0v3wkq3IjzrVlQmI0B4TsaZWWIWIDzrwFzaWOkCbpWcLd0LK92K8KxbUZmMAOE5GWdmiVmA8KwDc2ljpQu4VXK2dC+sdCvCs25FZTIChOdknJklZgHCsw7MpY2VLuBWydnSvbDSrQjPuhWVyQgQnpNxZpaYBQjPOjCXNla6gFslZ0v3wkq3IjzrVlQmI0B4TsaZWWIWIDzrwFzaWOkCbpWcLd0LK92K8KxbUZmMAOE5Geean8X3/X3N7BIz629mrxcKhYktLS2PdITZaaedBqxZs+YKz/N2DcMw53nev7t06XLG7NmzW0sBEp5LCb3771zaWOkCbpWcLd0LK92K8KxbUZmMAOE5GeeanmXo0KG9+vTpM9/zvOPy+fx9TU1NBxQKhRtbW1uHL1iwYM0GnMbGxsnF//98Pn/ydttt16179+73mdnN+Xz+0lKAhOdSQoRnXQircqyKzxAIdTmsdCvCs25FZTIChOdknGt6lvr6+iNyudxFQRCM2gDh+/5sMzs3CIJ7Nvyuqanp0PXr189qaWl5sfi7hoaG//E8b1AQBCeXAiQ8lxIiEOpCWJVjRXh2UyM8616EZ92KymQECM/JONf0LL7vnxuG4fjm5uZPdwjPd5rZfUEQTNoYzsiRI7utX7/+cc/zLsvn89eXAiyG52XLVr7zta2l6mv534uX9oABvQ2v0qcAq9JGHSvw0r2w0q2ebFlsl978VPs3DF565r7v/Pf84MF9yTA6I5URCnDwIsRkqI0LNDY2nh+G4aggCI7tEJ5vDsPw6ebm5h9v5Kk63/d/G4bh5s3NzYebWVsp22J4LlXDvyOAAAIIZE/gsdmv2I+uf7Q9PP/ugkPf2YDneWSY7LWzKlbMwauKNqZ7E77vn2NmBwZBcESH8Px3z/P++f73M48ePbr3mjVr/mJm61tbWz/X8T3RH7ZLXnnWzwCveGGlC7hVcrZ0L6x0K1551q2oTEaA8JyMc03P4vv+J8xsUhAEjRsgGhoagjAMJ7S0tNy74Xfjxo3runz58rvMbH4QBKeaWUGF4z3PqhR/1KVLYeViVazlfby6GFa6Fe951q2oTEaA8JyMc03PUl9f3z2Xy83zPO+0fD5/e0NDw1Ge503q27fviBkzZqzrEKjPM7Pdm5ubjzQzp7dhEJ71I8aljZUu4FbJ2dK9sNKtCM+6FZXJCBCek3Gu+Vl839/dzK4ys83MbKnneafn8/nHfd//l5ldEATBVN/3FxXfrmFmyzeAeZ73TD6f/2wpQMJzKaF3/51LGytdwK2Ss6V7YaVbEZ51KyqTESA8J+PMLDELEJ51YC5trHQBt0rOlu6FlW5FeNatqExGgPCcjDOzxCxAeNaBubSx0gXcKjlbuhdWuhXhWbeiMhkBwnMyzswSswDhWQfm0sZKF3Cr5GzpXljpVoRn3YrKZAQIz8k4M0vMAoRnHZhLGytdwK2Ss6V7YaVbEZ51KyqTESA8J+PMLDELEJ51YC5trHQBt0rOlu6FlW5FeNatqExGgPCcjDOzxCxAeNaBubSx0gXcKjlbuhdWuhXhWbeiMhkBwnMyzswSswDhWQfm0sZKF3Cr5GzpXljpVoRn3YrKZAQIz8k4M0vMAoRnHZhLGytdwK2Ss6V7YaVbEZ51KyqTESA8J+PMLDELEJ51YC5trHQBt0rOlu6FlW5FeNatqExGgPCcjDOzxCxAeNaBubSx0gXcKjlbuhdWuhXhWbeiMhkBwnMyzswSswDhWQfm0sZKF3Cr5GzpXljpVoRn3YrKZAQIz8k4M0vMAoRnHZhLGytdwK2Ss6V7YaVbEZ51KyqTESA8J+PMLDELEJ51YC5trHQBt0rOlu6FlW5FeNatqExGgPCcjDOzxCxAeNaBubSx0gXcKjlbuhdWuhXhWbeiMhkBwnMyzswSswDhWQfm0sZKF3Cr5GzpXljpVoRn3YrKZAQIz8k4M0vMAoRnHZhLGytdwK2Ss6V7YaVbEZ51KyqTESA8J+PMLDELEJ51YC5trHQBt0rOlu6FlW5FeNatqExGgPCcjDOzxCxAeNaBubSx0gXcKjlbuhdWuhXhWbeiMhkBwnMyzswSswDhWQfm0sZKF3Cr5GzpXljpVoRn3YrKZAQIz8k4M0vMAoRnHZhLGytdwK2Ss6V7YaVbEZ51KyqTESA8J+PMLDELEJ51YC5trHQBt0rOlu6FlW5FeNatqExGgPCcjDOzxCxAeNaBubSx0gXcKjlbuhdWuhXhWbeiMhkBwnMyzswSswDhWQfm0sZKF3Cr5GzpXljpVoRn3YrKZAQIz8k4M0vMAoRnHZhLGytdwK2Ss6V7YaVbEZ51KyqTESA8J+PMLDELEJ51YC5trHQBt0rOlu6FlW5FeNatqExGgPCcjDOzxCxAeNaBubSx0gXcKjlbuhdWuhXhWbeiMhkBwnMyzswSswDhWQfm0sZKF3Cr5GzpXljpVoRn3YrKZAQIz8k4M0vMAoRnHZhLGytdwK2Ss6V7YaVbEZ51KyqTESA8J+PMLDELEJ51YC5trHQBt0rOlu6FlW5FeNatqExGgPCcjDOzxCxAeNaBubSx0gXcKjlbuhdWuhXhWbeiMhkBwnMyzswSswDhWQfm0sZKF3Cr5GzpXljpVoRn3YrKZAQIz8k4M0vMAoRnHZhLGytdwK2Ss6V7YaVbEZ51KyqTESA8J+PMLDELEJ51YC5trHQBt0rOlu6FlW5FeNatqExGgPCcjDOzxCxAeNaBubSx0gXcKjlbuhdWuhXhWbeiMhkBwnMyzswSswDhWQfm0sZKF3Cr5GzpXljpVoRn3YrKZAQIz8k4M0vMAoRnHZhLGytdwK2Ss6V7YaVbEZ51KyqTESA8J+PMLDELEJ51YC5trHQBt0rOlu6FlW5FeNatqExGgPCcjDOzxCxAeNaBubSx0gXcKjlbuhdWuhXhWbeiMhkBwnMyzswSswDhWQfm0sZKF3Cr5GzpXljpVoRn3YrKZAQIz8k4M0vMAoRnHZhLGytdwK2Ss6V7YaVbEZ51KyqTESA8J+PMLDELEJ51YC5trHQBt0rOlu6FlW5FeNatqExGgPCcjDOzxCxAeNaBubSx0gXcKjlbuhdWuhXhWbeiMhkBwnMyzswSswDhWQfm0sZKF3Cr5GzpXljpVoRn3YrKZAQIz8k4M0vMAoRnHZhLGytdwK2Ss6V7YaVbEZ51KyqTESA8J+PMLDELEJ51YC5trHQBt0rOlu6FlW5FeNatqExGgPCcjDOzxCxAeNaBubSx0gXcKjlbuhdWuhXhWbeiMhkBwnMyzswSswDhWQfm0sZKF3Cr5GzpXljpVoRn3YrKZAQIz8k4M0vMAoRnHZhLGytdwK2Ss6V7YaVbEZ51KyqTESA8J+PMLDELEJ51YC5trHQBt0rOlu6FlW5FeNatqExGgPCcjDOzxCxAeNaBubSx0gXcKjlbuhdWuhXhWbeiMhkBwnMyzswSswDhWQfm0sZKF3Cr5GzpXljpVoRn3YrKZAQIz8k4M0vMAoRnHZhLGytdwK2Ss6V7YaVbEZ51KyqTESA8J+PMLDELEJ51YC5trHQBt0rOlu6FlW5FeNatqExGgPCcjDOzxCxAeNaBubSx0gXcKjlbuhdWuhXhWbeiMhkBwnMyzswSswDhWQfm0sZKF3Cr5GzpXljpVoRn3YrKZAQIz8k4M0vMAoRnHZhLGytdwK2Ss6V7YaVbEZ51KyqTESA8J+PMLDELEJ51YC5trHQBt0rOlu6FlW5FeNatqExGgPCcjDOzxCxAeNaBubSx0gXcKjlbuhdWuhXhWbeiMhkBwnMyzswSswDhWQfm0sZKF3Cr5GzpXljpVoRn3YrKZAQIz8k4M0vMAoRnHZhLGytdwK2Ss6V7YaVbEZ51KyqTESA8J+PMLDELEJ51YC5trHQBt0rOlu6FlW5FeNatqExGgPCcjDOzxCxAeNaBubSx0gXcKjlbuhdWuhXhWbeiMhkBwnMyzswSswDhWQfm0sZKF3Cr5GzpXljV91u5AAATDUlEQVTpVoRn3YrKZAQIz8k4M0vMAoRnHZhLGytdwK2Ss6V7YaVbEZ51KyqTESA8J+PMLDELEJ51YC5trHQBt0rOlu6FlW5FeNatqExGgPCcjDOzxCxAeNaBubSx0gXcKjlbuhdWuhXhWbeiMhkBwnMyzjU/i+/7+5rZJWbW38xeLxQKE1taWh7pCNPY2Ng3DMPrwjAc53lewfO8P+Xz+QsVPMKzovRWDZc2VrqAWyVnS/fCSrciPOtWVCYjQHhOxrmmZxk6dGivPn36zPc877h8Pn9fU1PTAYVC4cbW1tbhCxYsWLMBx/f9K82sTxAEXxo9enSvNWvWPOp53nn5fP72UoCE51JC7/47lzZWuoBbJWdL98JKtyI861ZUJiNAeE7GuaZnqa+vPyKXy10UBMGoDkF5tpmdGwTBPR1+t9jzvI/n8/nHi79rbGz8ZvFV6CAIji0FSHguJUR41oWwKseq+AyBUJfDSrciPOtWVCYjQHhOxrmmZ/F9/9wwDMc3Nzd/ukNQvtPM7guCYFLxd01NTYMKhcLi7t27D5w5c+ay4u8aGhqO8jzv+8H/b+/eo+yq6juAf3/nDhk6k0GTDNVMsITMPfvcJiShQilxIQ3qaqsYsELDo8uqq7QNDwVlhYeAIFVeSwwPWRUwqEiI0mXl1aW2kIQuirymCJHh7n0uScQICoQoCWFyJ3N+XTvrXLkOM5k75BLO3PO9/2StmX3O2fuz95x8Z88++zg3fyxAhuexhBgIGxei1ZuxYngenxrDc+NeDM+NW7HknhFgeN4zzrm+ShRFF6rqgfUzyMaY21X1yTiOv+xxent731MoFJ7dtm1bx8aNG1/zXzPGfATAtc654liAPjxv3vwqkkTHKpr77/v/tKdM6QS9xh4KtBrbqL4EvRr3olXjVk9veBlX3PY4pnd34oolC35/n+/u7mKGaZyRJZsowIHXREyeamQBY8znARzpnFtUK2GMuUdE7rXWXu2/NmfOnKmDg4ObgiDoLpfLm/zXoig6TlUvcM4dRFsKUIACFKAABSiQBQGG5yz0QovXIZ1BXuaci2pNDcPQqerplUrlv+oC9QtJkhxT24XDGPMFAH7G+qQWJ2LzKEABClCAAhSYIAIMzxOkoyZyNYvFYnsQBOtE5FS/c0a6lnlZV1dXb19f32BdeL5KRPa31i42xkwF8Eh6zI8ncvtZdwpQgAIUoAAFWkeA4bl1+jLTLTHGHArgegDvBPCyiJzmd9UwxtwH4CLn3AN+S7vOzs4bReQwAEMistxae2WmG8bKUYACFKAABSiQKwGG51x1NxtLAQpQgAIUoAAFKLA7AgzPu6PHYylAAQpQgAIUoAAFciXA8Jyr7mZjKUABClCAAhSgAAV2R4DheXf0eCwFKEABClCAAhSgQK4EGJ5z1d0Tu7HGmMMBfA3AOwD8NkmSM2vb2tVaFkVRl6re6F/rLSKJiKyw1v7rxG75m6t9I15z586dMjAwcJ2IHKKqgYisbmtr+0x/f3/1zV11Yh7ViFV9y4wxPxSRKdbahROzxbtX60a90u0ml/gHgFV1laqeWqlUtu/e1SfW0Y1YFYvF/YIg+IZ/sWr6sPTKvN63/FvejTHnALhERBZZa9+w2xLv8xPrZ6AVa8vw3Iq92oJt8jtxTJ48eb2InGitXVUqlRYmSbKyWq0esGHDhoFak40xXwcw2Tn36Xnz5nUMDAw8LCLn+y3yWpBl1CY16hVF0c3+JNbak2fOnDmpvb19FYDbay+vyYNZo1Z1v6AtVtUrROQXeQzPjXoZY44HcH61Wj1i2rRpr27ZsuW7SZLcXL+3e6uPr0atwjC8MwgCa609u1gs7iMijwVBsDRv9y0/Howxt4nI71T1aBH5x5HCM+/zrf6Tk/32MTxnv49YQwDFYnFREASXOecOrAvK/QDOcs79qO5rL4nI3/ht8PzXoig6289C178aPA+gjXqVSqW/3rFjx1OVSmWjdwnD0IfCac65k/Pg5NvYqJUvWyqVpiVJ8jCAL6X/sedu5rlRL2PMvaq6Io7jb+VlLA1v5zis1gVBcEq5XP5JGiBXqupTcRx/OW92pVLpfeVy+UFjzAYRWTJKeOZ9Pm8DI2PtZXjOWIewOiMLGGPOUtUj4jg+pi4o3w1glXNuWV2weam9vX3q2rVrN6dh8FgR+aJzbn6ebBvxGu4xe/bsSTt27HhMRK6x1i7Pi9d4rMIwvFVEHgyCoF9VL87jzHOjXsYYH3CuVFX/M9utqj+cMWPGBWvWrNnBsfX6fSsNy35/+7bp06f/8/PPP//HqvpgkiQnVCqVh/JiNbydo4Xn9BdY3ufzOjAy0m6G54x0BKuxa4Eoii5UVf+qbv+n4J0fY8ztqvpkbXamt7f3PYVC4dlt27Z1bNy48bW0zEcAXOucK+bJuBGvYR4FY8y3VXXfOI6P8usu8+LVqFUYhkeJyLnOuSNKpdJf5jU8N+pljPEh+c6tW7d+oqOjozMIgtUicpO19hqOrdfvW+l9qhvAGgD7+WVnqvr1OI7PzIvTSO0cLTzzPp/nUZGdtjM8Z6cvWJNdCBhjPg/gSOfcorrwfI+I3Ftbnztnzpypg4ODm4Ig6C6Xy5t8uSiKjlPVC5xzB+UJuBGvmse8efM6BwYGvg9gR7VaPaF+DXkezBqx8utQgyDoA7DIOVf2a+7zGp4b8UoDoZ959mtWdz5vkB73Ieec/4U2F59xWP1URL5nrb121qxZ+xQKhTtE5K7aX9VygTWskaOFZ97n8zgastdmhufs9QlrNIKAMcb/h7vMORfVvh2GoVPV0+sfQDLGvJAkyTG1XTjSp/39jPVJeYJt1Ovggw/ea8uWLf8JYL1z7hQASZ6c0lA35thKZ51XAKg9nDrJzxAC+KVzrjdPZo2OLWPMowCuc87dkv4iewaAD1prj86LVyNWxhg/6/xi/XIzY8znvJVz7qN5sRrezjHWPPM+n9eBkZF2MzxnpCNYjV0LFIvF9iAI1onIqX4mKwxDv5Z5WVdXV29fX99g3Wz0VSKyv7V2sTFmKoBH0mPesN1RK5s36hWG4fkADo3j+GMAtJVNRmtbo1b1x+d55rlRrzQAnrD33nt/wNsNDAysEZGbrbX/lpdx1qCVGGOeS3cFujl99uCOdEnauXmxGmd45n0+rwMjI+1meM5IR7AaYwsYYw4FcD2AdwJ4WURO87tqGGPuA3CRc+4BvzVUZ2enf/jmsHS/1OXW2ivHPnvrlWjEyxjzG79cA8CWmoCI/Nxae1zriYzeokasGJ5fF2jQqxCGoQ85x6rqa34ZQk9Pz7l5emAw/cvGmPetYrG4oFAoXJUkSbeIiKr+z1577XVGf3//1jz9HKb7N/u/WPiP/4vOrwG8CuA8AKfzPp+n0ZDttjI8Z7t/WDsKUIACFKAABShAgQwJMDxnqDNYFQpQgAIUoAAFKECBbAswPGe7f1g7ClCAAhSgAAUoQIEMCTA8Z6gzWBUKUIACFKAABShAgWwLMDxnu39YOwpQgAIUoAAFKECBDAkwPGeoM1gVClCAAhSgAAUoQIFsCzA8Z7t/WDsKUIACFKAABShAgQwJMDxnqDNYFQpQgAIUoAAFKECBbAswPGe7f1g7ClCAArsUMMZc7F8eEQTBkeVyec14uPwrkH1559zM8RzHshSgAAXyLMDwnOfeZ9spQIExBcIw/JSIfGuEggmAlwA8COAq/4bLMU/2FhQoFouzC4XC7KGhofsrlcqL47mEMebDaXj+0XiOY1kKUIACeRZgeM5z77PtFKDAmAK18KyqK4IguKN2gKp2ACgB+Bf/yngR+Qdr7YoxT8gCFKAABSgwoQUYnid097HyFKDAWy1QN/N8nnPu8uHXi6LoAFV9AkC1q6trel9f3+BbXSeenwIUoAAF3j4Bhue3z55XpgAFJoDAWOHZNyGKortUdVGSJO8Vkfl+mYeIfCJJkoNF5JMistxau9SXNcZ0A/gigKMB9AB4RVX/F8ClcRw/XE8SRVGXL6uqHwewH4AXVfXWoaGhy9atW/e79HxvWPMchuEsEfkCgA8AmA5gK4C1SZIsq1Qqd9euMdKa55kzZ+49adKkswGcAOAAADsA9IvIjdba5bVjS6XSwiRJVqvqhUEQ+H8vA/Bn6fcfUNXT4jheNwG6mFWkAAUoMC4BhudxcbEwBSiQN4FGwrMx5vsAFgP4C1Wdna6RvgfAFBH5RpIksQ/Gc+fOnbJ9+/ZHAOyrqjeIyM8BzBCRU1T13SLyYWvtKm88e/bsSUNDQz9Nl4Z8DYBV1fcC+IyIPFooFBb29/dXhz8wOGvWrHe0tbVZAO0ArlbVWESmAPgUgIMBfNw5t3P5yQjhOTDG/ATAhwB8D4Cviz/P3wE4QkS+Yq29wB9bC88A/h3AQhG5QVUrAA4HcDKAnznnamE6b8OG7aUABVpYgOG5hTuXTaMABXZfYKzw3NPT0zF58mQHYOrWrVu7Ozs7F6fh+aUkSXorlcordTO9PgSfoarvq59lNsbMAPAUgF845+b78mEYflZErlHVT8dx/O26c1wK4DxVPSmO45XDw7Mx5m8B/IeqLo3j+Ku149IZ5R+o6ura14eHZ2PM8WlovtE559dy7/wsXLiw7bnnnnsMwIEA9nfO/aouPKuqLhjWnvv8rLeq9nL2effHIM9AAQpkS4DhOVv9wdpQgAIZE6gLz1+qVqtX16rX0dGx9+DgoBGRi9LlERc55y6pK7/SOXdSfXOMMb8CsLlarfrZ2T/4tLe33+KXfrS3t09du3bt5iiKHlTVQ6rV6j4bNmwYqBUulUrT/EqR7du3P7N+/frfDA/PxWJxURAEd4nID6y1PgwPjUY6Qnj2s83H++UnlUrl8WF1PwvAV0XkZL98oy48P+Cce3992TAMLxeRc0TkcGutX5LCDwUoQIGWEWB4bpmuZEMoQIG3QmAXW9XVLrcJwGXOOT+rrHXlL3XOnV8rlC6n+G0DdTzIOfeEMeYVEdlsrd1/V8eMEJ7bC4WCX4O8AMBGAHeq6qogCP7bWrtlWCD+g32ejTE/AzC/ra2t3S8JGRaIPyoid6vqlXEcn1MXnr/jnPNLQn7/2Z29pxvwYREKUIACb6sAw/Pbys+LU4ACWReoC8M3BUFwW62+Q0NDiapuqlQq5frZ3dGWeRSLxf2CIPglgCeCIDhztHZXq9XH/cOAxhi/a8cG51w4nvDsy86bN69zYGBgiar6Par9Ugv/8bPXNyVJsrRSqWz3Xxhh5tmvWf4T59yk4dc0xnwQwL0ArnfOnV4Lz36ts7V2CcNz1kcy60cBCjRLgOG5WZI8DwUo0JICY615Ht7o0crXzTw/7ZybPRZWusRjknNu3/GG5/ryaWj3L0M5zc8qA1junPMP9I0UnkedeY6i6GhVvRPA5c658xiex+pBfp8CFGhVAYbnVu1ZtosCFGiKQLPCcxpW/TKKdw0NDc145plnXhg2W9vtnPNvLNz5Mcb4tcIL2traevr7+39d+/qcOXOmVqtVv83d0/4hvUaXSBSLxfYgCNYD+CPnnN99Y6Tw7GfWTwyC4JByudw3rH7n+uUpAD7pnLuF4bkpw4snoQAFJqAAw/ME7DRWmQIU2HMCTQ7Pfl305+q3fPMtSbewW+v3YnbO7XxldhRFZ6vqFQDOd875HTZ2fsIwXCoiV9ZC7Ai7bfgHGP0a5D+vD+MA/DZ0fllGh3Pu3aOE5507dQD4pnPun2rXTIO3n5WeGQTBfuVyeRPD854bg7wSBSiQLQGG52z1B2tDAQpkTKCZ4dnPGg8ODj6avnxkuYjcr6rvAuDXDM8UkUXW2h97gnQLvIcA/CmA60TEzwQfpKqfBfB/PT0971+zZs2OEcKz38nDbxXn11d/U1WfBTA5CIJjVfWvVPWCOI6/MlJ4BiDGGP8SlaMA3CoiqwF0qeqJ6R7WZ8RxfK0/luE5YwOV1aEABfaYAMPzHqPmhShAgYko0Mzw7NtfLBb3DYLAv2FwUfqGwVcBPJQkyeWVSuX+eiM/I12tVi9WVT8j7GeLXxSRFYVC4ZL+/n7/1kC/9OINbxgsFouHBUHg3xLod9zwW9v5hwWfBHCDc+67tWuM9IbB9OUs56jq36ch3z9c6LetW1Z7uQrD80QcyawzBSjQLAGG52ZJ8jwUoAAFKEABClCAAi0vwPDc8l3MBlKAAhSgAAUoQAEKNEuA4blZkjwPBShAAQpQgAIUoEDLCzA8t3wXs4EUoAAFKEABClCAAs0SYHhuliTPQwEKUIACFKAABSjQ8gIMzy3fxWwgBShAAQpQgAIUoECzBBiemyXJ81CAAhSgAAUoQAEKtLwAw3PLdzEbSAEKUIACFKAABSjQLAGG52ZJ8jwUoAAFKEABClCAAi0vwPDc8l3MBlKAAhSgAAUoQAEKNEuA4blZkjwPBShAAQpQgAIUoEDLCzA8t3wXs4EUoAAFKEABClCAAs0SYHhuliTPQwEKUIACFKAABSjQ8gIMzy3fxWwgBShAAQpQgAIUoECzBP4fDWZazOAiRiQAAAAASUVORK5CYII=\" width=\"798.8889100522176\">"
      ],
      "text/plain": [
       "<IPython.core.display.HTML object>"
      ]
     },
     "metadata": {},
     "output_type": "display_data"
    }
   ],
   "source": [
    "from sklearn.metrics import precision_recall_curve\n",
    "\n",
    "precision, recall, thresholds = precision_recall_curve(y_test, y_scores_lr)\n",
    "closest_zero = np.argmin(np.abs(thresholds))\n",
    "closest_zero_p = precision[closest_zero]\n",
    "closest_zero_r = recall[closest_zero]\n",
    "\n",
    "plt.figure()\n",
    "plt.xlim([0.0, 1.01])\n",
    "plt.ylim([0.0, 1.01])\n",
    "plt.plot(precision, recall, label='Precision-Recall Curve')\n",
    "plt.plot(closest_zero_p, closest_zero_r, 'o', markersize = 12, fillstyle = 'none', c='r', mew=3)\n",
    "plt.xlabel('Precision', fontsize=16)\n",
    "plt.ylabel('Recall', fontsize=16)\n",
    "plt.axes().set_aspect('equal')\n",
    "plt.show()"
   ]
  },
  {
   "cell_type": "markdown",
   "metadata": {},
   "source": [
    "### ROC curves, Area-Under-Curve (AUC)"
   ]
  },
  {
   "cell_type": "code",
   "execution_count": null,
   "metadata": {
    "collapsed": false
   },
   "outputs": [],
   "source": [
    "from sklearn.metrics import roc_curve, auc\n",
    "\n",
    "X_train, X_test, y_train, y_test = train_test_split(X, y_binary_imbalanced, random_state=0)\n",
    "\n",
    "y_score_lr = lr.fit(X_train, y_train).decision_function(X_test)\n",
    "fpr_lr, tpr_lr, _ = roc_curve(y_test, y_score_lr)\n",
    "roc_auc_lr = auc(fpr_lr, tpr_lr)\n",
    "\n",
    "plt.figure()\n",
    "plt.xlim([-0.01, 1.00])\n",
    "plt.ylim([-0.01, 1.01])\n",
    "plt.plot(fpr_lr, tpr_lr, lw=3, label='LogRegr ROC curve (area = {:0.2f})'.format(roc_auc_lr))\n",
    "plt.xlabel('False Positive Rate', fontsize=16)\n",
    "plt.ylabel('True Positive Rate', fontsize=16)\n",
    "plt.title('ROC curve (1-of-10 digits classifier)', fontsize=16)\n",
    "plt.legend(loc='lower right', fontsize=13)\n",
    "plt.plot([0, 1], [0, 1], color='navy', lw=3, linestyle='--')\n",
    "plt.axes().set_aspect('equal')\n",
    "plt.show()"
   ]
  },
  {
   "cell_type": "code",
   "execution_count": null,
   "metadata": {
    "collapsed": false,
    "scrolled": false
   },
   "outputs": [],
   "source": [
    "from matplotlib import cm\n",
    "\n",
    "X_train, X_test, y_train, y_test = train_test_split(X, y_binary_imbalanced, random_state=0)\n",
    "\n",
    "plt.figure()\n",
    "plt.xlim([-0.01, 1.00])\n",
    "plt.ylim([-0.01, 1.01])\n",
    "for g in [0.01, 0.1, 0.20, 1]:\n",
    "    svm = SVC(gamma=g).fit(X_train, y_train)\n",
    "    y_score_svm = svm.decision_function(X_test)\n",
    "    fpr_svm, tpr_svm, _ = roc_curve(y_test, y_score_svm)\n",
    "    roc_auc_svm = auc(fpr_svm, tpr_svm)\n",
    "    accuracy_svm = svm.score(X_test, y_test)\n",
    "    print(\"gamma = {:.2f}  accuracy = {:.2f}   AUC = {:.2f}\".format(g, accuracy_svm, \n",
    "                                                                    roc_auc_svm))\n",
    "    plt.plot(fpr_svm, tpr_svm, lw=3, alpha=0.7, \n",
    "             label='SVM (gamma = {:0.2f}, area = {:0.2f})'.format(g, roc_auc_svm))\n",
    "\n",
    "plt.xlabel('False Positive Rate', fontsize=16)\n",
    "plt.ylabel('True Positive Rate (Recall)', fontsize=16)\n",
    "plt.plot([0, 1], [0, 1], color='k', lw=0.5, linestyle='--')\n",
    "plt.legend(loc=\"lower right\", fontsize=11)\n",
    "plt.title('ROC curve: (1-of-10 digits classifier)', fontsize=16)\n",
    "plt.axes().set_aspect('equal')\n",
    "\n",
    "plt.show()"
   ]
  },
  {
   "cell_type": "markdown",
   "metadata": {},
   "source": [
    "### Evaluation measures for multi-class classification"
   ]
  },
  {
   "cell_type": "markdown",
   "metadata": {},
   "source": [
    "#### Multi-class confusion matrix"
   ]
  },
  {
   "cell_type": "code",
   "execution_count": null,
   "metadata": {
    "collapsed": false,
    "scrolled": false
   },
   "outputs": [],
   "source": [
    "dataset = load_digits()\n",
    "X, y = dataset.data, dataset.target\n",
    "X_train_mc, X_test_mc, y_train_mc, y_test_mc = train_test_split(X, y, random_state=0)\n",
    "\n",
    "\n",
    "svm = SVC(kernel = 'linear').fit(X_train_mc, y_train_mc)\n",
    "svm_predicted_mc = svm.predict(X_test_mc)\n",
    "confusion_mc = confusion_matrix(y_test_mc, svm_predicted_mc)\n",
    "df_cm = pd.DataFrame(confusion_mc, \n",
    "                     index = [i for i in range(0,10)], columns = [i for i in range(0,10)])\n",
    "\n",
    "plt.figure(figsize=(5.5,4))\n",
    "sns.heatmap(df_cm, annot=True)\n",
    "plt.title('SVM Linear Kernel \\nAccuracy:{0:.3f}'.format(accuracy_score(y_test_mc, \n",
    "                                                                       svm_predicted_mc)))\n",
    "plt.ylabel('True label')\n",
    "plt.xlabel('Predicted label')\n",
    "\n",
    "\n",
    "svm = SVC(kernel = 'rbf').fit(X_train_mc, y_train_mc)\n",
    "svm_predicted_mc = svm.predict(X_test_mc)\n",
    "confusion_mc = confusion_matrix(y_test_mc, svm_predicted_mc)\n",
    "df_cm = pd.DataFrame(confusion_mc, index = [i for i in range(0,10)],\n",
    "                  columns = [i for i in range(0,10)])\n",
    "\n",
    "plt.figure(figsize = (5.5,4))\n",
    "sns.heatmap(df_cm, annot=True)\n",
    "plt.title('SVM RBF Kernel \\nAccuracy:{0:.3f}'.format(accuracy_score(y_test_mc, \n",
    "                                                                    svm_predicted_mc)))\n",
    "plt.ylabel('True label')\n",
    "plt.xlabel('Predicted label');"
   ]
  },
  {
   "cell_type": "markdown",
   "metadata": {},
   "source": [
    "#### Multi-class classification report"
   ]
  },
  {
   "cell_type": "code",
   "execution_count": null,
   "metadata": {
    "collapsed": false
   },
   "outputs": [],
   "source": [
    "print(classification_report(y_test_mc, svm_predicted_mc))"
   ]
  },
  {
   "cell_type": "markdown",
   "metadata": {},
   "source": [
    "#### Micro- vs. macro-averaged metrics"
   ]
  },
  {
   "cell_type": "code",
   "execution_count": null,
   "metadata": {
    "collapsed": false
   },
   "outputs": [],
   "source": [
    "print('Micro-averaged precision = {:.2f} (treat instances equally)'\n",
    "      .format(precision_score(y_test_mc, svm_predicted_mc, average = 'micro')))\n",
    "print('Macro-averaged precision = {:.2f} (treat classes equally)'\n",
    "      .format(precision_score(y_test_mc, svm_predicted_mc, average = 'macro')))"
   ]
  },
  {
   "cell_type": "code",
   "execution_count": null,
   "metadata": {
    "collapsed": false
   },
   "outputs": [],
   "source": [
    "print('Micro-averaged f1 = {:.2f} (treat instances equally)'\n",
    "      .format(f1_score(y_test_mc, svm_predicted_mc, average = 'micro')))\n",
    "print('Macro-averaged f1 = {:.2f} (treat classes equally)'\n",
    "      .format(f1_score(y_test_mc, svm_predicted_mc, average = 'macro')))"
   ]
  },
  {
   "cell_type": "markdown",
   "metadata": {},
   "source": [
    "### Regression evaluation metrics"
   ]
  },
  {
   "cell_type": "code",
   "execution_count": null,
   "metadata": {
    "collapsed": false
   },
   "outputs": [],
   "source": [
    "%matplotlib notebook\n",
    "import matplotlib.pyplot as plt\n",
    "import numpy as np\n",
    "from sklearn.model_selection import train_test_split\n",
    "from sklearn import datasets\n",
    "from sklearn.linear_model import LinearRegression\n",
    "from sklearn.metrics import mean_squared_error, r2_score\n",
    "from sklearn.dummy import DummyRegressor\n",
    "\n",
    "diabetes = datasets.load_diabetes()\n",
    "\n",
    "X = diabetes.data[:, None, 6]\n",
    "y = diabetes.target\n",
    "\n",
    "X_train, X_test, y_train, y_test = train_test_split(X, y, random_state=0)\n",
    "\n",
    "lm = LinearRegression().fit(X_train, y_train)\n",
    "lm_dummy_mean = DummyRegressor(strategy = 'mean').fit(X_train, y_train)\n",
    "\n",
    "y_predict = lm.predict(X_test)\n",
    "y_predict_dummy_mean = lm_dummy_mean.predict(X_test)\n",
    "\n",
    "print('Linear model, coefficients: ', lm.coef_)\n",
    "print(\"Mean squared error (dummy): {:.2f}\".format(mean_squared_error(y_test, \n",
    "                                                                     y_predict_dummy_mean)))\n",
    "print(\"Mean squared error (linear model): {:.2f}\".format(mean_squared_error(y_test, y_predict)))\n",
    "print(\"r2_score (dummy): {:.2f}\".format(r2_score(y_test, y_predict_dummy_mean)))\n",
    "print(\"r2_score (linear model): {:.2f}\".format(r2_score(y_test, y_predict)))\n",
    "\n",
    "# Plot outputs\n",
    "plt.scatter(X_test, y_test,  color='black')\n",
    "plt.plot(X_test, y_predict, color='green', linewidth=2)\n",
    "plt.plot(X_test, y_predict_dummy_mean, color='red', linestyle = 'dashed', \n",
    "         linewidth=2, label = 'dummy')\n",
    "\n",
    "plt.show()"
   ]
  },
  {
   "cell_type": "markdown",
   "metadata": {},
   "source": [
    "### Model selection using evaluation metrics"
   ]
  },
  {
   "cell_type": "markdown",
   "metadata": {},
   "source": [
    "#### Cross-validation example"
   ]
  },
  {
   "cell_type": "code",
   "execution_count": null,
   "metadata": {
    "collapsed": false
   },
   "outputs": [],
   "source": [
    "from sklearn.model_selection import cross_val_score\n",
    "from sklearn.svm import SVC\n",
    "\n",
    "dataset = load_digits()\n",
    "# again, making this a binary problem with 'digit 1' as positive class \n",
    "# and 'not 1' as negative class\n",
    "X, y = dataset.data, dataset.target == 1\n",
    "clf = SVC(kernel='linear', C=1)\n",
    "\n",
    "# accuracy is the default scoring metric\n",
    "print('Cross-validation (accuracy)', cross_val_score(clf, X, y, cv=5))\n",
    "# use AUC as scoring metric\n",
    "print('Cross-validation (AUC)', cross_val_score(clf, X, y, cv=5, scoring = 'roc_auc'))\n",
    "# use recall as scoring metric\n",
    "print('Cross-validation (recall)', cross_val_score(clf, X, y, cv=5, scoring = 'recall'))"
   ]
  },
  {
   "cell_type": "markdown",
   "metadata": {},
   "source": [
    "#### Grid search example"
   ]
  },
  {
   "cell_type": "code",
   "execution_count": null,
   "metadata": {
    "collapsed": false
   },
   "outputs": [],
   "source": [
    "from sklearn.svm import SVC\n",
    "from sklearn.model_selection import GridSearchCV\n",
    "from sklearn.metrics import roc_auc_score\n",
    "\n",
    "dataset = load_digits()\n",
    "X, y = dataset.data, dataset.target == 1\n",
    "X_train, X_test, y_train, y_test = train_test_split(X, y, random_state=0)\n",
    "\n",
    "clf = SVC(kernel='rbf')\n",
    "grid_values = {'gamma': [0.001, 0.01, 0.05, 0.1, 1, 10, 100]}\n",
    "\n",
    "# default metric to optimize over grid parameters: accuracy\n",
    "grid_clf_acc = GridSearchCV(clf, param_grid = grid_values)\n",
    "grid_clf_acc.fit(X_train, y_train)\n",
    "y_decision_fn_scores_acc = grid_clf_acc.decision_function(X_test) \n",
    "\n",
    "print('Grid best parameter (max. accuracy): ', grid_clf_acc.best_params_)\n",
    "print('Grid best score (accuracy): ', grid_clf_acc.best_score_)\n",
    "\n",
    "# alternative metric to optimize over grid parameters: AUC\n",
    "grid_clf_auc = GridSearchCV(clf, param_grid = grid_values, scoring = 'roc_auc')\n",
    "grid_clf_auc.fit(X_train, y_train)\n",
    "y_decision_fn_scores_auc = grid_clf_auc.decision_function(X_test) \n",
    "\n",
    "print('Test set AUC: ', roc_auc_score(y_test, y_decision_fn_scores_auc))\n",
    "print('Grid best parameter (max. AUC): ', grid_clf_auc.best_params_)\n",
    "print('Grid best score (AUC): ', grid_clf_auc.best_score_)\n"
   ]
  },
  {
   "cell_type": "markdown",
   "metadata": {},
   "source": [
    "#### Evaluation metrics supported for model selection"
   ]
  },
  {
   "cell_type": "code",
   "execution_count": null,
   "metadata": {
    "collapsed": false
   },
   "outputs": [],
   "source": [
    "from sklearn.metrics.scorer import SCORERS\n",
    "\n",
    "print(sorted(list(SCORERS.keys())))"
   ]
  },
  {
   "cell_type": "markdown",
   "metadata": {},
   "source": [
    "### Two-feature classification example using the digits dataset"
   ]
  },
  {
   "cell_type": "markdown",
   "metadata": {},
   "source": [
    "#### Optimizing a classifier using different evaluation metrics"
   ]
  },
  {
   "cell_type": "code",
   "execution_count": null,
   "metadata": {
    "collapsed": false,
    "scrolled": false
   },
   "outputs": [],
   "source": [
    "from sklearn.datasets import load_digits\n",
    "from sklearn.model_selection import train_test_split\n",
    "from adspy_shared_utilities import plot_class_regions_for_classifier_subplot\n",
    "from sklearn.svm import SVC\n",
    "from sklearn.model_selection import GridSearchCV\n",
    "\n",
    "\n",
    "dataset = load_digits()\n",
    "X, y = dataset.data, dataset.target == 1\n",
    "X_train, X_test, y_train, y_test = train_test_split(X, y, random_state=0)\n",
    "\n",
    "# Create a two-feature input vector matching the example plot above\n",
    "# We jitter the points (add a small amount of random noise) in case there are areas\n",
    "# in feature space where many instances have the same features.\n",
    "jitter_delta = 0.25\n",
    "X_twovar_train = X_train[:,[20,59]]+ np.random.rand(X_train.shape[0], 2) - jitter_delta\n",
    "X_twovar_test  = X_test[:,[20,59]] + np.random.rand(X_test.shape[0], 2) - jitter_delta\n",
    "\n",
    "clf = SVC(kernel = 'linear').fit(X_twovar_train, y_train)\n",
    "grid_values = {'class_weight':['balanced', {1:2},{1:3},{1:4},{1:5},{1:10},{1:20},{1:50}]}\n",
    "plt.figure(figsize=(9,6))\n",
    "for i, eval_metric in enumerate(('precision','recall', 'f1','roc_auc')):\n",
    "    grid_clf_custom = GridSearchCV(clf, param_grid=grid_values, scoring=eval_metric)\n",
    "    grid_clf_custom.fit(X_twovar_train, y_train)\n",
    "    print('Grid best parameter (max. {0}): {1}'\n",
    "          .format(eval_metric, grid_clf_custom.best_params_))\n",
    "    print('Grid best score ({0}): {1}'\n",
    "          .format(eval_metric, grid_clf_custom.best_score_))\n",
    "    plt.subplots_adjust(wspace=0.3, hspace=0.3)\n",
    "    plot_class_regions_for_classifier_subplot(grid_clf_custom, X_twovar_test, y_test, None,\n",
    "                                             None, None,  plt.subplot(2, 2, i+1))\n",
    "    \n",
    "    plt.title(eval_metric+'-oriented SVC')\n",
    "plt.tight_layout()\n",
    "plt.show()"
   ]
  },
  {
   "cell_type": "markdown",
   "metadata": {},
   "source": [
    "#### Precision-recall curve for the default SVC classifier (with balanced class weights)"
   ]
  },
  {
   "cell_type": "code",
   "execution_count": null,
   "metadata": {
    "collapsed": false,
    "scrolled": false
   },
   "outputs": [],
   "source": [
    "from sklearn.model_selection import train_test_split\n",
    "from sklearn.metrics import precision_recall_curve\n",
    "from adspy_shared_utilities import plot_class_regions_for_classifier\n",
    "from sklearn.svm import SVC\n",
    "\n",
    "dataset = load_digits()\n",
    "X, y = dataset.data, dataset.target == 1\n",
    "X_train, X_test, y_train, y_test = train_test_split(X, y, random_state=0)\n",
    "\n",
    "# create a two-feature input vector matching the example plot above\n",
    "jitter_delta = 0.25\n",
    "X_twovar_train = X_train[:,[20,59]]+ np.random.rand(X_train.shape[0], 2) - jitter_delta\n",
    "X_twovar_test  = X_test[:,[20,59]] + np.random.rand(X_test.shape[0], 2) - jitter_delta\n",
    "\n",
    "clf = SVC(kernel='linear', class_weight='balanced').fit(X_twovar_train, y_train)\n",
    "\n",
    "y_scores = clf.decision_function(X_twovar_test)\n",
    "\n",
    "precision, recall, thresholds = precision_recall_curve(y_test, y_scores)\n",
    "closest_zero = np.argmin(np.abs(thresholds))\n",
    "closest_zero_p = precision[closest_zero]\n",
    "closest_zero_r = recall[closest_zero]\n",
    "\n",
    "plot_class_regions_for_classifier(clf, X_twovar_test, y_test)\n",
    "plt.title(\"SVC, class_weight = 'balanced', optimized for accuracy\")\n",
    "plt.show()\n",
    "\n",
    "plt.figure()\n",
    "plt.xlim([0.0, 1.01])\n",
    "plt.ylim([0.0, 1.01])\n",
    "plt.title (\"Precision-recall curve: SVC, class_weight = 'balanced'\")\n",
    "plt.plot(precision, recall, label = 'Precision-Recall Curve')\n",
    "plt.plot(closest_zero_p, closest_zero_r, 'o', markersize=12, fillstyle='none', c='r', mew=3)\n",
    "plt.xlabel('Precision', fontsize=16)\n",
    "plt.ylabel('Recall', fontsize=16)\n",
    "plt.axes().set_aspect('equal')\n",
    "plt.show()\n",
    "print('At zero threshold, precision: {:.2f}, recall: {:.2f}'\n",
    "      .format(closest_zero_p, closest_zero_r))"
   ]
  },
  {
   "cell_type": "code",
   "execution_count": null,
   "metadata": {
    "collapsed": true
   },
   "outputs": [],
   "source": []
  },
  {
   "cell_type": "code",
   "execution_count": null,
   "metadata": {
    "collapsed": true
   },
   "outputs": [],
   "source": []
  },
  {
   "cell_type": "code",
   "execution_count": null,
   "metadata": {
    "collapsed": true
   },
   "outputs": [],
   "source": []
  },
  {
   "cell_type": "code",
   "execution_count": null,
   "metadata": {
    "collapsed": true
   },
   "outputs": [],
   "source": []
  },
  {
   "cell_type": "code",
   "execution_count": null,
   "metadata": {
    "collapsed": true
   },
   "outputs": [],
   "source": []
  },
  {
   "cell_type": "code",
   "execution_count": null,
   "metadata": {
    "collapsed": true
   },
   "outputs": [],
   "source": []
  },
  {
   "cell_type": "code",
   "execution_count": null,
   "metadata": {
    "collapsed": true
   },
   "outputs": [],
   "source": []
  },
  {
   "cell_type": "code",
   "execution_count": null,
   "metadata": {
    "collapsed": true
   },
   "outputs": [],
   "source": []
  },
  {
   "cell_type": "code",
   "execution_count": null,
   "metadata": {
    "collapsed": true
   },
   "outputs": [],
   "source": []
  },
  {
   "cell_type": "code",
   "execution_count": null,
   "metadata": {
    "collapsed": true
   },
   "outputs": [],
   "source": []
  },
  {
   "cell_type": "code",
   "execution_count": null,
   "metadata": {
    "collapsed": true
   },
   "outputs": [],
   "source": []
  },
  {
   "cell_type": "code",
   "execution_count": null,
   "metadata": {
    "collapsed": true
   },
   "outputs": [],
   "source": []
  },
  {
   "cell_type": "code",
   "execution_count": null,
   "metadata": {
    "collapsed": true
   },
   "outputs": [],
   "source": []
  },
  {
   "cell_type": "code",
   "execution_count": null,
   "metadata": {
    "collapsed": true
   },
   "outputs": [],
   "source": [
    "from sklearn.metrics import roc_curve, auc\n",
    "\n",
    "y_score_lr = lr.fit(X_train, y_train).decision_function(X_test)\n",
    "fpr_lr, tpr_lr, _ = roc_curve(y_test, y_score_lr)\n",
    "roc_auc_lr = auc(fpr_lr, tpr_lr)\n",
    "\n",
    "plt.figure()\n",
    "plt.xlim([-0.01, 1.00])\n",
    "plt.ylim([-0.01, 1.01])\n",
    "plt.plot(fpr_lr, tpr_lr, lw=3, label='LogRegr ROC curve (area = {:0.2f})'.format(roc_auc_lr))\n",
    "plt.xlabel('False Positive Rate', fontsize=16)\n",
    "plt.ylabel('True Positive Rate', fontsize=16)\n",
    "plt.title('ROC curve (1-of-10 digits classifier)', fontsize=16)\n",
    "plt.legend(loc='lower right', fontsize=13)\n",
    "plt.plot([0, 1], [0, 1], color='navy', lw=3, linestyle='--')\n",
    "plt.axes().set_aspect('equal')\n",
    "plt.show()"
   ]
  },
  {
   "cell_type": "code",
   "execution_count": null,
   "metadata": {
    "collapsed": true
   },
   "outputs": [],
   "source": [
    "from sklearn.metrics import precision_recall_curve\n",
    "from sklearn.linear_model import LogisticRegression\n",
    "from sklearn.metrics import roc_curve, auc\n",
    "from sklearn.metrics import precision_recall_curve\n",
    "\n",
    "lr = LogisticRegression().fit(X_train, y_train)\n",
    "lr_predicted = lr.predict(X_test)\n",
    "\n",
    "y_scores_lr = lr.fit(X_train, y_train).decision_function(X_test)\n",
    "precision, recall, thresholds = precision_recall_curve(y_test, y_scores_lr)\n",
    "closest_zero = np.argmin(np.abs(thresholds))\n",
    "closest_zero_p = precision[closest_zero]\n",
    "closest_zero_r = recall[closest_zero]\n",
    "\n",
    "plt.figure()\n",
    "plt.xlim([0.0, 1.01])\n",
    "plt.ylim([0.0, 1.01])\n",
    "plt.plot(precision, recall, label='Precision-Recall Curve')\n",
    "plt.plot(closest_zero_p, closest_zero_r, 'o', markersize = 12, fillstyle = 'none', c='r', mew=3)\n",
    "plt.xlabel('Precision', fontsize=16)\n",
    "plt.ylabel('Recall', fontsize=16)\n",
    "plt.axes().set_aspect('equal')\n",
    "plt.show()"
   ]
  },
  {
   "cell_type": "code",
   "execution_count": null,
   "metadata": {
    "collapsed": true
   },
   "outputs": [],
   "source": []
  },
  {
   "cell_type": "code",
   "execution_count": null,
   "metadata": {
    "collapsed": true
   },
   "outputs": [],
   "source": []
  },
  {
   "cell_type": "code",
   "execution_count": null,
   "metadata": {
    "collapsed": true
   },
   "outputs": [],
   "source": []
  },
  {
   "cell_type": "code",
   "execution_count": null,
   "metadata": {
    "collapsed": true
   },
   "outputs": [],
   "source": []
  },
  {
   "cell_type": "code",
   "execution_count": null,
   "metadata": {
    "collapsed": true
   },
   "outputs": [],
   "source": []
  },
  {
   "cell_type": "code",
   "execution_count": null,
   "metadata": {
    "collapsed": true
   },
   "outputs": [],
   "source": []
  }
 ],
 "metadata": {
  "anaconda-cloud": {},
  "kernelspec": {
   "display_name": "Python 3",
   "language": "python",
   "name": "python3"
  },
  "language_info": {
   "codemirror_mode": {
    "name": "ipython",
    "version": 3
   },
   "file_extension": ".py",
   "mimetype": "text/x-python",
   "name": "python",
   "nbconvert_exporter": "python",
   "pygments_lexer": "ipython3",
   "version": "3.6.2"
  }
 },
 "nbformat": 4,
 "nbformat_minor": 1
}
