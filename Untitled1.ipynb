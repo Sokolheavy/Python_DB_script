{
 "cells": [
  {
   "cell_type": "code",
   "execution_count": null,
   "metadata": {},
   "outputs": [],
   "source": [
    "import numpy as np\n",
    "import pandas as pd\n",
    "\n",
    "from datetime import datetime\n",
    "from sklearn.model_selection import train_test_split\n",
    "\n",
    "from scipy import stats\n",
    "from sklearn import preprocessing \n",
    "import statsmodels\n",
    "import statsmodels.api as sm\n",
    "from statsmodels.formula.api import ols\n",
    "\n",
    "import matplotlib.pylab as plt\n",
    "import seaborn as sns\n",
    "\n",
    "import xgboost as xgb\n",
    "from xgboost import XGBRegressor \n",
    "from xgboost.sklearn import XGBClassifier # sklearn’s Grid Search with parallel processing\n",
    "from xgboost import plot_importance\n",
    "from sklearn.model_selection import GridSearchCV"
   ]
  },
  {
   "cell_type": "code",
   "execution_count": 150,
   "metadata": {},
   "outputs": [],
   "source": [
    "Shipment = pd.read_csv('Shipment_upto35.csv')"
   ]
  },
  {
   "cell_type": "code",
   "execution_count": 224,
   "metadata": {},
   "outputs": [
    {
     "data": {
      "text/html": [
       "<div>\n",
       "<style scoped>\n",
       "    .dataframe tbody tr th:only-of-type {\n",
       "        vertical-align: middle;\n",
       "    }\n",
       "\n",
       "    .dataframe tbody tr th {\n",
       "        vertical-align: top;\n",
       "    }\n",
       "\n",
       "    .dataframe thead th {\n",
       "        text-align: right;\n",
       "    }\n",
       "</style>\n",
       "<table border=\"1\" class=\"dataframe\">\n",
       "  <thead>\n",
       "    <tr style=\"text-align: right;\">\n",
       "      <th></th>\n",
       "      <th>APG</th>\n",
       "      <th>APG:FU</th>\n",
       "      <th>Actuals</th>\n",
       "      <th>FU</th>\n",
       "      <th>Year</th>\n",
       "      <th>Month</th>\n",
       "      <th>Quarter</th>\n",
       "      <th>Year_2</th>\n",
       "      <th>Quarter_2</th>\n",
       "      <th>Month_2</th>\n",
       "      <th>Year_2_Quarter_2</th>\n",
       "      <th>Year_2_Month_2</th>\n",
       "      <th>Quarter_2_Month_2</th>\n",
       "    </tr>\n",
       "  </thead>\n",
       "  <tbody>\n",
       "    <tr>\n",
       "      <td>0</td>\n",
       "      <td>UGB001</td>\n",
       "      <td>UGB001##3100:IGB0007</td>\n",
       "      <td>1170.0</td>\n",
       "      <td>IGB0007</td>\n",
       "      <td>2016</td>\n",
       "      <td>1</td>\n",
       "      <td>1</td>\n",
       "      <td>2016</td>\n",
       "      <td>1</td>\n",
       "      <td>1</td>\n",
       "      <td>20161</td>\n",
       "      <td>20161</td>\n",
       "      <td>11</td>\n",
       "    </tr>\n",
       "    <tr>\n",
       "      <td>1</td>\n",
       "      <td>UGB001</td>\n",
       "      <td>UGB001##3100:IGB0007</td>\n",
       "      <td>1950.0</td>\n",
       "      <td>IGB0007</td>\n",
       "      <td>2016</td>\n",
       "      <td>2</td>\n",
       "      <td>1</td>\n",
       "      <td>2016</td>\n",
       "      <td>1</td>\n",
       "      <td>2</td>\n",
       "      <td>20161</td>\n",
       "      <td>20162</td>\n",
       "      <td>12</td>\n",
       "    </tr>\n",
       "    <tr>\n",
       "      <td>2</td>\n",
       "      <td>UGB001</td>\n",
       "      <td>UGB001##3100:IGB0007</td>\n",
       "      <td>2145.0</td>\n",
       "      <td>IGB0007</td>\n",
       "      <td>2016</td>\n",
       "      <td>3</td>\n",
       "      <td>1</td>\n",
       "      <td>2016</td>\n",
       "      <td>1</td>\n",
       "      <td>3</td>\n",
       "      <td>20161</td>\n",
       "      <td>20163</td>\n",
       "      <td>13</td>\n",
       "    </tr>\n",
       "    <tr>\n",
       "      <td>3</td>\n",
       "      <td>UGB001</td>\n",
       "      <td>UGB001##3100:IGB0007</td>\n",
       "      <td>1170.0</td>\n",
       "      <td>IGB0007</td>\n",
       "      <td>2016</td>\n",
       "      <td>4</td>\n",
       "      <td>1</td>\n",
       "      <td>2016</td>\n",
       "      <td>1</td>\n",
       "      <td>4</td>\n",
       "      <td>20161</td>\n",
       "      <td>20164</td>\n",
       "      <td>14</td>\n",
       "    </tr>\n",
       "    <tr>\n",
       "      <td>4</td>\n",
       "      <td>UGB001</td>\n",
       "      <td>UGB001##3100:IGB0007</td>\n",
       "      <td>2340.0</td>\n",
       "      <td>IGB0007</td>\n",
       "      <td>2016</td>\n",
       "      <td>5</td>\n",
       "      <td>1</td>\n",
       "      <td>2016</td>\n",
       "      <td>1</td>\n",
       "      <td>5</td>\n",
       "      <td>20161</td>\n",
       "      <td>20165</td>\n",
       "      <td>15</td>\n",
       "    </tr>\n",
       "  </tbody>\n",
       "</table>\n",
       "</div>"
      ],
      "text/plain": [
       "      APG                APG:FU  Actuals       FU  Year  Month  Quarter  \\\n",
       "0  UGB001  UGB001##3100:IGB0007   1170.0  IGB0007  2016      1        1   \n",
       "1  UGB001  UGB001##3100:IGB0007   1950.0  IGB0007  2016      2        1   \n",
       "2  UGB001  UGB001##3100:IGB0007   2145.0  IGB0007  2016      3        1   \n",
       "3  UGB001  UGB001##3100:IGB0007   1170.0  IGB0007  2016      4        1   \n",
       "4  UGB001  UGB001##3100:IGB0007   2340.0  IGB0007  2016      5        1   \n",
       "\n",
       "  Year_2 Quarter_2 Month_2 Year_2_Quarter_2 Year_2_Month_2 Quarter_2_Month_2  \n",
       "0   2016         1       1            20161          20161                11  \n",
       "1   2016         1       2            20161          20162                12  \n",
       "2   2016         1       3            20161          20163                13  \n",
       "3   2016         1       4            20161          20164                14  \n",
       "4   2016         1       5            20161          20165                15  "
      ]
     },
     "execution_count": 224,
     "metadata": {},
     "output_type": "execute_result"
    }
   ],
   "source": [
    "Shipment.head()"
   ]
  },
  {
   "cell_type": "code",
   "execution_count": 6,
   "metadata": {},
   "outputs": [
    {
     "data": {
      "text/plain": [
       "(351457, 6)"
      ]
     },
     "execution_count": 6,
     "metadata": {},
     "output_type": "execute_result"
    }
   ],
   "source": [
    "Shipment.shape"
   ]
  },
  {
   "cell_type": "code",
   "execution_count": 28,
   "metadata": {},
   "outputs": [
    {
     "data": {
      "text/plain": [
       "APG         object\n",
       "APG:FU      object\n",
       "Actuals    float64\n",
       "FU          object\n",
       "Week         int64\n",
       "Year        object\n",
       "base        object\n",
       "Week2        int64\n",
       "Quarter      int64\n",
       "dtype: object"
      ]
     },
     "execution_count": 28,
     "metadata": {},
     "output_type": "execute_result"
    }
   ],
   "source": [
    "Shipment.dtypes"
   ]
  },
  {
   "cell_type": "code",
   "execution_count": 151,
   "metadata": {},
   "outputs": [],
   "source": [
    "Shipment.drop('DP Lag4', axis =1, inplace = True)\n",
    "Shipment['base'] = Shipment.Week.astype(str)\n",
    "Shipment['Year'] = Shipment.base.apply(lambda x: x[0:4]).astype(int)\n",
    "Shipment['Month'] = Shipment.base.apply(lambda x: x[5] if x[4] == '0' else x[4:6]).astype(int)\n",
    "Shipment['Quarter'] = np.where(Shipment.Month<13, 1, np.where(Shipment.Month<25, 2, np.where(Shipment.Month<37, 3, 4)))"
   ]
  },
  {
   "cell_type": "code",
   "execution_count": 48,
   "metadata": {},
   "outputs": [
    {
     "data": {
      "text/plain": [
       "APG         object\n",
       "APG:FU      object\n",
       "Actuals    float64\n",
       "FU          object\n",
       "Week         int64\n",
       "Year         int32\n",
       "base        object\n",
       "Week2       object\n",
       "Quarter      int32\n",
       "Month        int32\n",
       "dtype: object"
      ]
     },
     "execution_count": 48,
     "metadata": {},
     "output_type": "execute_result"
    }
   ],
   "source": [
    "Shipment.dtypes"
   ]
  },
  {
   "cell_type": "code",
   "execution_count": 152,
   "metadata": {},
   "outputs": [],
   "source": [
    "Shipment.drop(['Week', 'base'], axis = 1, inplace = True)"
   ]
  },
  {
   "cell_type": "code",
   "execution_count": 33,
   "metadata": {},
   "outputs": [
    {
     "data": {
      "text/plain": [
       "APG         object\n",
       "APG:FU      object\n",
       "Actuals    float64\n",
       "FU          object\n",
       "Year         int32\n",
       "Month        int32\n",
       "Quarter      int32\n",
       "dtype: object"
      ]
     },
     "execution_count": 33,
     "metadata": {},
     "output_type": "execute_result"
    }
   ],
   "source": [
    "Shipment.dtypes"
   ]
  },
  {
   "cell_type": "code",
   "execution_count": 68,
   "metadata": {},
   "outputs": [
    {
     "data": {
      "text/html": [
       "<div>\n",
       "<style scoped>\n",
       "    .dataframe tbody tr th:only-of-type {\n",
       "        vertical-align: middle;\n",
       "    }\n",
       "\n",
       "    .dataframe tbody tr th {\n",
       "        vertical-align: top;\n",
       "    }\n",
       "\n",
       "    .dataframe thead th {\n",
       "        text-align: right;\n",
       "    }\n",
       "</style>\n",
       "<table border=\"1\" class=\"dataframe\">\n",
       "  <thead>\n",
       "    <tr style=\"text-align: right;\">\n",
       "      <th></th>\n",
       "      <th>APG</th>\n",
       "      <th>APG:FU</th>\n",
       "      <th>Actuals</th>\n",
       "      <th>FU</th>\n",
       "      <th>Year</th>\n",
       "      <th>Quarter</th>\n",
       "      <th>Month</th>\n",
       "    </tr>\n",
       "  </thead>\n",
       "  <tbody>\n",
       "    <tr>\n",
       "      <td>0</td>\n",
       "      <td>UGB001</td>\n",
       "      <td>UGB001##3100:IGB0007</td>\n",
       "      <td>1170.0</td>\n",
       "      <td>IGB0007</td>\n",
       "      <td>2016</td>\n",
       "      <td>1</td>\n",
       "      <td>1</td>\n",
       "    </tr>\n",
       "    <tr>\n",
       "      <td>1</td>\n",
       "      <td>UGB001</td>\n",
       "      <td>UGB001##3100:IGB0007</td>\n",
       "      <td>1950.0</td>\n",
       "      <td>IGB0007</td>\n",
       "      <td>2016</td>\n",
       "      <td>1</td>\n",
       "      <td>2</td>\n",
       "    </tr>\n",
       "    <tr>\n",
       "      <td>2</td>\n",
       "      <td>UGB001</td>\n",
       "      <td>UGB001##3100:IGB0007</td>\n",
       "      <td>2145.0</td>\n",
       "      <td>IGB0007</td>\n",
       "      <td>2016</td>\n",
       "      <td>1</td>\n",
       "      <td>3</td>\n",
       "    </tr>\n",
       "    <tr>\n",
       "      <td>3</td>\n",
       "      <td>UGB001</td>\n",
       "      <td>UGB001##3100:IGB0007</td>\n",
       "      <td>1170.0</td>\n",
       "      <td>IGB0007</td>\n",
       "      <td>2016</td>\n",
       "      <td>1</td>\n",
       "      <td>4</td>\n",
       "    </tr>\n",
       "    <tr>\n",
       "      <td>4</td>\n",
       "      <td>UGB001</td>\n",
       "      <td>UGB001##3100:IGB0007</td>\n",
       "      <td>2340.0</td>\n",
       "      <td>IGB0007</td>\n",
       "      <td>2016</td>\n",
       "      <td>1</td>\n",
       "      <td>5</td>\n",
       "    </tr>\n",
       "  </tbody>\n",
       "</table>\n",
       "</div>"
      ],
      "text/plain": [
       "      APG                APG:FU  Actuals       FU  Year  Quarter  Month\n",
       "0  UGB001  UGB001##3100:IGB0007   1170.0  IGB0007  2016        1      1\n",
       "1  UGB001  UGB001##3100:IGB0007   1950.0  IGB0007  2016        1      2\n",
       "2  UGB001  UGB001##3100:IGB0007   2145.0  IGB0007  2016        1      3\n",
       "3  UGB001  UGB001##3100:IGB0007   1170.0  IGB0007  2016        1      4\n",
       "4  UGB001  UGB001##3100:IGB0007   2340.0  IGB0007  2016        1      5"
      ]
     },
     "execution_count": 68,
     "metadata": {},
     "output_type": "execute_result"
    }
   ],
   "source": [
    "Shipment.head()"
   ]
  },
  {
   "cell_type": "code",
   "execution_count": null,
   "metadata": {},
   "outputs": [],
   "source": [
    "var = 'Year_2'\n",
    "target = 'Actuals'\n",
    "df_test = Shipment\n",
    "Shipment_copy = Shipment.copy()"
   ]
  },
  {
   "cell_type": "code",
   "execution_count": null,
   "metadata": {},
   "outputs": [],
   "source": [
    "# check and remove constant columns\n",
    "colsToRemove = []\n",
    "for col in df_test.columns:\n",
    "    if col != 'ID' and col != 'target':\n",
    "        if train_df[col].std() == 0: \n",
    "            colsToRemove.append(col)\n",
    "        \n",
    "# remove constant columns in the training set\n",
    "df_test.drop(colsToRemove, axis=1, inplace=True)\n",
    "\n",
    "# remove constant columns in the test set\n",
    "df_test.drop(colsToRemove, axis=1, inplace=True) \n",
    "\n",
    "print(\"Removed `{}` Constant Columns\\n\".format(len(colsToRemove)))\n",
    "print(colsToRemove)"
   ]
  },
  {
   "cell_type": "code",
   "execution_count": 77,
   "metadata": {},
   "outputs": [
    {
     "data": {
      "text/plain": [
       "<matplotlib.axes._subplots.AxesSubplot at 0xc304e48>"
      ]
     },
     "execution_count": 77,
     "metadata": {},
     "output_type": "execute_result"
    },
    {
     "data": {
      "image/png": "[encoded data removed]",
      "text/plain": [
       "<Figure size 864x648 with 2 Axes>"
      ]
     },
     "metadata": {
      "needs_background": "light"
     },
     "output_type": "display_data"
    }
   ],
   "source": [
    "colormap = plt.cm.RdBu\n",
    "corrmat =Shipment.corr()\n",
    "plt.subplots(figsize = (12, 9))\n",
    "sns.heatmap(corrmat,  linewidths=0.1, vmax=1.0, \n",
    "            square=True, cmap=colormap, linecolor='white', annot=True)"
   ]
  },
  {
   "cell_type": "code",
   "execution_count": 153,
   "metadata": {},
   "outputs": [],
   "source": [
    "vars_to_object = ['Year', 'Quarter', 'Month']\n",
    "for i in vars_to_object:\n",
    "    new_var = i + '_2'\n",
    "    Shipment[new_var] = Shipment[i].astype(str)"
   ]
  },
  {
   "cell_type": "code",
   "execution_count": 173,
   "metadata": {},
   "outputs": [
    {
     "data": {
      "text/plain": [
       "Index(['APG', 'APG:FU', 'Actuals', 'FU', 'Year', 'Month', 'Quarter', 'Year_2',\n",
       "       'Quarter_2', 'Month_2'],\n",
       "      dtype='object')"
      ]
     },
     "execution_count": 173,
     "metadata": {},
     "output_type": "execute_result"
    }
   ],
   "source": [
    "Shipment.columns"
   ]
  },
  {
   "cell_type": "code",
   "execution_count": 170,
   "metadata": {},
   "outputs": [],
   "source": [
    "Shipment = Shipment_copy.copy()"
   ]
  },
  {
   "cell_type": "code",
   "execution_count": 40,
   "metadata": {},
   "outputs": [],
   "source": [
    "def var_imp(var, target, df_test):\n",
    "    # Test whether a target distribution differs from a normal distribution\n",
    "    norm_stats, p_norm = stats.normaltest(df_test[target])\n",
    "    if p_norm < 0.05:\n",
    "        # ANOVA\n",
    "        var_in_formula = \"Q('{}')\".format(var) \n",
    "        formula = \"{} ~ {}\".format(target, var)\n",
    "        model = ols(formula, df_test).fit() \n",
    "        table = sm.stats.anova_lm(model, typ=2) \n",
    "        stat_a, p_a = table.iloc[0,2], table.iloc[0,3]\n",
    "        print('Statistics ANOVA of %s: %.3f, %.3f' % (var, stat_a, p_a))\n",
    "    else:\n",
    "        # kruskal\n",
    "        kruskal = scipy.stats.kruskal(*[group[target].values for name, group in df_test.groupby(var)])\n",
    "        stat_k, p_k = [kruskal[i] for i in range(0, 2)] \n",
    "        print('Statistics = %.3f, %.3f' % (stat_k, p_k))"
   ]
  },
  {
   "cell_type": "code",
   "execution_count": 155,
   "metadata": {},
   "outputs": [],
   "source": [
    "vars_for_creation = ['Year_2', 'Quarter_2', 'Month_2']"
   ]
  },
  {
   "cell_type": "code",
   "execution_count": 181,
   "metadata": {},
   "outputs": [],
   "source": [
    "def var_create(vars_for_creation, df_test):\n",
    "    global var_test\n",
    "    var_test = vars_for_creation.copy()\n",
    "    for i in range(0, len(vars_for_creation)):\n",
    "        for j in range(i + 1, len(vars_for_creation)):\n",
    "            if i<j:\n",
    "                new_col_name = df_test.loc[:,vars_for_creation[i]].name + '_' + df_test.loc[:,vars_for_creation[j]].name\n",
    "                df_test[new_col_name] = df_test.loc[:,vars_for_creation[i]] + df_test.loc[:,vars_for_creation[j]] \n",
    "                var_test.append(new_col_name)"
   ]
  },
  {
   "cell_type": "code",
   "execution_count": 182,
   "metadata": {},
   "outputs": [],
   "source": [
    "var_create(vars_for_creation, df_test)"
   ]
  },
  {
   "cell_type": "code",
   "execution_count": 183,
   "metadata": {},
   "outputs": [
    {
     "data": {
      "text/html": [
       "<div>\n",
       "<style scoped>\n",
       "    .dataframe tbody tr th:only-of-type {\n",
       "        vertical-align: middle;\n",
       "    }\n",
       "\n",
       "    .dataframe tbody tr th {\n",
       "        vertical-align: top;\n",
       "    }\n",
       "\n",
       "    .dataframe thead th {\n",
       "        text-align: right;\n",
       "    }\n",
       "</style>\n",
       "<table border=\"1\" class=\"dataframe\">\n",
       "  <thead>\n",
       "    <tr style=\"text-align: right;\">\n",
       "      <th></th>\n",
       "      <th>APG</th>\n",
       "      <th>APG:FU</th>\n",
       "      <th>Actuals</th>\n",
       "      <th>FU</th>\n",
       "      <th>Year</th>\n",
       "      <th>Month</th>\n",
       "      <th>Quarter</th>\n",
       "      <th>Year_2</th>\n",
       "      <th>Quarter_2</th>\n",
       "      <th>Month_2</th>\n",
       "      <th>Year_2_Quarter_2</th>\n",
       "      <th>Year_2_Month_2</th>\n",
       "      <th>Quarter_2_Month_2</th>\n",
       "    </tr>\n",
       "  </thead>\n",
       "  <tbody>\n",
       "    <tr>\n",
       "      <td>0</td>\n",
       "      <td>UGB001</td>\n",
       "      <td>UGB001##3100:IGB0007</td>\n",
       "      <td>1170.0</td>\n",
       "      <td>IGB0007</td>\n",
       "      <td>2016</td>\n",
       "      <td>1</td>\n",
       "      <td>1</td>\n",
       "      <td>2016</td>\n",
       "      <td>1</td>\n",
       "      <td>1</td>\n",
       "      <td>20161</td>\n",
       "      <td>20161</td>\n",
       "      <td>11</td>\n",
       "    </tr>\n",
       "    <tr>\n",
       "      <td>1</td>\n",
       "      <td>UGB001</td>\n",
       "      <td>UGB001##3100:IGB0007</td>\n",
       "      <td>1950.0</td>\n",
       "      <td>IGB0007</td>\n",
       "      <td>2016</td>\n",
       "      <td>2</td>\n",
       "      <td>1</td>\n",
       "      <td>2016</td>\n",
       "      <td>1</td>\n",
       "      <td>2</td>\n",
       "      <td>20161</td>\n",
       "      <td>20162</td>\n",
       "      <td>12</td>\n",
       "    </tr>\n",
       "    <tr>\n",
       "      <td>2</td>\n",
       "      <td>UGB001</td>\n",
       "      <td>UGB001##3100:IGB0007</td>\n",
       "      <td>2145.0</td>\n",
       "      <td>IGB0007</td>\n",
       "      <td>2016</td>\n",
       "      <td>3</td>\n",
       "      <td>1</td>\n",
       "      <td>2016</td>\n",
       "      <td>1</td>\n",
       "      <td>3</td>\n",
       "      <td>20161</td>\n",
       "      <td>20163</td>\n",
       "      <td>13</td>\n",
       "    </tr>\n",
       "    <tr>\n",
       "      <td>3</td>\n",
       "      <td>UGB001</td>\n",
       "      <td>UGB001##3100:IGB0007</td>\n",
       "      <td>1170.0</td>\n",
       "      <td>IGB0007</td>\n",
       "      <td>2016</td>\n",
       "      <td>4</td>\n",
       "      <td>1</td>\n",
       "      <td>2016</td>\n",
       "      <td>1</td>\n",
       "      <td>4</td>\n",
       "      <td>20161</td>\n",
       "      <td>20164</td>\n",
       "      <td>14</td>\n",
       "    </tr>\n",
       "    <tr>\n",
       "      <td>4</td>\n",
       "      <td>UGB001</td>\n",
       "      <td>UGB001##3100:IGB0007</td>\n",
       "      <td>2340.0</td>\n",
       "      <td>IGB0007</td>\n",
       "      <td>2016</td>\n",
       "      <td>5</td>\n",
       "      <td>1</td>\n",
       "      <td>2016</td>\n",
       "      <td>1</td>\n",
       "      <td>5</td>\n",
       "      <td>20161</td>\n",
       "      <td>20165</td>\n",
       "      <td>15</td>\n",
       "    </tr>\n",
       "  </tbody>\n",
       "</table>\n",
       "</div>"
      ],
      "text/plain": [
       "      APG                APG:FU  Actuals       FU  Year  Month  Quarter  \\\n",
       "0  UGB001  UGB001##3100:IGB0007   1170.0  IGB0007  2016      1        1   \n",
       "1  UGB001  UGB001##3100:IGB0007   1950.0  IGB0007  2016      2        1   \n",
       "2  UGB001  UGB001##3100:IGB0007   2145.0  IGB0007  2016      3        1   \n",
       "3  UGB001  UGB001##3100:IGB0007   1170.0  IGB0007  2016      4        1   \n",
       "4  UGB001  UGB001##3100:IGB0007   2340.0  IGB0007  2016      5        1   \n",
       "\n",
       "  Year_2 Quarter_2 Month_2 Year_2_Quarter_2 Year_2_Month_2 Quarter_2_Month_2  \n",
       "0   2016         1       1            20161          20161                11  \n",
       "1   2016         1       2            20161          20162                12  \n",
       "2   2016         1       3            20161          20163                13  \n",
       "3   2016         1       4            20161          20164                14  \n",
       "4   2016         1       5            20161          20165                15  "
      ]
     },
     "execution_count": 183,
     "metadata": {},
     "output_type": "execute_result"
    }
   ],
   "source": [
    "df_test.head()"
   ]
  },
  {
   "cell_type": "code",
   "execution_count": 184,
   "metadata": {},
   "outputs": [
    {
     "data": {
      "text/plain": [
       "['Year_2',\n",
       " 'Quarter_2',\n",
       " 'Month_2',\n",
       " 'Year_2_Quarter_2',\n",
       " 'Year_2_Month_2',\n",
       " 'Quarter_2_Month_2']"
      ]
     },
     "execution_count": 184,
     "metadata": {},
     "output_type": "execute_result"
    }
   ],
   "source": [
    "var_test"
   ]
  },
  {
   "cell_type": "code",
   "execution_count": 185,
   "metadata": {},
   "outputs": [
    {
     "name": "stdout",
     "output_type": "stream",
     "text": [
      "Statistics ANOVA of Year_2: 10.656, 0.000\n",
      "Statistics ANOVA of Quarter_2: 170.536, 0.000\n",
      "Statistics ANOVA of Month_2: 31.206, 0.000\n",
      "Statistics ANOVA of Year_2_Quarter_2: 83.478, 0.000\n",
      "Statistics ANOVA of Year_2_Month_2: 17.994, 0.000\n",
      "Statistics ANOVA of Quarter_2_Month_2: 31.206, 0.000\n"
     ]
    }
   ],
   "source": [
    "for var in var_test:\n",
    "    var_imp(var, target, df_test)"
   ]
  },
  {
   "cell_type": "code",
   "execution_count": null,
   "metadata": {},
   "outputs": [],
   "source": []
  },
  {
   "cell_type": "markdown",
   "metadata": {},
   "source": [
    "## Modeling:"
   ]
  },
  {
   "cell_type": "code",
   "execution_count": 199,
   "metadata": {},
   "outputs": [],
   "source": [
    "data = df_test.iloc[:, :7]"
   ]
  },
  {
   "cell_type": "code",
   "execution_count": 225,
   "metadata": {},
   "outputs": [],
   "source": [
    "data.to_csv('data.csv')"
   ]
  },
  {
   "cell_type": "code",
   "execution_count": 26,
   "metadata": {},
   "outputs": [],
   "source": [
    "data = pd.read_csv('data.csv')"
   ]
  },
  {
   "cell_type": "code",
   "execution_count": 29,
   "metadata": {},
   "outputs": [],
   "source": [
    "data2 = data.sample(frac = 0.01).copy()"
   ]
  },
  {
   "cell_type": "code",
   "execution_count": 30,
   "metadata": {},
   "outputs": [
    {
     "data": {
      "text/html": [
       "<div>\n",
       "<style scoped>\n",
       "    .dataframe tbody tr th:only-of-type {\n",
       "        vertical-align: middle;\n",
       "    }\n",
       "\n",
       "    .dataframe tbody tr th {\n",
       "        vertical-align: top;\n",
       "    }\n",
       "\n",
       "    .dataframe thead th {\n",
       "        text-align: right;\n",
       "    }\n",
       "</style>\n",
       "<table border=\"1\" class=\"dataframe\">\n",
       "  <thead>\n",
       "    <tr style=\"text-align: right;\">\n",
       "      <th></th>\n",
       "      <th>Unnamed: 0</th>\n",
       "      <th>APG</th>\n",
       "      <th>APG:FU</th>\n",
       "      <th>Actuals</th>\n",
       "      <th>FU</th>\n",
       "      <th>Year</th>\n",
       "      <th>Month</th>\n",
       "      <th>Quarter</th>\n",
       "    </tr>\n",
       "  </thead>\n",
       "  <tbody>\n",
       "    <tr>\n",
       "      <td>9977</td>\n",
       "      <td>9977</td>\n",
       "      <td>1</td>\n",
       "      <td>433</td>\n",
       "      <td>0.0</td>\n",
       "      <td>56</td>\n",
       "      <td>2016</td>\n",
       "      <td>40</td>\n",
       "      <td>4</td>\n",
       "    </tr>\n",
       "    <tr>\n",
       "      <td>298232</td>\n",
       "      <td>298232</td>\n",
       "      <td>12</td>\n",
       "      <td>3464</td>\n",
       "      <td>440.0</td>\n",
       "      <td>155</td>\n",
       "      <td>2018</td>\n",
       "      <td>18</td>\n",
       "      <td>2</td>\n",
       "    </tr>\n",
       "    <tr>\n",
       "      <td>225359</td>\n",
       "      <td>225359</td>\n",
       "      <td>14</td>\n",
       "      <td>4569</td>\n",
       "      <td>346.0</td>\n",
       "      <td>407</td>\n",
       "      <td>2017</td>\n",
       "      <td>29</td>\n",
       "      <td>3</td>\n",
       "    </tr>\n",
       "    <tr>\n",
       "      <td>235385</td>\n",
       "      <td>235385</td>\n",
       "      <td>15</td>\n",
       "      <td>4991</td>\n",
       "      <td>0.0</td>\n",
       "      <td>379</td>\n",
       "      <td>2017</td>\n",
       "      <td>30</td>\n",
       "      <td>3</td>\n",
       "    </tr>\n",
       "    <tr>\n",
       "      <td>282246</td>\n",
       "      <td>282246</td>\n",
       "      <td>7</td>\n",
       "      <td>2228</td>\n",
       "      <td>0.0</td>\n",
       "      <td>5</td>\n",
       "      <td>2018</td>\n",
       "      <td>3</td>\n",
       "      <td>1</td>\n",
       "    </tr>\n",
       "  </tbody>\n",
       "</table>\n",
       "</div>"
      ],
      "text/plain": [
       "        Unnamed: 0  APG  APG:FU  Actuals   FU  Year  Month  Quarter\n",
       "9977          9977    1     433      0.0   56  2016     40        4\n",
       "298232      298232   12    3464    440.0  155  2018     18        2\n",
       "225359      225359   14    4569    346.0  407  2017     29        3\n",
       "235385      235385   15    4991      0.0  379  2017     30        3\n",
       "282246      282246    7    2228      0.0    5  2018      3        1"
      ]
     },
     "execution_count": 30,
     "metadata": {},
     "output_type": "execute_result"
    }
   ],
   "source": [
    "data2.head()"
   ]
  },
  {
   "cell_type": "code",
   "execution_count": 37,
   "metadata": {},
   "outputs": [],
   "source": [
    "dev = data2.sample(frac = 0.7)\n",
    "test = data2.loc[[ind for ind in data2.index if ind not in dev.index], ]"
   ]
  },
  {
   "cell_type": "code",
   "execution_count": 200,
   "metadata": {},
   "outputs": [],
   "source": [
    "from sklearn import preprocessing\n",
    "le = preprocessing.LabelEncoder()\n",
    "\n",
    "for i in range(0, data.shape[1]):\n",
    "    if data.dtypes[i]=='object':\n",
    "        data[data.columns[i]] = le.fit_transform(data[data.columns[i]])"
   ]
  },
  {
   "cell_type": "code",
   "execution_count": 3,
   "metadata": {},
   "outputs": [
    {
     "data": {
      "text/plain": [
       "Unnamed: 0      int64\n",
       "APG             int64\n",
       "APG:FU          int64\n",
       "Actuals       float64\n",
       "FU              int64\n",
       "Year            int64\n",
       "Month           int64\n",
       "Quarter         int64\n",
       "dtype: object"
      ]
     },
     "execution_count": 3,
     "metadata": {},
     "output_type": "execute_result"
    }
   ],
   "source": [
    "data.dtypes"
   ]
  },
  {
   "cell_type": "code",
   "execution_count": 40,
   "metadata": {},
   "outputs": [],
   "source": [
    "X_train, X_Test, y_train, y_test = train_test_split(dev.loc[:, data.columns!='Actuals'], dev['Actuals'], test_size = 0.2, random_state = 0)"
   ]
  },
  {
   "cell_type": "code",
   "execution_count": 19,
   "metadata": {},
   "outputs": [],
   "source": [
    "dtest = pd.concat([y_Test, X_Test],axis=1)\n",
    "dtrain = pd.concat([y_train, X_train],axis=1)"
   ]
  },
  {
   "cell_type": "code",
   "execution_count": null,
   "metadata": {},
   "outputs": [],
   "source": [
    "col = data.loc[:, data.columns!='Actuals'].columns"
   ]
  },
  {
   "cell_type": "markdown",
   "metadata": {},
   "source": [
    "# XGB:"
   ]
  },
  {
   "cell_type": "code",
   "execution_count": 39,
   "metadata": {},
   "outputs": [],
   "source": [
    "def run_xgb(train_X, train_y, val_X, val_y, test_X):\n",
    "    params = {'objective': 'reg:linear', \n",
    "              'eval_metric': 'rmse',\n",
    "              'eta': 0.05,\n",
    "              'max_depth': 15, \n",
    "              'subsample': 0.7, \n",
    "              'colsample_bytree': 0.5,\n",
    "              'alpha':0,\n",
    "              'random_state': 42, \n",
    "              'silent': True}\n",
    "              \n",
    "    \n",
    "    tr_data = xgb.DMatrix(train_X, train_y)\n",
    "    va_data = xgb.DMatrix(val_X, val_y)\n",
    "\n",
    "    watchlist = [(tr_data, 'train'), (va_data, 'valid')]\n",
    "\n",
    "    model_xgb = xgb.train(params, \n",
    "                          tr_data, \n",
    "                          2000, \n",
    "                          watchlist, \n",
    "                          maximize=False, \n",
    "                          early_stopping_rounds = 30, \n",
    "                          verbose_eval=100)\n",
    "\n",
    "    dtest = xgb.DMatrix(test_X)\n",
    "    xgb_pred_y = np.expm1(model_xgb.predict(dtest, ntree_limit=model_xgb.best_ntree_limit))\n",
    "\n",
    "    return xgb_pred_y, model_xgb"
   ]
  },
  {
   "cell_type": "code",
   "execution_count": 43,
   "metadata": {},
   "outputs": [
    {
     "name": "stdout",
     "output_type": "stream",
     "text": [
      "[0]\ttrain-rmse:899.655\tvalid-rmse:1009.04\n",
      "Multiple eval metrics have been passed: 'valid-rmse' will be used for early stopping.\n",
      "\n",
      "Will train until valid-rmse hasn't improved in 30 rounds.\n",
      "Stopping. Best iteration:\n",
      "[53]\ttrain-rmse:366.959\tvalid-rmse:903.24\n",
      "\n"
     ]
    },
    {
     "name": "stderr",
     "output_type": "stream",
     "text": [
      "C:\\ProgramData\\Anaconda3\\lib\\site-packages\\ipykernel_launcher.py:21: RuntimeWarning: overflow encountered in expm1\n"
     ]
    }
   ],
   "source": [
    "pred_test_xgb, model_xgb = run_xgb(X_train, y_train, X_Test, y_test, test.loc[:, test.columns!='Actuals'])"
   ]
  },
  {
   "cell_type": "markdown",
   "metadata": {},
   "source": [
    "# LightGBM:"
   ]
  },
  {
   "cell_type": "code",
   "execution_count": null,
   "metadata": {},
   "outputs": [],
   "source": [
    "def run_lgb(train_X, train_y, val_X, val_y, test_X):\n",
    "    params = {\n",
    "        \"objective\" : \"regression\",\n",
    "        \"metric\" : \"rmse\",\n",
    "        \"num_leaves\" : 35,\n",
    "        \"learning_rate\" : 0.005,\n",
    "        \"bagging_fraction\" : 0.7,\n",
    "        \"feature_fraction\" : 0.5,\n",
    "        \"bagging_frequency\" : 5,\n",
    "        \"bagging_seed\" : 42,\n",
    "        \"verbosity\" : -1,\n",
    "        \"random_seed\": 42\n",
    "    }\n",
    "    \n",
    "    lgtrain = lgb.Dataset(train_X, label=train_y)\n",
    "    lgval = lgb.Dataset(val_X, label=val_y)\n",
    "    evals_result = {}\n",
    "    model = lgb.train(params, lgtrain, 5000, \n",
    "                      valid_sets=[lgval], \n",
    "                      early_stopping_rounds=100, \n",
    "                      verbose_eval=50, \n",
    "                      evals_result=evals_result)\n",
    "    \n",
    "    pred_test_y = np.expm1(model.predict(test_X, num_iteration=model.best_iteration))\n",
    "    return pred_test_y, model, evals_result"
   ]
  },
  {
   "cell_type": "code",
   "execution_count": null,
   "metadata": {},
   "outputs": [],
   "source": [
    "pred_test, model, evals_result = run_lgb(dev_X, dev_y, val_X, val_y, X_test)"
   ]
  },
  {
   "cell_type": "code",
   "execution_count": null,
   "metadata": {},
   "outputs": [],
   "source": [
    "# feature importance\n",
    "print(\"Features Importance...\")\n",
    "gain = model.feature_importance('gain')\n",
    "featureimp = pd.DataFrame({'feature':model.feature_name(), \n",
    "                   'split':model.feature_importance('split'), \n",
    "                   'gain':100 * gain / gain.sum()}).sort_values('gain', ascending=False)\n",
    "print(featureimp)"
   ]
  },
  {
   "cell_type": "code",
   "execution_count": null,
   "metadata": {},
   "outputs": [],
   "source": []
  },
  {
   "cell_type": "code",
   "execution_count": null,
   "metadata": {},
   "outputs": [],
   "source": [
    "def run_cat_b(train_X, train_y, val_X, val_y, test_X):\n",
    "   cb_model = CatBoostRegressor(iterations=1000, \n",
    "                                learning_rate=0.1, \n",
    "                                depth=8, \n",
    "                                l2_leaf_reg=20, \n",
    "                                bootstrap_type='Bernoulli',  \n",
    "                                eval_metric='RMSE', \n",
    "                                metric_period=50, \n",
    "                                od_type='Iter', \n",
    "                                od_wait=45, \n",
    "                                random_seed=17, \n",
    "                                allow_writing_files=False)\n",
    "                                \n",
    "    cb_model.fit(train_X, \n",
    "                 train_y, \n",
    "                 eval_set=(val_X, val_y), \n",
    "                 cat_features=[], \n",
    "                 use_best_model=True, \n",
    "                 verbose=True)\n",
    "                 \n",
    "    pred_test_y = np.expm1(model.predict(test_X, num_iteration=model.best_iteration))\n",
    "    return pred_test_y, model, evals_result \n",
    "    \n",
    "    \n",
    "    \n",
    "    oof_preds[val_idx] = cb_model.predict(val_x)\n",
    "    sub_preds += cb_model.predict(test) / folds.n_splits\n",
    "    print(\"Fold %2d RMSLE : %.6f\" % (n_fold+1, rmsle(np.exp(val_y)-1, np.exp(oof_preds[val_idx])-1)))\n",
    "\n",
    "print(\"Full RMSLE score %.6f\" % rmsle(np.exp(target)-1, np.exp(oof_preds)-1)) \n",
    "subm['target'] = np.exp(sub_preds)-1"
   ]
  },
  {
   "cell_type": "code",
   "execution_count": null,
   "metadata": {},
   "outputs": [],
   "source": []
  },
  {
   "cell_type": "code",
   "execution_count": null,
   "metadata": {},
   "outputs": [],
   "source": []
  },
  {
   "cell_type": "code",
   "execution_count": null,
   "metadata": {},
   "outputs": [],
   "source": []
  },
  {
   "cell_type": "code",
   "execution_count": null,
   "metadata": {},
   "outputs": [],
   "source": []
  },
  {
   "cell_type": "code",
   "execution_count": null,
   "metadata": {},
   "outputs": [],
   "source": []
  },
  {
   "cell_type": "code",
   "execution_count": null,
   "metadata": {},
   "outputs": [],
   "source": []
  },
  {
   "cell_type": "markdown",
   "metadata": {},
   "source": [
    "## Tunning Parameters:"
   ]
  },
  {
   "cell_type": "code",
   "execution_count": null,
   "metadata": {},
   "outputs": [],
   "source": []
  },
  {
   "cell_type": "code",
   "execution_count": 21,
   "metadata": {},
   "outputs": [],
   "source": []
  },
  {
   "cell_type": "code",
   "execution_count": 22,
   "metadata": {},
   "outputs": [],
   "source": [
    "xgb_model = xgb.XGBRegressor(colsample_bytree=0.4,\n",
    "                 gamma=0,                 \n",
    "                 learning_rate=0.1,\n",
    "                 max_depth=3,\n",
    "                 min_child_weight=1.5,\n",
    "                 n_estimators=1000,                                                                    \n",
    "                 reg_alpha=0.75,\n",
    "                 reg_lambda=0.45,\n",
    "                 subsample=0.6,\n",
    "                 seed=42)"
   ]
  },
  {
   "cell_type": "code",
   "execution_count": null,
   "metadata": {},
   "outputs": [],
   "source": [
    "learning_rate = np.arange(0.01, 0.5, 0.02)\n",
    "parameters = dict(learning_rate=learning_rate)\n",
    "\n",
    "print_parameters(learning_rate, 'learning_rate', parameters)"
   ]
  },
  {
   "cell_type": "code",
   "execution_count": null,
   "metadata": {},
   "outputs": [],
   "source": [
    "n_estimators = range(100, 1000, 100)\n",
    "parameters = dict(n_estimators=n_estimators)\n",
    "\n",
    "print_parameters(n_estimators, 'n_estimators', parameters)"
   ]
  },
  {
   "cell_type": "code",
   "execution_count": null,
   "metadata": {},
   "outputs": [],
   "source": [
    "max_depth = range(0, 5)\n",
    "parameters = dict(max_depth=max_depth)\n",
    "\n",
    "print_parameters(max_depth, 'max_depth', parameters)"
   ]
  },
  {
   "cell_type": "code",
   "execution_count": null,
   "metadata": {},
   "outputs": [],
   "source": [
    "subsample = np.arange(0.2, 1., 0.2)\n",
    "parameters = dict(subsample=subsample)\n",
    "\n",
    "print_parameters(subsample, 'subsample', parameters)"
   ]
  },
  {
   "cell_type": "code",
   "execution_count": null,
   "metadata": {},
   "outputs": [],
   "source": [
    "colsample_bytree = np.arange(0.2, 1.2, 0.2)\n",
    "parameters = dict(colsample_bytree=colsample_bytree)\n",
    "\n",
    "print_parameters(colsample_bytree, 'colsample_bytree', parameters)"
   ]
  },
  {
   "cell_type": "code",
   "execution_count": null,
   "metadata": {},
   "outputs": [],
   "source": [
    "gamma = np.arange(0.001, 0.1, 0.02)\n",
    "parameters = dict(gamma=gamma)\n",
    "\n",
    "print_parameters(gamma, 'gamma', parameters)"
   ]
  },
  {
   "cell_type": "code",
   "execution_count": null,
   "metadata": {},
   "outputs": [],
   "source": [
    "min_child_weight = np.arange(0.5, 2.0, 0.2)\n",
    "parameters = dict(min_child_weight=min_child_weight)\n",
    "\n",
    "print_parameters(min_child_weight, 'min_child_weight', parameters)"
   ]
  },
  {
   "cell_type": "code",
   "execution_count": null,
   "metadata": {},
   "outputs": [],
   "source": [
    "parameters = {  \n",
    "                'colsample_bytree':[1],\n",
    "                'subsample':[0.4,0.6],\n",
    "                'gamma':[0.041],\n",
    "                'min_child_weight':[1.1,1.3],\n",
    "                'max_depth':[3,5],\n",
    "                'learning_rate':[0.2, 0.25],\n",
    "                'n_estimators':[400],                                                                    \n",
    "                'reg_alpha':[0.75],\n",
    "                'reg_lambda':[0.45],\n",
    "                'seed':[10]"
   ]
  },
  {
   "cell_type": "code",
   "execution_count": null,
   "metadata": {},
   "outputs": [],
   "source": [
    "grid_search = GridSearchCV(estimator = xgb_model,\n",
    "                        param_grid = parameters,\n",
    "                        scoring = 'neg_mean_squared_error',\n",
    "                        cv = 5,\n",
    "                        n_jobs = -1)"
   ]
  },
  {
   "cell_type": "code",
   "execution_count": null,
   "metadata": {},
   "outputs": [],
   "source": [
    "xgb_model = grid_search.fit(X_train, y_train)\n",
    "best_score = grid_search.best_score_\n",
    "best_parameters = grid_search.best_params_\n",
    "accuracies = cross_val_score(estimator=xgb_model, X=X_train, y=y_train, cv=10)\n",
    "accuracies.mean()\n",
    "y_pred = xgb_model.predict(X_test)\n",
    "y_pred = np.floor(np.expm1(y_pred))"
   ]
  }
 ],
 "metadata": {
  "kernelspec": {
   "display_name": "Python 3",
   "language": "python",
   "name": "python3"
  }
 },
 "nbformat": 4,
 "nbformat_minor": 2
}
